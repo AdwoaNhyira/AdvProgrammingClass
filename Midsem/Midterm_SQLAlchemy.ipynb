{
 "cells": [
  {
   "cell_type": "markdown",
   "id": "a65a7aee",
   "metadata": {},
   "source": [
    "“\"\"Name: Adwoa Nhyira Attafuah-Wadee\n",
    "Library: SQLAlchemy\n",
    "URL: https://docs.sqlalchemy.org/en/20/\n",
    "Description:\n",
    "This library is a comprehensive set of tools for working with databases and Python. It is the Python SQL toolkit and Object Relational Mapper that gives application developers and data analysts/scientists the full power and flexibility of SQL. It provides efficient and high-performing database access, adapted into a simple and Pythonic domain language.\"\"\""
   ]
  },
  {
   "cell_type": "markdown",
   "id": "bbd571ae",
   "metadata": {},
   "source": [
    "## Tutorial POV"
   ]
  },
  {
   "cell_type": "markdown",
   "id": "80c124f6",
   "metadata": {},
   "source": [
    "A data scientist creating an analytics dashboard for an e-commerce website."
   ]
  },
  {
   "cell_type": "markdown",
   "id": "5eb2734a",
   "metadata": {},
   "source": [
    "### INSTALLATION"
   ]
  },
  {
   "cell_type": "code",
   "execution_count": null,
   "id": "63118fa1",
   "metadata": {},
   "outputs": [],
   "source": [
    "pip install sqlalchemy"
   ]
  },
  {
   "cell_type": "code",
   "execution_count": 66,
   "id": "f8d1ff52",
   "metadata": {},
   "outputs": [],
   "source": [
    "import matplotlib.pyplot as plt\n",
    "import random\n",
    "import sqlalchemy\n",
    "from sqlalchemy import create_engine, inspect, func, join, select, text, update, Column, Integer, String, Float, ForeignKey, MetaData, Table\n",
    "from sqlalchemy.ext.declarative import declarative_base\n",
    "from sqlalchemy.orm import relationship, sessionmaker\n"
   ]
  },
  {
   "cell_type": "markdown",
   "id": "b4e3918a",
   "metadata": {},
   "source": [
    "### CHECK VERSION"
   ]
  },
  {
   "cell_type": "code",
   "execution_count": null,
   "id": "444a2db7",
   "metadata": {},
   "outputs": [],
   "source": [
    "sqlalchemy.__version__  "
   ]
  },
  {
   "cell_type": "markdown",
   "id": "d6ef7bb3",
   "metadata": {},
   "source": [
    "### UPGRADE VERSION"
   ]
  },
  {
   "cell_type": "code",
   "execution_count": null,
   "id": "fd78e1c9",
   "metadata": {},
   "outputs": [],
   "source": [
    "pip install --upgrade sqlalchemy"
   ]
  },
  {
   "cell_type": "markdown",
   "id": "adc360ee",
   "metadata": {},
   "source": [
    "### CONNECT TO DATABASE"
   ]
  },
  {
   "cell_type": "markdown",
   "id": "02582959",
   "metadata": {},
   "source": [
    "##### SQLAlchemy begins with an object called the Engine. It is a central source of connections to a particular database, providing both a factory as well as a holding space called a connection pool for these database connections."
   ]
  },
  {
   "cell_type": "code",
   "execution_count": 2,
   "id": "71622e68",
   "metadata": {},
   "outputs": [],
   "source": [
    "engine = create_engine(\"sqlite+pysqlite:///ecommercee.db\", echo=True)"
   ]
  },
  {
   "cell_type": "markdown",
   "id": "5cc1b935",
   "metadata": {},
   "source": [
    "### CRUD (Create, Retrieve, Update, Delete)"
   ]
  },
  {
   "cell_type": "markdown",
   "id": "954b9c9b",
   "metadata": {},
   "source": [
    "####  CREATE CLASSES (DATA TABLES)"
   ]
  },
  {
   "cell_type": "markdown",
   "id": "1f5fe2fa",
   "metadata": {},
   "source": [
    "Create Product, Order and Customer classes and their attributes. These classes represent the tables that will be in the ecommerce database. "
   ]
  },
  {
   "cell_type": "code",
   "execution_count": 3,
   "id": "35ead5a2",
   "metadata": {},
   "outputs": [
    {
     "name": "stderr",
     "output_type": "stream",
     "text": [
      "C:\\Users\\Nhyira\\AppData\\Local\\Temp\\ipykernel_35176\\2564174533.py:2: MovedIn20Warning: The ``declarative_base()`` function is now available as sqlalchemy.orm.declarative_base(). (deprecated since: 2.0) (Background on SQLAlchemy 2.0 at: https://sqlalche.me/e/b8d9)\n",
      "  Base = declarative_base()\n"
     ]
    }
   ],
   "source": [
    "#This declarative_base() function acts as framework or structure by which the classes created follow\n",
    "Base = declarative_base()\n",
    "\n",
    "# Many-to-many association table for Order and Product\n",
    "order_product_table = Table('order_product', Base.metadata,\n",
    "    Column('order_id', Integer, ForeignKey('orders.id'), primary_key=True),\n",
    "    Column('product_id', Integer, ForeignKey('products.id'), primary_key=True)\n",
    ")"
   ]
  },
  {
   "cell_type": "code",
   "execution_count": 4,
   "id": "5cb90c3e",
   "metadata": {},
   "outputs": [],
   "source": [
    "class Product(Base):\n",
    "    __tablename__ = 'products'\n",
    "    \n",
    "    id = Column(Integer, primary_key=True)\n",
    "    name = Column(String(100), nullable=False)\n",
    "    price = Column(Float, nullable=False)\n",
    "    category = Column(String(50), nullable=False)\n",
    "    \n",
    "    # Relationship for many-to-many with Order\n",
    "    orders = relationship(\"Order\", secondary=order_product_table, back_populates=\"products\")\n"
   ]
  },
  {
   "cell_type": "code",
   "execution_count": 5,
   "id": "630a4281",
   "metadata": {},
   "outputs": [],
   "source": [
    "class Order(Base):\n",
    "    __tablename__ = 'orders'\n",
    "    \n",
    "    id = Column(Integer, primary_key=True)\n",
    "    customer_id = Column(Integer, ForeignKey('customers.id'))\n",
    "    # Relationship for many-to-many with Product\n",
    "    products = relationship(\"Product\", secondary=order_product_table, back_populates=\"orders\")\n",
    "    # Relationship to Customer...one-to-many\n",
    "    customer = relationship(\"Customer\", back_populates=\"orders\")\n"
   ]
  },
  {
   "cell_type": "code",
   "execution_count": 6,
   "id": "5b6c44ff",
   "metadata": {},
   "outputs": [],
   "source": [
    "class Customer(Base):\n",
    "    __tablename__ = 'customers'\n",
    "    \n",
    "    id = Column(Integer, primary_key=True)\n",
    "    name = Column(String(100), nullable=False)\n",
    "    email = Column(String(100), nullable=False, unique=True)\n",
    "    # Relationship with Order...one-to-many\n",
    "    orders = relationship(\"Order\", back_populates=\"customer\")"
   ]
  },
  {
   "cell_type": "code",
   "execution_count": 7,
   "id": "1be7b999",
   "metadata": {},
   "outputs": [
    {
     "name": "stdout",
     "output_type": "stream",
     "text": [
      "2024-03-20 22:51:45,130 INFO sqlalchemy.engine.Engine BEGIN (implicit)\n",
      "2024-03-20 22:51:45,134 INFO sqlalchemy.engine.Engine PRAGMA main.table_info(\"order_product\")\n",
      "2024-03-20 22:51:45,135 INFO sqlalchemy.engine.Engine [raw sql] ()\n",
      "2024-03-20 22:51:45,148 INFO sqlalchemy.engine.Engine PRAGMA temp.table_info(\"order_product\")\n",
      "2024-03-20 22:51:45,149 INFO sqlalchemy.engine.Engine [raw sql] ()\n",
      "2024-03-20 22:51:45,151 INFO sqlalchemy.engine.Engine PRAGMA main.table_info(\"products\")\n",
      "2024-03-20 22:51:45,152 INFO sqlalchemy.engine.Engine [raw sql] ()\n",
      "2024-03-20 22:51:45,153 INFO sqlalchemy.engine.Engine PRAGMA temp.table_info(\"products\")\n",
      "2024-03-20 22:51:45,154 INFO sqlalchemy.engine.Engine [raw sql] ()\n",
      "2024-03-20 22:51:45,156 INFO sqlalchemy.engine.Engine PRAGMA main.table_info(\"orders\")\n",
      "2024-03-20 22:51:45,157 INFO sqlalchemy.engine.Engine [raw sql] ()\n",
      "2024-03-20 22:51:45,158 INFO sqlalchemy.engine.Engine PRAGMA temp.table_info(\"orders\")\n",
      "2024-03-20 22:51:45,159 INFO sqlalchemy.engine.Engine [raw sql] ()\n",
      "2024-03-20 22:51:45,161 INFO sqlalchemy.engine.Engine PRAGMA main.table_info(\"customers\")\n",
      "2024-03-20 22:51:45,162 INFO sqlalchemy.engine.Engine [raw sql] ()\n",
      "2024-03-20 22:51:45,164 INFO sqlalchemy.engine.Engine PRAGMA temp.table_info(\"customers\")\n",
      "2024-03-20 22:51:45,165 INFO sqlalchemy.engine.Engine [raw sql] ()\n",
      "2024-03-20 22:51:45,167 INFO sqlalchemy.engine.Engine \n",
      "CREATE TABLE products (\n",
      "\tid INTEGER NOT NULL, \n",
      "\tname VARCHAR(100) NOT NULL, \n",
      "\tprice FLOAT NOT NULL, \n",
      "\tcategory VARCHAR(50) NOT NULL, \n",
      "\tPRIMARY KEY (id)\n",
      ")\n",
      "\n",
      "\n",
      "2024-03-20 22:51:45,167 INFO sqlalchemy.engine.Engine [no key 0.00083s] ()\n",
      "2024-03-20 22:51:45,184 INFO sqlalchemy.engine.Engine \n",
      "CREATE TABLE customers (\n",
      "\tid INTEGER NOT NULL, \n",
      "\tname VARCHAR(100) NOT NULL, \n",
      "\temail VARCHAR(100) NOT NULL, \n",
      "\tPRIMARY KEY (id), \n",
      "\tUNIQUE (email)\n",
      ")\n",
      "\n",
      "\n",
      "2024-03-20 22:51:45,185 INFO sqlalchemy.engine.Engine [no key 0.00084s] ()\n",
      "2024-03-20 22:51:45,198 INFO sqlalchemy.engine.Engine \n",
      "CREATE TABLE orders (\n",
      "\tid INTEGER NOT NULL, \n",
      "\tcustomer_id INTEGER, \n",
      "\tPRIMARY KEY (id), \n",
      "\tFOREIGN KEY(customer_id) REFERENCES customers (id)\n",
      ")\n",
      "\n",
      "\n",
      "2024-03-20 22:51:45,199 INFO sqlalchemy.engine.Engine [no key 0.00069s] ()\n",
      "2024-03-20 22:51:45,211 INFO sqlalchemy.engine.Engine \n",
      "CREATE TABLE order_product (\n",
      "\torder_id INTEGER NOT NULL, \n",
      "\tproduct_id INTEGER NOT NULL, \n",
      "\tPRIMARY KEY (order_id, product_id), \n",
      "\tFOREIGN KEY(order_id) REFERENCES orders (id), \n",
      "\tFOREIGN KEY(product_id) REFERENCES products (id)\n",
      ")\n",
      "\n",
      "\n",
      "2024-03-20 22:51:45,213 INFO sqlalchemy.engine.Engine [no key 0.00088s] ()\n",
      "2024-03-20 22:51:45,225 INFO sqlalchemy.engine.Engine COMMIT\n"
     ]
    }
   ],
   "source": [
    "# Create all the defined tables in the database specified by the engine...ecommerce.db\n",
    "#In other words, it generates SQL commands for table creation based on your model definitions stored in the metadata object\n",
    "Base.metadata.create_all(engine)"
   ]
  },
  {
   "cell_type": "code",
   "execution_count": 8,
   "id": "74e4a24a",
   "metadata": {},
   "outputs": [],
   "source": [
    "# Create a sessionmaker bound to the engine. This will enable us to commit changes to the database.\n",
    "Session = sessionmaker(bind=engine)\n",
    "\n",
    "# Create a session using the sessionmaker\n",
    "session = Session()"
   ]
  },
  {
   "cell_type": "code",
   "execution_count": 9,
   "id": "e0c3a964",
   "metadata": {},
   "outputs": [
    {
     "name": "stdout",
     "output_type": "stream",
     "text": [
      "2024-03-20 22:52:00,278 INFO sqlalchemy.engine.Engine BEGIN (implicit)\n",
      "2024-03-20 22:52:00,281 INFO sqlalchemy.engine.Engine INSERT INTO products (name, price, category) VALUES (?, ?, ?) RETURNING id\n",
      "2024-03-20 22:52:00,282 INFO sqlalchemy.engine.Engine [generated in 0.00015s (insertmanyvalues) 1/2 (ordered; batch not supported)] ('Crop Hoodie', 69.99, 'Athleisure')\n",
      "2024-03-20 22:52:00,285 INFO sqlalchemy.engine.Engine INSERT INTO products (name, price, category) VALUES (?, ?, ?) RETURNING id\n",
      "2024-03-20 22:52:00,286 INFO sqlalchemy.engine.Engine [insertmanyvalues 2/2 (ordered; batch not supported)] ('Wide-leg Slacks', 49.99, 'Athleisure')\n",
      "2024-03-20 22:52:00,288 INFO sqlalchemy.engine.Engine COMMIT\n"
     ]
    }
   ],
   "source": [
    "# Create product\n",
    "product1 = Product(name='Crop Hoodie', price=69.99, category='Athleisure')\n",
    "product2 = Product(name='Wide-leg Slacks', price=49.99, category='Athleisure')\n",
    "\n",
    "# Add products to the session\n",
    "session.add_all([product1, product2])\n",
    "\n",
    "# Commit the changes to the database\n",
    "session.commit()"
   ]
  },
  {
   "cell_type": "code",
   "execution_count": 10,
   "id": "b58cc297",
   "metadata": {},
   "outputs": [
    {
     "name": "stdout",
     "output_type": "stream",
     "text": [
      "2024-03-20 22:52:06,543 INFO sqlalchemy.engine.Engine BEGIN (implicit)\n",
      "2024-03-20 22:52:06,548 INFO sqlalchemy.engine.Engine INSERT INTO customers (name, email) VALUES (?, ?) RETURNING id\n",
      "2024-03-20 22:52:06,549 INFO sqlalchemy.engine.Engine [generated in 0.00037s (insertmanyvalues) 1/2 (ordered; batch not supported)] ('Nhyira Wadee', 'nwadee@gmail.com')\n",
      "2024-03-20 22:52:06,555 INFO sqlalchemy.engine.Engine INSERT INTO customers (name, email) VALUES (?, ?) RETURNING id\n",
      "2024-03-20 22:52:06,557 INFO sqlalchemy.engine.Engine [insertmanyvalues 2/2 (ordered; batch not supported)] ('Ben Smith', 'bssmith@yahoo.com')\n",
      "2024-03-20 22:52:06,563 INFO sqlalchemy.engine.Engine COMMIT\n"
     ]
    }
   ],
   "source": [
    "# Create instances of customers\n",
    "cust1 = Customer(name='Nhyira Wadee', email='nwadee@gmail.com')\n",
    "cust2 = Customer(name='Ben Smith', email='bssmith@yahoo.com')\n",
    "\n",
    "# Add customers to the session\n",
    "session.add_all([cust1, cust2])\n",
    "\n",
    "# Commit the changes to the database\n",
    "session.commit()"
   ]
  },
  {
   "cell_type": "code",
   "execution_count": 11,
   "id": "1c3d6dd5",
   "metadata": {},
   "outputs": [
    {
     "name": "stdout",
     "output_type": "stream",
     "text": [
      "2024-03-20 22:52:14,636 INFO sqlalchemy.engine.Engine BEGIN (implicit)\n",
      "2024-03-20 22:52:14,641 INFO sqlalchemy.engine.Engine SELECT customers.id AS customers_id, customers.name AS customers_name, customers.email AS customers_email \n",
      "FROM customers \n",
      "WHERE customers.id = ?\n",
      "2024-03-20 22:52:14,644 INFO sqlalchemy.engine.Engine [generated in 0.00174s] (1,)\n",
      "2024-03-20 22:52:14,646 INFO sqlalchemy.engine.Engine SELECT customers.id AS customers_id, customers.name AS customers_name, customers.email AS customers_email \n",
      "FROM customers \n",
      "WHERE customers.id = ?\n",
      "2024-03-20 22:52:14,647 INFO sqlalchemy.engine.Engine [cached since 0.005286s ago] (2,)\n",
      "2024-03-20 22:52:14,650 INFO sqlalchemy.engine.Engine INSERT INTO orders (customer_id) VALUES (?) RETURNING id\n",
      "2024-03-20 22:52:14,650 INFO sqlalchemy.engine.Engine [generated in 0.00016s (insertmanyvalues) 1/2 (ordered; batch not supported)] (2,)\n",
      "2024-03-20 22:52:14,653 INFO sqlalchemy.engine.Engine INSERT INTO orders (customer_id) VALUES (?) RETURNING id\n",
      "2024-03-20 22:52:14,654 INFO sqlalchemy.engine.Engine [insertmanyvalues 2/2 (ordered; batch not supported)] (1,)\n",
      "2024-03-20 22:52:14,656 INFO sqlalchemy.engine.Engine SELECT products.id AS products_id, products.name AS products_name, products.price AS products_price, products.category AS products_category \n",
      "FROM products \n",
      "WHERE products.id = ?\n",
      "2024-03-20 22:52:14,657 INFO sqlalchemy.engine.Engine [generated in 0.00114s] (2,)\n",
      "2024-03-20 22:52:14,658 INFO sqlalchemy.engine.Engine SELECT products.id AS products_id, products.name AS products_name, products.price AS products_price, products.category AS products_category \n",
      "FROM products \n",
      "WHERE products.id = ?\n",
      "2024-03-20 22:52:14,659 INFO sqlalchemy.engine.Engine [cached since 0.003262s ago] (1,)\n",
      "2024-03-20 22:52:14,661 INFO sqlalchemy.engine.Engine INSERT INTO order_product (order_id, product_id) VALUES (?, ?)\n",
      "2024-03-20 22:52:14,661 INFO sqlalchemy.engine.Engine [generated in 0.00072s] [(2, 2), (2, 1), (1, 2)]\n",
      "2024-03-20 22:52:14,663 INFO sqlalchemy.engine.Engine COMMIT\n"
     ]
    }
   ],
   "source": [
    "# Create instances of orders and associate them with customers and products\n",
    "order1 = Order(customer=cust2)\n",
    "order1.products.append(product2)\n",
    "\n",
    "order2 = Order(customer=cust1, products=[product2, product1])\n",
    "\n",
    "# Add orders to the session\n",
    "session.add_all([order1, order2])\n",
    "\n",
    "# Commit the changes to the database\n",
    "session.commit()"
   ]
  },
  {
   "cell_type": "markdown",
   "id": "0c1b6059",
   "metadata": {},
   "source": [
    "##### Retrieve"
   ]
  },
  {
   "cell_type": "code",
   "execution_count": 12,
   "id": "6b64798f",
   "metadata": {},
   "outputs": [
    {
     "name": "stdout",
     "output_type": "stream",
     "text": [
      "Products:\n",
      "2024-03-20 22:52:21,301 INFO sqlalchemy.engine.Engine BEGIN (implicit)\n",
      "2024-03-20 22:52:21,303 INFO sqlalchemy.engine.Engine SELECT products.id AS products_id, products.name AS products_name, products.price AS products_price, products.category AS products_category \n",
      "FROM products\n",
      "2024-03-20 22:52:21,305 INFO sqlalchemy.engine.Engine [generated in 0.00183s] ()\n",
      "ID: 1, Name: Crop Hoodie, Price: 69.99, Category: Athleisure\n",
      "ID: 2, Name: Wide-leg Slacks, Price: 49.99, Category: Athleisure\n"
     ]
    }
   ],
   "source": [
    "# Retrieve and print all products\n",
    "print(\"Products:\")\n",
    "for product in session.query(Product).all():\n",
    "    print(f\"ID: {product.id}, Name: {product.name}, Price: {product.price}, Category: {product.category}\")\n"
   ]
  },
  {
   "cell_type": "code",
   "execution_count": 13,
   "id": "9774e36f",
   "metadata": {},
   "outputs": [
    {
     "name": "stdout",
     "output_type": "stream",
     "text": [
      "Customers:\n",
      "2024-03-20 22:52:25,606 INFO sqlalchemy.engine.Engine SELECT customers.id AS customers_id, customers.name AS customers_name, customers.email AS customers_email \n",
      "FROM customers\n",
      "2024-03-20 22:52:25,609 INFO sqlalchemy.engine.Engine [generated in 0.00370s] ()\n",
      "ID: 1, Name: Nhyira Wadee, Email: nwadee@gmail.com\n",
      "ID: 2, Name: Ben Smith, Email: bssmith@yahoo.com\n"
     ]
    }
   ],
   "source": [
    "# Retrieve and print all customers\n",
    "print(\"Customers:\")\n",
    "for customer in session.query(Customer).all():\n",
    "    print(f\"ID: {customer.id}, Name: {customer.name}, Email: {customer.email}\")"
   ]
  },
  {
   "cell_type": "code",
   "execution_count": 14,
   "id": "7c533c5e",
   "metadata": {},
   "outputs": [
    {
     "name": "stdout",
     "output_type": "stream",
     "text": [
      "Orders:\n",
      "2024-03-20 22:52:35,002 INFO sqlalchemy.engine.Engine SELECT orders.id AS orders_id, orders.customer_id AS orders_customer_id \n",
      "FROM orders\n",
      "2024-03-20 22:52:35,005 INFO sqlalchemy.engine.Engine [generated in 0.00376s] ()\n",
      "ID: 1, Customer: 2\n",
      "ID: 2, Customer: 1\n"
     ]
    }
   ],
   "source": [
    "# Retrieve and print all orders\n",
    "print(\"Orders:\")\n",
    "for order in session.query(Order).all():\n",
    "    print(f\"ID: {order.id}, Customer: {order.customer_id}\")"
   ]
  },
  {
   "cell_type": "code",
   "execution_count": 15,
   "id": "140d9231",
   "metadata": {},
   "outputs": [
    {
     "name": "stdout",
     "output_type": "stream",
     "text": [
      "Product-Order Associations:\n"
     ]
    },
    {
     "ename": "NameError",
     "evalue": "name 'order_product' is not defined",
     "output_type": "error",
     "traceback": [
      "\u001b[1;31m---------------------------------------------------------------------------\u001b[0m",
      "\u001b[1;31mNameError\u001b[0m                                 Traceback (most recent call last)",
      "Cell \u001b[1;32mIn[15], line 4\u001b[0m\n\u001b[0;32m      1\u001b[0m \u001b[38;5;66;03m# Retrieve and print all product-order associations\u001b[39;00m\n\u001b[0;32m      2\u001b[0m \u001b[38;5;66;03m# Cannot query it the same way as the others tables since they are ORM classes and this table was created using the Table construct\u001b[39;00m\n\u001b[0;32m      3\u001b[0m \u001b[38;5;28mprint\u001b[39m(\u001b[38;5;124m\"\u001b[39m\u001b[38;5;124mProduct-Order Associations:\u001b[39m\u001b[38;5;124m\"\u001b[39m)\n\u001b[1;32m----> 4\u001b[0m \u001b[38;5;28;01mfor\u001b[39;00m association \u001b[38;5;129;01min\u001b[39;00m session\u001b[38;5;241m.\u001b[39mquery(order_product)\u001b[38;5;241m.\u001b[39mall():\n\u001b[0;32m      5\u001b[0m     \u001b[38;5;28mprint\u001b[39m(association)\n",
      "\u001b[1;31mNameError\u001b[0m: name 'order_product' is not defined"
     ]
    }
   ],
   "source": [
    "# Retrieve and print all product-order associations\n",
    "# Cannot query it the same way as the others tables since they are ORM classes and this table was created using the Table construct\n",
    "print(\"Product-Order Associations:\")\n",
    "for association in session.query(order_product).all():\n",
    "    print(association)"
   ]
  },
  {
   "cell_type": "code",
   "execution_count": 46,
   "id": "922651e9",
   "metadata": {},
   "outputs": [
    {
     "name": "stdout",
     "output_type": "stream",
     "text": [
      "2024-03-20 23:06:41,095 INFO sqlalchemy.engine.Engine BEGIN (implicit)\n",
      "2024-03-20 23:06:41,097 INFO sqlalchemy.engine.Engine SELECT * FROM order_product\n",
      "2024-03-20 23:06:41,100 INFO sqlalchemy.engine.Engine [cached since 839.7s ago] ()\n",
      "2024-03-20 23:06:41,103 INFO sqlalchemy.engine.Engine ROLLBACK\n",
      "Product-Order Associations:\n",
      "(2, 2)\n",
      "(2, 1)\n",
      "(1, 2)\n",
      "(15, 9)\n",
      "(15, 20)\n",
      "(25, 4)\n",
      "(25, 18)\n",
      "(16, 26)\n",
      "(16, 21)\n",
      "(16, 23)\n",
      "(26, 6)\n",
      "(26, 4)\n",
      "(26, 20)\n",
      "(26, 7)\n",
      "(6, 6)\n",
      "(6, 12)\n",
      "(6, 20)\n",
      "(6, 27)\n",
      "(6, 5)\n",
      "(17, 13)\n",
      "(17, 18)\n",
      "(17, 6)\n",
      "(17, 12)\n",
      "(27, 21)\n",
      "(27, 24)\n",
      "(27, 20)\n",
      "(27, 13)\n",
      "(7, 3)\n",
      "(7, 2)\n",
      "(7, 25)\n",
      "(7, 23)\n",
      "(18, 2)\n",
      "(18, 26)\n",
      "(18, 6)\n",
      "(18, 7)\n",
      "(28, 15)\n",
      "(28, 19)\n",
      "(28, 11)\n",
      "(28, 2)\n",
      "(28, 23)\n",
      "(8, 4)\n",
      "(8, 23)\n",
      "(19, 24)\n",
      "(29, 17)\n",
      "(9, 20)\n",
      "(9, 27)\n",
      "(3, 26)\n",
      "(3, 7)\n",
      "(30, 2)\n",
      "(20, 9)\n",
      "(20, 14)\n",
      "(20, 21)\n",
      "(20, 6)\n",
      "(20, 11)\n",
      "(10, 14)\n",
      "(31, 23)\n",
      "(31, 9)\n",
      "(31, 1)\n",
      "(31, 20)\n",
      "(11, 15)\n",
      "(11, 19)\n",
      "(11, 4)\n",
      "(21, 18)\n",
      "(21, 13)\n",
      "(21, 1)\n",
      "(4, 20)\n",
      "(4, 1)\n",
      "(4, 21)\n",
      "(4, 13)\n",
      "(32, 7)\n",
      "(32, 3)\n",
      "(32, 22)\n",
      "(32, 27)\n",
      "(32, 2)\n",
      "(12, 7)\n",
      "(22, 22)\n",
      "(22, 15)\n",
      "(22, 11)\n",
      "(13, 10)\n",
      "(5, 12)\n",
      "(5, 6)\n",
      "(5, 11)\n",
      "(5, 22)\n",
      "(23, 10)\n",
      "(14, 20)\n",
      "(14, 5)\n",
      "(24, 6)\n",
      "(24, 13)\n",
      "(24, 24)\n"
     ]
    }
   ],
   "source": [
    "# Retrieve and print all product-order associations\n",
    "# Define a raw SQL query to select all rows from the association table\n",
    "sql_query = text(\"SELECT * FROM order_product\")\n",
    "\n",
    "# Execute the raw SQL query\n",
    "with engine.connect() as conn:\n",
    "    result = conn.execute(sql_query)\n",
    "\n",
    "# Print the results\n",
    "print(\"Product-Order Associations:\")\n",
    "for row in result:\n",
    "    print(row)"
   ]
  },
  {
   "cell_type": "markdown",
   "id": "8bf70ee2",
   "metadata": {},
   "source": [
    "Creating a test table in the e-commerce database using Core dependencies"
   ]
  },
  {
   "cell_type": "code",
   "execution_count": 17,
   "id": "048f0ca0",
   "metadata": {
    "scrolled": true
   },
   "outputs": [
    {
     "name": "stdout",
     "output_type": "stream",
     "text": [
      "2024-03-20 22:52:55,889 INFO sqlalchemy.engine.Engine BEGIN (implicit)\n",
      "2024-03-20 22:52:55,890 INFO sqlalchemy.engine.Engine CREATE TABLE Core_test (x int, y int)\n",
      "2024-03-20 22:52:55,891 INFO sqlalchemy.engine.Engine [generated in 0.00278s] ()\n",
      "2024-03-20 22:52:55,907 INFO sqlalchemy.engine.Engine INSERT INTO Core_test (x, y) VALUES (?, ?)\n",
      "2024-03-20 22:52:55,908 INFO sqlalchemy.engine.Engine [generated in 0.00160s] [(1, 1), (2, 4)]\n",
      "2024-03-20 22:52:55,911 INFO sqlalchemy.engine.Engine COMMIT\n"
     ]
    }
   ],
   "source": [
    "with engine.connect() as conn:\n",
    "    conn.execute(text(\"CREATE TABLE Core_test (x int, y int)\"))\n",
    "    conn.execute(\n",
    "        text(\"INSERT INTO Core_test (x, y) VALUES (:x, :y)\"),\n",
    "        [{\"x\": 1, \"y\": 1}, {\"x\": 2, \"y\": 4}],\n",
    "    )\n",
    "    conn.commit()\n"
   ]
  },
  {
   "cell_type": "code",
   "execution_count": 18,
   "id": "fca851bf",
   "metadata": {},
   "outputs": [
    {
     "name": "stdout",
     "output_type": "stream",
     "text": [
      "2024-03-20 22:53:01,765 INFO sqlalchemy.engine.Engine BEGIN (implicit)\n",
      "2024-03-20 22:53:01,767 INFO sqlalchemy.engine.Engine SELECT * FROM Core_test\n",
      "2024-03-20 22:53:01,768 INFO sqlalchemy.engine.Engine [generated in 0.00243s] ()\n",
      "2024-03-20 22:53:01,769 INFO sqlalchemy.engine.Engine ROLLBACK\n",
      "Test Table:\n",
      "x: 1  y: 1\n",
      "x: 2  y: 4\n"
     ]
    }
   ],
   "source": [
    "# Define a select statement for the test table\n",
    "query = text(\"SELECT * FROM Core_test\")\n",
    "\n",
    "# Execute the select statement and retrieve the results\n",
    "with engine.connect() as conn:\n",
    "    result = conn.execute(query)\n",
    "\n",
    "# Print the results\n",
    "print(\"Test Table:\")\n",
    "for row in result:\n",
    "    print(f\"x: {row.x}  y: {row.y}\")"
   ]
  },
  {
   "cell_type": "markdown",
   "id": "b77028a3",
   "metadata": {},
   "source": [
    "##### Update"
   ]
  },
  {
   "cell_type": "code",
   "execution_count": 19,
   "id": "d85db42e",
   "metadata": {
    "scrolled": true
   },
   "outputs": [
    {
     "name": "stdout",
     "output_type": "stream",
     "text": [
      "2024-03-20 22:53:04,739 INFO sqlalchemy.engine.Engine SELECT customers.id AS customers_id, customers.name AS customers_name, customers.email AS customers_email \n",
      "FROM customers \n",
      "WHERE customers.id = ?\n",
      " LIMIT ? OFFSET ?\n",
      "2024-03-20 22:53:04,741 INFO sqlalchemy.engine.Engine [generated in 0.00265s] (1, 1, 0)\n",
      "2024-03-20 22:53:04,752 INFO sqlalchemy.engine.Engine UPDATE customers SET email=? WHERE customers.id = ?\n",
      "2024-03-20 22:53:04,754 INFO sqlalchemy.engine.Engine [generated in 0.00256s] ('nwadee1@gmail.com', 1)\n",
      "2024-03-20 22:53:04,761 INFO sqlalchemy.engine.Engine COMMIT\n",
      "Email updated successfully.\n"
     ]
    }
   ],
   "source": [
    "# Retrieve the customer by their ID\n",
    "customer = session.query(Customer).filter_by(id=1).first()\n",
    "\n",
    "# Update the email attribute\n",
    "if customer:\n",
    "    customer.email = \"nwadee1@gmail.com\"\n",
    "    session.commit()\n",
    "    print(\"Email updated successfully.\")\n",
    "else:\n",
    "    print(\"Customer not found.\")"
   ]
  },
  {
   "cell_type": "code",
   "execution_count": 20,
   "id": "f060b690",
   "metadata": {},
   "outputs": [
    {
     "name": "stdout",
     "output_type": "stream",
     "text": [
      "2024-03-20 22:53:11,332 INFO sqlalchemy.engine.Engine BEGIN (implicit)\n",
      "2024-03-20 22:53:11,335 INFO sqlalchemy.engine.Engine UPDATE Core_test SET y = ? WHERE x = ?\n",
      "2024-03-20 22:53:11,336 INFO sqlalchemy.engine.Engine [generated in 0.00510s] (10, 2)\n",
      "2024-03-20 22:53:11,341 INFO sqlalchemy.engine.Engine COMMIT\n"
     ]
    }
   ],
   "source": [
    "# Define a update statement for the test table\n",
    "update_query = text(\n",
    "    \"UPDATE Core_test \"\n",
    "    \"SET y = :y \"\n",
    "    \"WHERE x = :x\"\n",
    ")\n",
    "\n",
    "# Execute the update statement \n",
    "with engine.connect() as conn:\n",
    "    conn.execute(\n",
    "        update_query, \n",
    "        {\"y\": 10, \"x\": 2}\n",
    "    )\n",
    "    conn.commit()"
   ]
  },
  {
   "cell_type": "code",
   "execution_count": 22,
   "id": "d6a28f67",
   "metadata": {},
   "outputs": [
    {
     "ename": "NameError",
     "evalue": "name 'Core_test' is not defined",
     "output_type": "error",
     "traceback": [
      "\u001b[1;31m---------------------------------------------------------------------------\u001b[0m",
      "\u001b[1;31mNameError\u001b[0m                                 Traceback (most recent call last)",
      "Cell \u001b[1;32mIn[22], line 2\u001b[0m\n\u001b[0;32m      1\u001b[0m \u001b[38;5;66;03m# Define the update statement\u001b[39;00m\n\u001b[1;32m----> 2\u001b[0m update_statement \u001b[38;5;241m=\u001b[39m update(Core_test)\u001b[38;5;241m.\u001b[39mwhere(Core_test\u001b[38;5;241m.\u001b[39mc\u001b[38;5;241m.\u001b[39mx \u001b[38;5;241m==\u001b[39m \u001b[38;5;241m2\u001b[39m)\u001b[38;5;241m.\u001b[39mvalues(y\u001b[38;5;241m=\u001b[39m\u001b[38;5;241m12\u001b[39m)\n\u001b[0;32m      4\u001b[0m \u001b[38;5;66;03m# Execute the update statement\u001b[39;00m\n\u001b[0;32m      5\u001b[0m \u001b[38;5;28;01mwith\u001b[39;00m engine\u001b[38;5;241m.\u001b[39mconnect() \u001b[38;5;28;01mas\u001b[39;00m conn:\n",
      "\u001b[1;31mNameError\u001b[0m: name 'Core_test' is not defined"
     ]
    }
   ],
   "source": [
    "# Define the update statement\n",
    "update_statement = update(Core_test).where(Core_test.c.x == 2).values(y=12)\n",
    "\n",
    "# Execute the update statement\n",
    "with engine.connect() as conn:\n",
    "    result = conn.execute(update_statement)\n",
    "    conn.commit()\n",
    "    \n",
    "# The code snippet doesn't work because the table was created using raw SQL commands, bypassing SQLAlchemy's ORM or Core declarative system. \n",
    "# Interaction with the database is at a low level, \n",
    "# thus, SQLAlchemy doesn't automatically manage or recognize these tables as part of its ORM or Core declarative system.\n",
    "# So the tables created using raw SQL aren't automatically integrated into SQLAlchemy's ORM or Core. \n",
    "# This prevents the use of higher-level constructs like ORM models or Core queries such as update() directly on these tables. \n",
    "\n",
    "# This is resolved by reflecting the table structure explicitly using SQLAlchemy's reflection capabilities \n",
    "# or defining the tables using SQLAlchemy's ORM or Core constructs."
   ]
  },
  {
   "cell_type": "code",
   "execution_count": 23,
   "id": "44c2e706",
   "metadata": {},
   "outputs": [
    {
     "name": "stdout",
     "output_type": "stream",
     "text": [
      "2024-03-20 22:53:34,859 INFO sqlalchemy.engine.Engine BEGIN (implicit)\n",
      "2024-03-20 22:53:34,862 INFO sqlalchemy.engine.Engine PRAGMA main.table_xinfo(\"Core_test\")\n",
      "2024-03-20 22:53:34,864 INFO sqlalchemy.engine.Engine [raw sql] ()\n",
      "2024-03-20 22:53:34,867 INFO sqlalchemy.engine.Engine SELECT sql FROM  (SELECT * FROM sqlite_master UNION ALL   SELECT * FROM sqlite_temp_master) WHERE name = ? AND type in ('table', 'view')\n",
      "2024-03-20 22:53:34,869 INFO sqlalchemy.engine.Engine [raw sql] ('Core_test',)\n",
      "2024-03-20 22:53:34,873 INFO sqlalchemy.engine.Engine PRAGMA main.foreign_key_list(\"Core_test\")\n",
      "2024-03-20 22:53:34,874 INFO sqlalchemy.engine.Engine [raw sql] ()\n",
      "2024-03-20 22:53:34,877 INFO sqlalchemy.engine.Engine PRAGMA temp.foreign_key_list(\"Core_test\")\n",
      "2024-03-20 22:53:34,879 INFO sqlalchemy.engine.Engine [raw sql] ()\n",
      "2024-03-20 22:53:34,882 INFO sqlalchemy.engine.Engine SELECT sql FROM  (SELECT * FROM sqlite_master UNION ALL   SELECT * FROM sqlite_temp_master) WHERE name = ? AND type in ('table', 'view')\n",
      "2024-03-20 22:53:34,884 INFO sqlalchemy.engine.Engine [raw sql] ('Core_test',)\n",
      "2024-03-20 22:53:34,889 INFO sqlalchemy.engine.Engine PRAGMA main.index_list(\"Core_test\")\n",
      "2024-03-20 22:53:34,889 INFO sqlalchemy.engine.Engine [raw sql] ()\n",
      "2024-03-20 22:53:34,891 INFO sqlalchemy.engine.Engine PRAGMA temp.index_list(\"Core_test\")\n",
      "2024-03-20 22:53:34,891 INFO sqlalchemy.engine.Engine [raw sql] ()\n",
      "2024-03-20 22:53:34,892 INFO sqlalchemy.engine.Engine PRAGMA main.table_info(\"Core_test\")\n",
      "2024-03-20 22:53:34,892 INFO sqlalchemy.engine.Engine [raw sql] ()\n",
      "2024-03-20 22:53:34,894 INFO sqlalchemy.engine.Engine PRAGMA main.index_list(\"Core_test\")\n",
      "2024-03-20 22:53:34,895 INFO sqlalchemy.engine.Engine [raw sql] ()\n",
      "2024-03-20 22:53:34,896 INFO sqlalchemy.engine.Engine PRAGMA temp.index_list(\"Core_test\")\n",
      "2024-03-20 22:53:34,897 INFO sqlalchemy.engine.Engine [raw sql] ()\n",
      "2024-03-20 22:53:34,897 INFO sqlalchemy.engine.Engine PRAGMA main.table_info(\"Core_test\")\n",
      "2024-03-20 22:53:34,899 INFO sqlalchemy.engine.Engine [raw sql] ()\n",
      "2024-03-20 22:53:34,901 INFO sqlalchemy.engine.Engine SELECT sql FROM  (SELECT * FROM sqlite_master UNION ALL   SELECT * FROM sqlite_temp_master) WHERE name = ? AND type in ('table', 'view')\n",
      "2024-03-20 22:53:34,902 INFO sqlalchemy.engine.Engine [raw sql] ('Core_test',)\n",
      "2024-03-20 22:53:34,905 INFO sqlalchemy.engine.Engine ROLLBACK\n"
     ]
    }
   ],
   "source": [
    "# Reflecting the table structure explicitly using SQLAlchemy's reflection capabilities\n",
    "\n",
    "metadata = MetaData()\n",
    "Core_test = Table('Core_test', metadata, autoload_with=engine)\n"
   ]
  },
  {
   "cell_type": "code",
   "execution_count": 24,
   "id": "3666c2ae",
   "metadata": {},
   "outputs": [
    {
     "name": "stdout",
     "output_type": "stream",
     "text": [
      "2024-03-20 22:53:43,941 INFO sqlalchemy.engine.Engine BEGIN (implicit)\n",
      "2024-03-20 22:53:43,942 INFO sqlalchemy.engine.Engine UPDATE \"Core_test\" SET y=? WHERE \"Core_test\".x = ?\n",
      "2024-03-20 22:53:43,943 INFO sqlalchemy.engine.Engine [generated in 0.00195s] (12, 2)\n",
      "2024-03-20 22:53:43,947 INFO sqlalchemy.engine.Engine COMMIT\n"
     ]
    }
   ],
   "source": [
    "# Now, update using update construct\n",
    "\n",
    "update_statement = update(Core_test).where(Core_test.c.x == 2).values(y=12)\n",
    "\n",
    "# Execute the update statement\n",
    "with engine.connect() as conn:\n",
    "    result = conn.execute(update_statement)\n",
    "    conn.commit()"
   ]
  },
  {
   "cell_type": "markdown",
   "id": "73864511",
   "metadata": {},
   "source": [
    "##### Delete"
   ]
  },
  {
   "cell_type": "code",
   "execution_count": 25,
   "id": "27028104",
   "metadata": {},
   "outputs": [
    {
     "name": "stdout",
     "output_type": "stream",
     "text": [
      "2024-03-20 22:53:51,213 INFO sqlalchemy.engine.Engine BEGIN (implicit)\n",
      "2024-03-20 22:53:51,217 INFO sqlalchemy.engine.Engine DELETE FROM Core_test WHERE x = ?\n",
      "2024-03-20 22:53:51,220 INFO sqlalchemy.engine.Engine [generated in 0.00723s] (2,)\n",
      "2024-03-20 22:53:51,233 INFO sqlalchemy.engine.Engine COMMIT\n"
     ]
    }
   ],
   "source": [
    "# Define a delete statement for the test table\n",
    "delete_query = text(\"DELETE FROM Core_test WHERE x = :x\")\n",
    "\n",
    "# Execute the delete statement with a parameter\n",
    "with engine.connect() as conn:\n",
    "    conn.execute(delete_query, {\"x\": 2})\n",
    "    conn.commit()"
   ]
  },
  {
   "cell_type": "code",
   "execution_count": 51,
   "id": "3ecc2be0",
   "metadata": {},
   "outputs": [
    {
     "name": "stdout",
     "output_type": "stream",
     "text": [
      "2024-03-20 23:11:24,339 INFO sqlalchemy.engine.Engine BEGIN (implicit)\n",
      "2024-03-20 23:11:24,339 INFO sqlalchemy.engine.Engine PRAGMA main.table_info(\"order_product\")\n",
      "2024-03-20 23:11:24,340 INFO sqlalchemy.engine.Engine [raw sql] ()\n",
      "2024-03-20 23:11:24,342 INFO sqlalchemy.engine.Engine COMMIT\n"
     ]
    }
   ],
   "source": [
    "# Adding a column\n",
    "order_product_table = Table(\n",
    "    'order_product',\n",
    "    metadata,\n",
    "    Column('order_id', Integer, ForeignKey('orders.id'), primary_key=True),\n",
    "    Column('product_id', Integer, ForeignKey('products.id'), primary_key=True),\n",
    "    Column('quantity_ordered', Integer, nullable=False, default=1)\n",
    ")\n",
    "\n",
    "# Reflect the changes in the database\n",
    "order_product_table.create(engine, checkfirst=True)"
   ]
  },
  {
   "cell_type": "code",
   "execution_count": 54,
   "id": "48c1835a",
   "metadata": {},
   "outputs": [
    {
     "name": "stdout",
     "output_type": "stream",
     "text": [
      "2024-03-20 23:12:14,383 INFO sqlalchemy.engine.Engine BEGIN (implicit)\n",
      "2024-03-20 23:12:14,384 INFO sqlalchemy.engine.Engine PRAGMA main.table_info(\"order_product\")\n",
      "2024-03-20 23:12:14,387 INFO sqlalchemy.engine.Engine [raw sql] ()\n",
      "2024-03-20 23:12:14,392 INFO sqlalchemy.engine.Engine PRAGMA main.table_info(\"products\")\n",
      "2024-03-20 23:12:14,394 INFO sqlalchemy.engine.Engine [raw sql] ()\n",
      "2024-03-20 23:12:14,397 INFO sqlalchemy.engine.Engine PRAGMA main.table_info(\"orders\")\n",
      "2024-03-20 23:12:14,399 INFO sqlalchemy.engine.Engine [raw sql] ()\n",
      "2024-03-20 23:12:14,402 INFO sqlalchemy.engine.Engine PRAGMA main.table_info(\"customers\")\n",
      "2024-03-20 23:12:14,403 INFO sqlalchemy.engine.Engine [raw sql] ()\n",
      "2024-03-20 23:12:14,405 INFO sqlalchemy.engine.Engine COMMIT\n"
     ]
    }
   ],
   "source": [
    "# Reflect the changes in the database\n",
    "Base.metadata.create_all(engine)"
   ]
  },
  {
   "cell_type": "code",
   "execution_count": 65,
   "id": "b86cec68",
   "metadata": {},
   "outputs": [
    {
     "name": "stdout",
     "output_type": "stream",
     "text": [
      "2024-03-20 23:28:23,418 INFO sqlalchemy.engine.Engine BEGIN (implicit)\n",
      "2024-03-20 23:28:23,419 INFO sqlalchemy.engine.Engine PRAGMA main.table_xinfo(\"order_product\")\n",
      "2024-03-20 23:28:23,420 INFO sqlalchemy.engine.Engine [raw sql] ()\n",
      "2024-03-20 23:28:23,422 INFO sqlalchemy.engine.Engine ROLLBACK\n",
      "{'name': 'order_id', 'type': INTEGER(), 'nullable': False, 'default': None, 'primary_key': 1}\n",
      "{'name': 'product_id', 'type': INTEGER(), 'nullable': False, 'default': None, 'primary_key': 2}\n"
     ]
    }
   ],
   "source": [
    "inspector = inspect(engine)\n",
    "columns = inspector.get_columns('order_product')\n",
    "\n",
    "# Print column titles\n",
    "for column in columns:\n",
    "    print(column)"
   ]
  },
  {
   "cell_type": "markdown",
   "id": "0f44d8c0",
   "metadata": {},
   "source": [
    "#### ADVANCED SQL QUERIES"
   ]
  },
  {
   "cell_type": "markdown",
   "id": "1f09e1c5",
   "metadata": {},
   "source": [
    "Performing more advanced, and customized analysis using Core dependencies as it provides more control over SQL query formation. "
   ]
  },
  {
   "cell_type": "code",
   "execution_count": null,
   "id": "b350c8b6",
   "metadata": {},
   "outputs": [],
   "source": [
    "# Populate tables"
   ]
  },
  {
   "cell_type": "code",
   "execution_count": 26,
   "id": "ffd69bed",
   "metadata": {},
   "outputs": [],
   "source": [
    "new_products = [\n",
    "    {\"name\": \"Denim Jacket\", \"price\": 69.99, \"category\": \"Clothing\"},\n",
    "    {\"name\": \"Leather Messenger Bag\", \"price\": 99.99, \"category\": \"Bags\"},\n",
    "    {\"name\": \"Running Shoes\", \"price\": 59.99, \"category\": \"Shoes\"},\n",
    "    {\"name\": \"Sunglasses\", \"price\": 19.99, \"category\": \"Accessories\"},\n",
    "    {\"name\": \"Graphic T-Shirt\", \"price\": 29.99, \"category\": \"Clothing\"},\n",
    "    {\"name\": \"Canvas Backpack\", \"price\": 49.99, \"category\": \"Bags\"},\n",
    "    {\"name\": \"Sandals\", \"price\": 39.99, \"category\": \"Shoes\"},\n",
    "    {\"name\": \"Statement Necklace\", \"price\": 24.99, \"category\": \"Accessories\"},\n",
    "    {\"name\": \"Hoodie Sweatshirt\", \"price\": 49.99, \"category\": \"Clothing\"},\n",
    "    {\"name\": \"Leather Tote Bag\", \"price\": 79.99, \"category\": \"Bags\"},\n",
    "    {\"name\": \"Laptop Sleeve\", \"price\": 19.99, \"category\": \"Accessories\"},\n",
    "    {\"name\": \"Dress Shoes\", \"price\": 79.99, \"category\": \"Shoes\"},\n",
    "    {\"name\": \"Baseball Cap\", \"price\": 14.99, \"category\": \"Accessories\"},\n",
    "    {\"name\": \"Crossbody Purse\", \"price\": 39.99, \"category\": \"Bags\"},\n",
    "    {\"name\": \"Athletic Leggings\", \"price\": 44.99, \"category\": \"Athleisure\"},\n",
    "    {\"name\": \"Travel Duffel Bag\", \"price\": 59.99, \"category\": \"Bags\"},\n",
    "    {\"name\": \"Casual Sneakers\", \"price\": 49.99, \"category\": \"Shoes\"},\n",
    "    {\"name\": \"Scarf\", \"price\": 29.99, \"category\": \"Accessories\"},\n",
    "    {\"name\": \"Button-Up Shirt\", \"price\": 39.99, \"category\": \"Clothing\"},\n",
    "    {\"name\": \"Leather Wallet\", \"price\": 24.99, \"category\": \"Accessories\"},\n",
    "    {\"name\": \"Backpack\", \"price\": 54.99, \"category\": \"Bags\"},\n",
    "    {\"name\": \"Running Jacket\", \"price\": 79.99, \"category\": \"Clothing\"},\n",
    "    {\"name\": \"Ankle Boots\", \"price\": 69.99, \"category\": \"Shoes\"},\n",
    "    {\"name\": \"Trench Coat\", \"price\": 89.99, \"category\": \"Clothing\"},\n",
    "    {\"name\": \"Leather Belt\", \"price\": 34.99, \"category\": \"Accessories\"},\n",
    "]"
   ]
  },
  {
   "cell_type": "code",
   "execution_count": 27,
   "id": "f2bebad1",
   "metadata": {},
   "outputs": [
    {
     "name": "stdout",
     "output_type": "stream",
     "text": [
      "2024-03-20 22:54:02,665 INFO sqlalchemy.engine.Engine BEGIN (implicit)\n",
      "2024-03-20 22:54:02,668 INFO sqlalchemy.engine.Engine INSERT INTO products (name, price, category) VALUES (?, ?, ?) RETURNING id\n",
      "2024-03-20 22:54:02,670 INFO sqlalchemy.engine.Engine [cached since 122.4s ago (insertmanyvalues) 1/25 (ordered; batch not supported)] ('Denim Jacket', 69.99, 'Clothing')\n",
      "2024-03-20 22:54:02,675 INFO sqlalchemy.engine.Engine INSERT INTO products (name, price, category) VALUES (?, ?, ?) RETURNING id\n",
      "2024-03-20 22:54:02,676 INFO sqlalchemy.engine.Engine [insertmanyvalues 2/25 (ordered; batch not supported)] ('Leather Messenger Bag', 99.99, 'Bags')\n",
      "2024-03-20 22:54:02,678 INFO sqlalchemy.engine.Engine INSERT INTO products (name, price, category) VALUES (?, ?, ?) RETURNING id\n",
      "2024-03-20 22:54:02,679 INFO sqlalchemy.engine.Engine [insertmanyvalues 3/25 (ordered; batch not supported)] ('Running Shoes', 59.99, 'Shoes')\n",
      "2024-03-20 22:54:02,679 INFO sqlalchemy.engine.Engine INSERT INTO products (name, price, category) VALUES (?, ?, ?) RETURNING id\n",
      "2024-03-20 22:54:02,681 INFO sqlalchemy.engine.Engine [insertmanyvalues 4/25 (ordered; batch not supported)] ('Sunglasses', 19.99, 'Accessories')\n",
      "2024-03-20 22:54:02,682 INFO sqlalchemy.engine.Engine INSERT INTO products (name, price, category) VALUES (?, ?, ?) RETURNING id\n",
      "2024-03-20 22:54:02,683 INFO sqlalchemy.engine.Engine [insertmanyvalues 5/25 (ordered; batch not supported)] ('Graphic T-Shirt', 29.99, 'Clothing')\n",
      "2024-03-20 22:54:02,685 INFO sqlalchemy.engine.Engine INSERT INTO products (name, price, category) VALUES (?, ?, ?) RETURNING id\n",
      "2024-03-20 22:54:02,686 INFO sqlalchemy.engine.Engine [insertmanyvalues 6/25 (ordered; batch not supported)] ('Canvas Backpack', 49.99, 'Bags')\n",
      "2024-03-20 22:54:02,686 INFO sqlalchemy.engine.Engine INSERT INTO products (name, price, category) VALUES (?, ?, ?) RETURNING id\n",
      "2024-03-20 22:54:02,687 INFO sqlalchemy.engine.Engine [insertmanyvalues 7/25 (ordered; batch not supported)] ('Sandals', 39.99, 'Shoes')\n",
      "2024-03-20 22:54:02,688 INFO sqlalchemy.engine.Engine INSERT INTO products (name, price, category) VALUES (?, ?, ?) RETURNING id\n",
      "2024-03-20 22:54:02,688 INFO sqlalchemy.engine.Engine [insertmanyvalues 8/25 (ordered; batch not supported)] ('Statement Necklace', 24.99, 'Accessories')\n",
      "2024-03-20 22:54:02,689 INFO sqlalchemy.engine.Engine INSERT INTO products (name, price, category) VALUES (?, ?, ?) RETURNING id\n",
      "2024-03-20 22:54:02,690 INFO sqlalchemy.engine.Engine [insertmanyvalues 9/25 (ordered; batch not supported)] ('Hoodie Sweatshirt', 49.99, 'Clothing')\n",
      "2024-03-20 22:54:02,690 INFO sqlalchemy.engine.Engine INSERT INTO products (name, price, category) VALUES (?, ?, ?) RETURNING id\n",
      "2024-03-20 22:54:02,691 INFO sqlalchemy.engine.Engine [insertmanyvalues 10/25 (ordered; batch not supported)] ('Leather Tote Bag', 79.99, 'Bags')\n",
      "2024-03-20 22:54:02,692 INFO sqlalchemy.engine.Engine INSERT INTO products (name, price, category) VALUES (?, ?, ?) RETURNING id\n",
      "2024-03-20 22:54:02,693 INFO sqlalchemy.engine.Engine [insertmanyvalues 11/25 (ordered; batch not supported)] ('Laptop Sleeve', 19.99, 'Accessories')\n",
      "2024-03-20 22:54:02,694 INFO sqlalchemy.engine.Engine INSERT INTO products (name, price, category) VALUES (?, ?, ?) RETURNING id\n",
      "2024-03-20 22:54:02,695 INFO sqlalchemy.engine.Engine [insertmanyvalues 12/25 (ordered; batch not supported)] ('Dress Shoes', 79.99, 'Shoes')\n",
      "2024-03-20 22:54:02,696 INFO sqlalchemy.engine.Engine INSERT INTO products (name, price, category) VALUES (?, ?, ?) RETURNING id\n",
      "2024-03-20 22:54:02,697 INFO sqlalchemy.engine.Engine [insertmanyvalues 13/25 (ordered; batch not supported)] ('Baseball Cap', 14.99, 'Accessories')\n",
      "2024-03-20 22:54:02,698 INFO sqlalchemy.engine.Engine INSERT INTO products (name, price, category) VALUES (?, ?, ?) RETURNING id\n",
      "2024-03-20 22:54:02,699 INFO sqlalchemy.engine.Engine [insertmanyvalues 14/25 (ordered; batch not supported)] ('Crossbody Purse', 39.99, 'Bags')\n",
      "2024-03-20 22:54:02,701 INFO sqlalchemy.engine.Engine INSERT INTO products (name, price, category) VALUES (?, ?, ?) RETURNING id\n",
      "2024-03-20 22:54:02,702 INFO sqlalchemy.engine.Engine [insertmanyvalues 15/25 (ordered; batch not supported)] ('Athletic Leggings', 44.99, 'Athleisure')\n",
      "2024-03-20 22:54:02,703 INFO sqlalchemy.engine.Engine INSERT INTO products (name, price, category) VALUES (?, ?, ?) RETURNING id\n",
      "2024-03-20 22:54:02,704 INFO sqlalchemy.engine.Engine [insertmanyvalues 16/25 (ordered; batch not supported)] ('Travel Duffel Bag', 59.99, 'Bags')\n",
      "2024-03-20 22:54:02,705 INFO sqlalchemy.engine.Engine INSERT INTO products (name, price, category) VALUES (?, ?, ?) RETURNING id\n",
      "2024-03-20 22:54:02,705 INFO sqlalchemy.engine.Engine [insertmanyvalues 17/25 (ordered; batch not supported)] ('Casual Sneakers', 49.99, 'Shoes')\n",
      "2024-03-20 22:54:02,706 INFO sqlalchemy.engine.Engine INSERT INTO products (name, price, category) VALUES (?, ?, ?) RETURNING id\n",
      "2024-03-20 22:54:02,706 INFO sqlalchemy.engine.Engine [insertmanyvalues 18/25 (ordered; batch not supported)] ('Scarf', 29.99, 'Accessories')\n",
      "2024-03-20 22:54:02,708 INFO sqlalchemy.engine.Engine INSERT INTO products (name, price, category) VALUES (?, ?, ?) RETURNING id\n",
      "2024-03-20 22:54:02,708 INFO sqlalchemy.engine.Engine [insertmanyvalues 19/25 (ordered; batch not supported)] ('Button-Up Shirt', 39.99, 'Clothing')\n",
      "2024-03-20 22:54:02,710 INFO sqlalchemy.engine.Engine INSERT INTO products (name, price, category) VALUES (?, ?, ?) RETURNING id\n",
      "2024-03-20 22:54:02,710 INFO sqlalchemy.engine.Engine [insertmanyvalues 20/25 (ordered; batch not supported)] ('Leather Wallet', 24.99, 'Accessories')\n",
      "2024-03-20 22:54:02,711 INFO sqlalchemy.engine.Engine INSERT INTO products (name, price, category) VALUES (?, ?, ?) RETURNING id\n",
      "2024-03-20 22:54:02,711 INFO sqlalchemy.engine.Engine [insertmanyvalues 21/25 (ordered; batch not supported)] ('Backpack', 54.99, 'Bags')\n",
      "2024-03-20 22:54:02,712 INFO sqlalchemy.engine.Engine INSERT INTO products (name, price, category) VALUES (?, ?, ?) RETURNING id\n",
      "2024-03-20 22:54:02,712 INFO sqlalchemy.engine.Engine [insertmanyvalues 22/25 (ordered; batch not supported)] ('Running Jacket', 79.99, 'Clothing')\n",
      "2024-03-20 22:54:02,714 INFO sqlalchemy.engine.Engine INSERT INTO products (name, price, category) VALUES (?, ?, ?) RETURNING id\n",
      "2024-03-20 22:54:02,715 INFO sqlalchemy.engine.Engine [insertmanyvalues 23/25 (ordered; batch not supported)] ('Ankle Boots', 69.99, 'Shoes')\n",
      "2024-03-20 22:54:02,716 INFO sqlalchemy.engine.Engine INSERT INTO products (name, price, category) VALUES (?, ?, ?) RETURNING id\n",
      "2024-03-20 22:54:02,716 INFO sqlalchemy.engine.Engine [insertmanyvalues 24/25 (ordered; batch not supported)] ('Trench Coat', 89.99, 'Clothing')\n",
      "2024-03-20 22:54:02,718 INFO sqlalchemy.engine.Engine INSERT INTO products (name, price, category) VALUES (?, ?, ?) RETURNING id\n",
      "2024-03-20 22:54:02,718 INFO sqlalchemy.engine.Engine [insertmanyvalues 25/25 (ordered; batch not supported)] ('Leather Belt', 34.99, 'Accessories')\n",
      "2024-03-20 22:54:02,721 INFO sqlalchemy.engine.Engine COMMIT\n"
     ]
    }
   ],
   "source": [
    "# Add all products to the session\n",
    "session.add_all([Product(**product_info) for product_info in new_products])\n",
    "\n",
    "# Commit the session to save changes to the database\n",
    "session.commit()"
   ]
  },
  {
   "cell_type": "code",
   "execution_count": 28,
   "id": "73375281",
   "metadata": {},
   "outputs": [],
   "source": [
    "# Create instances of customers\n",
    "new_customers = [\n",
    "    {\"name\": \"Alice Johnson\", \"email\": \"alice.johnson@gmail.com\"},\n",
    "    {\"name\": \"Michael Smith\", \"email\": \"michael.smith@yahoo.com\"},\n",
    "    {\"name\": \"Emily Brown\", \"email\": \"emily.brown@hotmail.com\"},\n",
    "    {\"name\": \"Daniel Davis\", \"email\": \"daniel.davis@outlook.com\"},\n",
    "    {\"name\": \"Olivia Martinez\", \"email\": \"olivia.martinez@aol.com\"},\n",
    "    {\"name\": \"Ethan Wilson\", \"email\": \"ethan.wilson@icloud.com\"},\n",
    "    {\"name\": \"Sophia Taylor\", \"email\": \"sophia.taylor@protonmail.com\"},\n",
    "    {\"name\": \"Matthew Anderson\", \"email\": \"matthew.anderson@mail.com\"},\n",
    "    {\"name\": \"Ava Thomas\", \"email\": \"ava.thomas@inbox.com\"},\n",
    "    {\"name\": \"Benjamin Jackson\", \"email\": \"benjamin.jackson@yandex.com\"},\n",
    "    {\"name\": \"Mia White\", \"email\": \"mia.white@zoho.com\"},\n",
    "    {\"name\": \"Alexander Harris\", \"email\": \"alexander.harris@live.com\"},\n",
    "    {\"name\": \"Charlotte Clark\", \"email\": \"charlotte.clark@msn.com\"},\n",
    "    {\"name\": \"William Rodriguez\", \"email\": \"william.rodriguez@rocketmail.com\"},\n",
    "    {\"name\": \"Amelia Lewis\", \"email\": \"amelia.lewis@yahoomail.com\"},\n",
    "    {\"name\": \"James Lee\", \"email\": \"james.lee@protonmail.ch\"},\n",
    "    {\"name\": \"Harper Walker\", \"email\": \"harper.walker@rediffmail.com\"},\n",
    "    {\"name\": \"Evelyn Hall\", \"email\": \"evelyn.hall@fastmail.com\"},\n",
    "    {\"name\": \"Logan Green\", \"email\": \"logan.green@tutanota.com\"},\n",
    "    {\"name\": \"Abigail King\", \"email\": \"abigail.king@mailinator.com\"}\n",
    "]"
   ]
  },
  {
   "cell_type": "code",
   "execution_count": 29,
   "id": "bc646f08",
   "metadata": {},
   "outputs": [
    {
     "name": "stdout",
     "output_type": "stream",
     "text": [
      "2024-03-20 22:54:09,582 INFO sqlalchemy.engine.Engine BEGIN (implicit)\n",
      "2024-03-20 22:54:09,587 INFO sqlalchemy.engine.Engine INSERT INTO customers (name, email) VALUES (?, ?) RETURNING id\n",
      "2024-03-20 22:54:09,592 INFO sqlalchemy.engine.Engine [cached since 123s ago (insertmanyvalues) 1/20 (ordered; batch not supported)] ('Alice Johnson', 'alice.johnson@gmail.com')\n",
      "2024-03-20 22:54:09,597 INFO sqlalchemy.engine.Engine INSERT INTO customers (name, email) VALUES (?, ?) RETURNING id\n",
      "2024-03-20 22:54:09,599 INFO sqlalchemy.engine.Engine [insertmanyvalues 2/20 (ordered; batch not supported)] ('Michael Smith', 'michael.smith@yahoo.com')\n",
      "2024-03-20 22:54:09,602 INFO sqlalchemy.engine.Engine INSERT INTO customers (name, email) VALUES (?, ?) RETURNING id\n",
      "2024-03-20 22:54:09,602 INFO sqlalchemy.engine.Engine [insertmanyvalues 3/20 (ordered; batch not supported)] ('Emily Brown', 'emily.brown@hotmail.com')\n",
      "2024-03-20 22:54:09,603 INFO sqlalchemy.engine.Engine INSERT INTO customers (name, email) VALUES (?, ?) RETURNING id\n",
      "2024-03-20 22:54:09,604 INFO sqlalchemy.engine.Engine [insertmanyvalues 4/20 (ordered; batch not supported)] ('Daniel Davis', 'daniel.davis@outlook.com')\n",
      "2024-03-20 22:54:09,605 INFO sqlalchemy.engine.Engine INSERT INTO customers (name, email) VALUES (?, ?) RETURNING id\n",
      "2024-03-20 22:54:09,605 INFO sqlalchemy.engine.Engine [insertmanyvalues 5/20 (ordered; batch not supported)] ('Olivia Martinez', 'olivia.martinez@aol.com')\n",
      "2024-03-20 22:54:09,607 INFO sqlalchemy.engine.Engine INSERT INTO customers (name, email) VALUES (?, ?) RETURNING id\n",
      "2024-03-20 22:54:09,607 INFO sqlalchemy.engine.Engine [insertmanyvalues 6/20 (ordered; batch not supported)] ('Ethan Wilson', 'ethan.wilson@icloud.com')\n",
      "2024-03-20 22:54:09,608 INFO sqlalchemy.engine.Engine INSERT INTO customers (name, email) VALUES (?, ?) RETURNING id\n",
      "2024-03-20 22:54:09,609 INFO sqlalchemy.engine.Engine [insertmanyvalues 7/20 (ordered; batch not supported)] ('Sophia Taylor', 'sophia.taylor@protonmail.com')\n",
      "2024-03-20 22:54:09,609 INFO sqlalchemy.engine.Engine INSERT INTO customers (name, email) VALUES (?, ?) RETURNING id\n",
      "2024-03-20 22:54:09,611 INFO sqlalchemy.engine.Engine [insertmanyvalues 8/20 (ordered; batch not supported)] ('Matthew Anderson', 'matthew.anderson@mail.com')\n",
      "2024-03-20 22:54:09,611 INFO sqlalchemy.engine.Engine INSERT INTO customers (name, email) VALUES (?, ?) RETURNING id\n",
      "2024-03-20 22:54:09,611 INFO sqlalchemy.engine.Engine [insertmanyvalues 9/20 (ordered; batch not supported)] ('Ava Thomas', 'ava.thomas@inbox.com')\n",
      "2024-03-20 22:54:09,616 INFO sqlalchemy.engine.Engine INSERT INTO customers (name, email) VALUES (?, ?) RETURNING id\n",
      "2024-03-20 22:54:09,617 INFO sqlalchemy.engine.Engine [insertmanyvalues 10/20 (ordered; batch not supported)] ('Benjamin Jackson', 'benjamin.jackson@yandex.com')\n",
      "2024-03-20 22:54:09,617 INFO sqlalchemy.engine.Engine INSERT INTO customers (name, email) VALUES (?, ?) RETURNING id\n",
      "2024-03-20 22:54:09,618 INFO sqlalchemy.engine.Engine [insertmanyvalues 11/20 (ordered; batch not supported)] ('Mia White', 'mia.white@zoho.com')\n",
      "2024-03-20 22:54:09,621 INFO sqlalchemy.engine.Engine INSERT INTO customers (name, email) VALUES (?, ?) RETURNING id\n",
      "2024-03-20 22:54:09,621 INFO sqlalchemy.engine.Engine [insertmanyvalues 12/20 (ordered; batch not supported)] ('Alexander Harris', 'alexander.harris@live.com')\n",
      "2024-03-20 22:54:09,622 INFO sqlalchemy.engine.Engine INSERT INTO customers (name, email) VALUES (?, ?) RETURNING id\n",
      "2024-03-20 22:54:09,622 INFO sqlalchemy.engine.Engine [insertmanyvalues 13/20 (ordered; batch not supported)] ('Charlotte Clark', 'charlotte.clark@msn.com')\n",
      "2024-03-20 22:54:09,623 INFO sqlalchemy.engine.Engine INSERT INTO customers (name, email) VALUES (?, ?) RETURNING id\n",
      "2024-03-20 22:54:09,623 INFO sqlalchemy.engine.Engine [insertmanyvalues 14/20 (ordered; batch not supported)] ('William Rodriguez', 'william.rodriguez@rocketmail.com')\n",
      "2024-03-20 22:54:09,624 INFO sqlalchemy.engine.Engine INSERT INTO customers (name, email) VALUES (?, ?) RETURNING id\n",
      "2024-03-20 22:54:09,625 INFO sqlalchemy.engine.Engine [insertmanyvalues 15/20 (ordered; batch not supported)] ('Amelia Lewis', 'amelia.lewis@yahoomail.com')\n",
      "2024-03-20 22:54:09,626 INFO sqlalchemy.engine.Engine INSERT INTO customers (name, email) VALUES (?, ?) RETURNING id\n",
      "2024-03-20 22:54:09,627 INFO sqlalchemy.engine.Engine [insertmanyvalues 16/20 (ordered; batch not supported)] ('James Lee', 'james.lee@protonmail.ch')\n",
      "2024-03-20 22:54:09,628 INFO sqlalchemy.engine.Engine INSERT INTO customers (name, email) VALUES (?, ?) RETURNING id\n",
      "2024-03-20 22:54:09,629 INFO sqlalchemy.engine.Engine [insertmanyvalues 17/20 (ordered; batch not supported)] ('Harper Walker', 'harper.walker@rediffmail.com')\n",
      "2024-03-20 22:54:09,629 INFO sqlalchemy.engine.Engine INSERT INTO customers (name, email) VALUES (?, ?) RETURNING id\n",
      "2024-03-20 22:54:09,631 INFO sqlalchemy.engine.Engine [insertmanyvalues 18/20 (ordered; batch not supported)] ('Evelyn Hall', 'evelyn.hall@fastmail.com')\n",
      "2024-03-20 22:54:09,634 INFO sqlalchemy.engine.Engine INSERT INTO customers (name, email) VALUES (?, ?) RETURNING id\n",
      "2024-03-20 22:54:09,634 INFO sqlalchemy.engine.Engine [insertmanyvalues 19/20 (ordered; batch not supported)] ('Logan Green', 'logan.green@tutanota.com')\n",
      "2024-03-20 22:54:09,636 INFO sqlalchemy.engine.Engine INSERT INTO customers (name, email) VALUES (?, ?) RETURNING id\n",
      "2024-03-20 22:54:09,637 INFO sqlalchemy.engine.Engine [insertmanyvalues 20/20 (ordered; batch not supported)] ('Abigail King', 'abigail.king@mailinator.com')\n",
      "2024-03-20 22:54:09,639 INFO sqlalchemy.engine.Engine COMMIT\n"
     ]
    }
   ],
   "source": [
    "# Add all customers to the session\n",
    "session.add_all([Customer(**customer_info) for customer_info in new_customers])\n",
    "\n",
    "# Commit the changes to the database\n",
    "session.commit()"
   ]
  },
  {
   "cell_type": "code",
   "execution_count": 30,
   "id": "0baab5a2",
   "metadata": {},
   "outputs": [
    {
     "name": "stdout",
     "output_type": "stream",
     "text": [
      "2024-03-20 22:54:18,284 INFO sqlalchemy.engine.Engine BEGIN (implicit)\n",
      "2024-03-20 22:54:18,289 INFO sqlalchemy.engine.Engine SELECT customers.id AS customers_id, customers.name AS customers_name, customers.email AS customers_email \n",
      "FROM customers\n",
      "2024-03-20 22:54:18,292 INFO sqlalchemy.engine.Engine [cached since 112.7s ago] ()\n",
      "2024-03-20 22:54:18,298 INFO sqlalchemy.engine.Engine SELECT products.id AS products_id, products.name AS products_name, products.price AS products_price, products.category AS products_category \n",
      "FROM products\n",
      "2024-03-20 22:54:18,300 INFO sqlalchemy.engine.Engine [cached since 117s ago] ()\n"
     ]
    }
   ],
   "source": [
    "# Retrieve all customers and products from the database\n",
    "all_customers = session.query(Customer).all()\n",
    "all_products = session.query(Product).all()"
   ]
  },
  {
   "cell_type": "code",
   "execution_count": 31,
   "id": "21032ef6",
   "metadata": {
    "scrolled": false
   },
   "outputs": [
    {
     "name": "stdout",
     "output_type": "stream",
     "text": [
      "2024-03-20 22:54:26,437 INFO sqlalchemy.engine.Engine INSERT INTO orders (customer_id) VALUES (?) RETURNING id\n",
      "2024-03-20 22:54:26,438 INFO sqlalchemy.engine.Engine [cached since 131.8s ago (insertmanyvalues) 1/30 (ordered; batch not supported)] (2,)\n",
      "2024-03-20 22:54:26,440 INFO sqlalchemy.engine.Engine INSERT INTO orders (customer_id) VALUES (?) RETURNING id\n",
      "2024-03-20 22:54:26,441 INFO sqlalchemy.engine.Engine [insertmanyvalues 2/30 (ordered; batch not supported)] (14,)\n",
      "2024-03-20 22:54:26,442 INFO sqlalchemy.engine.Engine INSERT INTO orders (customer_id) VALUES (?) RETURNING id\n",
      "2024-03-20 22:54:26,443 INFO sqlalchemy.engine.Engine [insertmanyvalues 3/30 (ordered; batch not supported)] (15,)\n",
      "2024-03-20 22:54:26,444 INFO sqlalchemy.engine.Engine INSERT INTO orders (customer_id) VALUES (?) RETURNING id\n",
      "2024-03-20 22:54:26,445 INFO sqlalchemy.engine.Engine [insertmanyvalues 4/30 (ordered; batch not supported)] (14,)\n",
      "2024-03-20 22:54:26,446 INFO sqlalchemy.engine.Engine INSERT INTO orders (customer_id) VALUES (?) RETURNING id\n",
      "2024-03-20 22:54:26,447 INFO sqlalchemy.engine.Engine [insertmanyvalues 5/30 (ordered; batch not supported)] (5,)\n",
      "2024-03-20 22:54:26,448 INFO sqlalchemy.engine.Engine INSERT INTO orders (customer_id) VALUES (?) RETURNING id\n",
      "2024-03-20 22:54:26,448 INFO sqlalchemy.engine.Engine [insertmanyvalues 6/30 (ordered; batch not supported)] (13,)\n",
      "2024-03-20 22:54:26,449 INFO sqlalchemy.engine.Engine INSERT INTO orders (customer_id) VALUES (?) RETURNING id\n",
      "2024-03-20 22:54:26,450 INFO sqlalchemy.engine.Engine [insertmanyvalues 7/30 (ordered; batch not supported)] (13,)\n",
      "2024-03-20 22:54:26,451 INFO sqlalchemy.engine.Engine INSERT INTO orders (customer_id) VALUES (?) RETURNING id\n",
      "2024-03-20 22:54:26,451 INFO sqlalchemy.engine.Engine [insertmanyvalues 8/30 (ordered; batch not supported)] (1,)\n",
      "2024-03-20 22:54:26,453 INFO sqlalchemy.engine.Engine INSERT INTO orders (customer_id) VALUES (?) RETURNING id\n",
      "2024-03-20 22:54:26,453 INFO sqlalchemy.engine.Engine [insertmanyvalues 9/30 (ordered; batch not supported)] (19,)\n",
      "2024-03-20 22:54:26,456 INFO sqlalchemy.engine.Engine INSERT INTO orders (customer_id) VALUES (?) RETURNING id\n",
      "2024-03-20 22:54:26,456 INFO sqlalchemy.engine.Engine [insertmanyvalues 10/30 (ordered; batch not supported)] (9,)\n",
      "2024-03-20 22:54:26,458 INFO sqlalchemy.engine.Engine INSERT INTO orders (customer_id) VALUES (?) RETURNING id\n",
      "2024-03-20 22:54:26,458 INFO sqlalchemy.engine.Engine [insertmanyvalues 11/30 (ordered; batch not supported)] (4,)\n",
      "2024-03-20 22:54:26,460 INFO sqlalchemy.engine.Engine INSERT INTO orders (customer_id) VALUES (?) RETURNING id\n",
      "2024-03-20 22:54:26,461 INFO sqlalchemy.engine.Engine [insertmanyvalues 12/30 (ordered; batch not supported)] (14,)\n",
      "2024-03-20 22:54:26,461 INFO sqlalchemy.engine.Engine INSERT INTO orders (customer_id) VALUES (?) RETURNING id\n",
      "2024-03-20 22:54:26,462 INFO sqlalchemy.engine.Engine [insertmanyvalues 13/30 (ordered; batch not supported)] (16,)\n",
      "2024-03-20 22:54:26,463 INFO sqlalchemy.engine.Engine INSERT INTO orders (customer_id) VALUES (?) RETURNING id\n",
      "2024-03-20 22:54:26,464 INFO sqlalchemy.engine.Engine [insertmanyvalues 14/30 (ordered; batch not supported)] (13,)\n",
      "2024-03-20 22:54:26,464 INFO sqlalchemy.engine.Engine INSERT INTO orders (customer_id) VALUES (?) RETURNING id\n",
      "2024-03-20 22:54:26,465 INFO sqlalchemy.engine.Engine [insertmanyvalues 15/30 (ordered; batch not supported)] (8,)\n",
      "2024-03-20 22:54:26,465 INFO sqlalchemy.engine.Engine INSERT INTO orders (customer_id) VALUES (?) RETURNING id\n",
      "2024-03-20 22:54:26,466 INFO sqlalchemy.engine.Engine [insertmanyvalues 16/30 (ordered; batch not supported)] (14,)\n",
      "2024-03-20 22:54:26,467 INFO sqlalchemy.engine.Engine INSERT INTO orders (customer_id) VALUES (?) RETURNING id\n",
      "2024-03-20 22:54:26,468 INFO sqlalchemy.engine.Engine [insertmanyvalues 17/30 (ordered; batch not supported)] (21,)\n",
      "2024-03-20 22:54:26,469 INFO sqlalchemy.engine.Engine INSERT INTO orders (customer_id) VALUES (?) RETURNING id\n",
      "2024-03-20 22:54:26,470 INFO sqlalchemy.engine.Engine [insertmanyvalues 18/30 (ordered; batch not supported)] (19,)\n",
      "2024-03-20 22:54:26,471 INFO sqlalchemy.engine.Engine INSERT INTO orders (customer_id) VALUES (?) RETURNING id\n",
      "2024-03-20 22:54:26,472 INFO sqlalchemy.engine.Engine [insertmanyvalues 19/30 (ordered; batch not supported)] (13,)\n",
      "2024-03-20 22:54:26,473 INFO sqlalchemy.engine.Engine INSERT INTO orders (customer_id) VALUES (?) RETURNING id\n",
      "2024-03-20 22:54:26,474 INFO sqlalchemy.engine.Engine [insertmanyvalues 20/30 (ordered; batch not supported)] (12,)\n",
      "2024-03-20 22:54:26,475 INFO sqlalchemy.engine.Engine INSERT INTO orders (customer_id) VALUES (?) RETURNING id\n",
      "2024-03-20 22:54:26,476 INFO sqlalchemy.engine.Engine [insertmanyvalues 21/30 (ordered; batch not supported)] (6,)\n",
      "2024-03-20 22:54:26,476 INFO sqlalchemy.engine.Engine INSERT INTO orders (customer_id) VALUES (?) RETURNING id\n",
      "2024-03-20 22:54:26,477 INFO sqlalchemy.engine.Engine [insertmanyvalues 22/30 (ordered; batch not supported)] (11,)\n",
      "2024-03-20 22:54:26,478 INFO sqlalchemy.engine.Engine INSERT INTO orders (customer_id) VALUES (?) RETURNING id\n",
      "2024-03-20 22:54:26,479 INFO sqlalchemy.engine.Engine [insertmanyvalues 23/30 (ordered; batch not supported)] (21,)\n",
      "2024-03-20 22:54:26,479 INFO sqlalchemy.engine.Engine INSERT INTO orders (customer_id) VALUES (?) RETURNING id\n",
      "2024-03-20 22:54:26,481 INFO sqlalchemy.engine.Engine [insertmanyvalues 24/30 (ordered; batch not supported)] (5,)\n",
      "2024-03-20 22:54:26,482 INFO sqlalchemy.engine.Engine INSERT INTO orders (customer_id) VALUES (?) RETURNING id\n",
      "2024-03-20 22:54:26,483 INFO sqlalchemy.engine.Engine [insertmanyvalues 25/30 (ordered; batch not supported)] (21,)\n",
      "2024-03-20 22:54:26,484 INFO sqlalchemy.engine.Engine INSERT INTO orders (customer_id) VALUES (?) RETURNING id\n",
      "2024-03-20 22:54:26,484 INFO sqlalchemy.engine.Engine [insertmanyvalues 26/30 (ordered; batch not supported)] (15,)\n",
      "2024-03-20 22:54:26,485 INFO sqlalchemy.engine.Engine INSERT INTO orders (customer_id) VALUES (?) RETURNING id\n",
      "2024-03-20 22:54:26,485 INFO sqlalchemy.engine.Engine [insertmanyvalues 27/30 (ordered; batch not supported)] (14,)\n",
      "2024-03-20 22:54:26,487 INFO sqlalchemy.engine.Engine INSERT INTO orders (customer_id) VALUES (?) RETURNING id\n",
      "2024-03-20 22:54:26,488 INFO sqlalchemy.engine.Engine [insertmanyvalues 28/30 (ordered; batch not supported)] (19,)\n",
      "2024-03-20 22:54:26,489 INFO sqlalchemy.engine.Engine INSERT INTO orders (customer_id) VALUES (?) RETURNING id\n",
      "2024-03-20 22:54:26,489 INFO sqlalchemy.engine.Engine [insertmanyvalues 29/30 (ordered; batch not supported)] (13,)\n",
      "2024-03-20 22:54:26,492 INFO sqlalchemy.engine.Engine INSERT INTO orders (customer_id) VALUES (?) RETURNING id\n",
      "2024-03-20 22:54:26,493 INFO sqlalchemy.engine.Engine [insertmanyvalues 30/30 (ordered; batch not supported)] (21,)\n",
      "2024-03-20 22:54:26,495 INFO sqlalchemy.engine.Engine INSERT INTO order_product (order_id, product_id) VALUES (?, ?)\n",
      "2024-03-20 22:54:26,496 INFO sqlalchemy.engine.Engine [cached since 131.8s ago] [(15, 9), (15, 20), (25, 4), (25, 18), (16, 26), (16, 21), (16, 23), (26, 6)  ... displaying 10 of 86 total bound parameter sets ...  (24, 13), (24, 24)]\n",
      "2024-03-20 22:54:26,499 INFO sqlalchemy.engine.Engine COMMIT\n"
     ]
    }
   ],
   "source": [
    "# Create instances of orders and associate them with random customers and products\n",
    "order_instances = []\n",
    "for _ in range(30):\n",
    "    customer = random.choice(all_customers)\n",
    "    num_products = random.randint(1, 5)  # Randomly choose a number of products between 1 and 5\n",
    "    order_instance = Order(customer=customer)\n",
    "    ordered_products = random.sample(all_products, num_products)  # Randomly select 'num_products' from the list of products\n",
    "    order_instance.products.extend(ordered_products)\n",
    "    order_instances.append(order_instance)\n",
    "\n",
    "# Add orders to the session\n",
    "session.add_all(order_instances)\n",
    "\n",
    "# Commit the changes to the database\n",
    "session.commit()"
   ]
  },
  {
   "cell_type": "code",
   "execution_count": null,
   "id": "026a2bd9",
   "metadata": {},
   "outputs": [],
   "source": [
    "with engine.connect() as conn:\n",
    "    orders_per_customer_results = conn.execute(orders_per_customer_query)\n",
    "    # Fetch all rows and count them\n",
    "    num_rows = len(orders_per_customer_results.fetchall())\n",
    "\n",
    "# Process the results\n",
    "\n",
    "for row in orders_per_customer_results:\n",
    "    print(f\"Customer: {row[0]}, Number of Orders: {row[1]}\")\n",
    "    \n",
    "#for customer_name, num_orders in orders_per_customer_results:\n",
    "#    print(f\"Customer: {customer_name}, Number of Orders: {num_orders}\")"
   ]
  },
  {
   "cell_type": "code",
   "execution_count": 64,
   "id": "b14e16df",
   "metadata": {},
   "outputs": [
    {
     "name": "stdout",
     "output_type": "stream",
     "text": [
      "2024-03-20 23:26:32,738 INFO sqlalchemy.engine.Engine SELECT customers.name AS customers_name, count(orders.id) AS count_1 \n",
      "FROM customers JOIN orders ON customers.id = orders.customer_id GROUP BY customers.name\n",
      "2024-03-20 23:26:32,739 INFO sqlalchemy.engine.Engine [generated in 0.00114s] ()\n",
      "('Alexander Harris', 5)\n",
      "('Ava Thomas', 1)\n",
      "('Ben Smith', 2)\n",
      "('Benjamin Jackson', 1)\n",
      "('Charlotte Clark', 2)\n",
      "('Daniel Davis', 1)\n",
      "('Emily Brown', 2)\n",
      "('Ethan Wilson', 1)\n",
      "('Harper Walker', 3)\n",
      "('Logan Green', 4)\n",
      "('Mia White', 5)\n",
      "('Michael Smith', 1)\n",
      "('Nhyira Wadee', 2)\n",
      "('Sophia Taylor', 1)\n",
      "('William Rodriguez', 1)\n"
     ]
    }
   ],
   "source": [
    "#Aggregate Functions\n",
    "\n",
    "# Counting the number of orders per customer\n",
    "stmt = session.query(Customer.name, func.count(Order.id)).\\\n",
    "        join(Order).\\\n",
    "        group_by(Customer.name)\n",
    "\n",
    "results = stmt.all()\n",
    "for result in results:\n",
    "    print(result)"
   ]
  },
  {
   "cell_type": "code",
   "execution_count": 67,
   "id": "aec24da7",
   "metadata": {},
   "outputs": [
    {
     "data": {
      "image/png": "[encoded data removed]",
      "text/plain": [
       "<Figure size 1000x600 with 1 Axes>"
      ]
     },
     "metadata": {},
     "output_type": "display_data"
    }
   ],
   "source": [
    "#Visualization\n",
    "\n",
    "# Extracting customer names and order counts from the results\n",
    "customer_names = [result[0] for result in results]\n",
    "order_counts = [result[1] for result in results]\n",
    "\n",
    "# Creating the bar chart\n",
    "plt.figure(figsize=(10, 6))\n",
    "plt.bar(customer_names, order_counts, color='skyblue')\n",
    "plt.xlabel('Customers')\n",
    "plt.ylabel('Number of Orders')\n",
    "plt.title('Number of Orders per Customer')\n",
    "plt.xticks(rotation=45, ha='right')  # Rotate x-axis labels for better readability\n",
    "plt.tight_layout()  # Adjust layout to prevent clipping of labels\n",
    "plt.show()"
   ]
  },
  {
   "cell_type": "code",
   "execution_count": null,
   "id": "01866dd2",
   "metadata": {},
   "outputs": [],
   "source": [
    "session.close()"
   ]
  }
 ],
 "metadata": {
  "kernelspec": {
   "display_name": "Python 3 (ipykernel)",
   "language": "python",
   "name": "python3"
  },
  "language_info": {
   "codemirror_mode": {
    "name": "ipython",
    "version": 3
   },
   "file_extension": ".py",
   "mimetype": "text/x-python",
   "name": "python",
   "nbconvert_exporter": "python",
   "pygments_lexer": "ipython3",
   "version": "3.11.5"
  }
 },
 "nbformat": 4,
 "nbformat_minor": 5
}
