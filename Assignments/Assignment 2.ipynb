{
 "cells": [
  {
   "cell_type": "markdown",
   "id": "c441e4ca",
   "metadata": {},
   "source": [
    "# Assignment 2\n",
    "* In this assignment you will be working with three data files from iMDB:\n",
    "    * cast.csv\n",
    "    * release_dates.csv\n",
    "    * titles.csv\n",
    "* Using the appropriate file(s), answer the following questions\n",
    "* Some questions can be completed with one-liners while others are a bit more involved\n",
    "* Where appropriate, answers should also provide brief commentary\n",
    "* Exclude data that doen't make senss, i.e. data from the future\n",
    "* Once complete upload this notebook to your classwork Github repo and post the link on Canvas "
   ]
  },
  {
   "cell_type": "code",
   "execution_count": 1,
   "id": "df79d3f0",
   "metadata": {},
   "outputs": [],
   "source": [
    "import numpy as np\n",
    "import pandas as pd\n",
    "import matplotlib.pyplot as plt"
   ]
  },
  {
   "cell_type": "code",
   "execution_count": 2,
   "id": "f4594546",
   "metadata": {},
   "outputs": [],
   "source": [
    "cast_main = pd.read_csv(\"../data/cast.csv\")\n",
    "release_main = pd.read_csv(\"../data/release_dates.csv\")\n",
    "title_main = pd.read_csv(\"../data/titles.csv\")"
   ]
  },
  {
   "cell_type": "code",
   "execution_count": 4,
   "id": "e0e071f5",
   "metadata": {},
   "outputs": [],
   "source": [
    "cast = cast_main[cast_main['year'] <= 2024]\n",
    "release = release_main[release_main['year'] <= 2024]\n",
    "title = title_main[title_main['year'] <= 2024]"
   ]
  },
  {
   "cell_type": "markdown",
   "id": "7f3efd04",
   "metadata": {},
   "source": [
    "### 1. Conduct a high level assessment of the three data files, i.e. how many records are there, what kind of data, etc. Summarize your findings with annotation. "
   ]
  },
  {
   "cell_type": "code",
   "execution_count": 5,
   "id": "1426d28d",
   "metadata": {},
   "outputs": [
    {
     "data": {
      "text/html": [
       "<div>\n",
       "<style scoped>\n",
       "    .dataframe tbody tr th:only-of-type {\n",
       "        vertical-align: middle;\n",
       "    }\n",
       "\n",
       "    .dataframe tbody tr th {\n",
       "        vertical-align: top;\n",
       "    }\n",
       "\n",
       "    .dataframe thead th {\n",
       "        text-align: right;\n",
       "    }\n",
       "</style>\n",
       "<table border=\"1\" class=\"dataframe\">\n",
       "  <thead>\n",
       "    <tr style=\"text-align: right;\">\n",
       "      <th></th>\n",
       "      <th>title</th>\n",
       "      <th>year</th>\n",
       "      <th>name</th>\n",
       "      <th>type</th>\n",
       "      <th>character</th>\n",
       "      <th>n</th>\n",
       "    </tr>\n",
       "  </thead>\n",
       "  <tbody>\n",
       "    <tr>\n",
       "      <th>0</th>\n",
       "      <td>Closet Monster</td>\n",
       "      <td>2015</td>\n",
       "      <td>Buffy #1</td>\n",
       "      <td>actor</td>\n",
       "      <td>Buffy 4</td>\n",
       "      <td>31.0</td>\n",
       "    </tr>\n",
       "    <tr>\n",
       "      <th>1</th>\n",
       "      <td>Suuri illusioni</td>\n",
       "      <td>1985</td>\n",
       "      <td>Homo $</td>\n",
       "      <td>actor</td>\n",
       "      <td>Guests</td>\n",
       "      <td>22.0</td>\n",
       "    </tr>\n",
       "    <tr>\n",
       "      <th>2</th>\n",
       "      <td>Battle of the Sexes</td>\n",
       "      <td>2017</td>\n",
       "      <td>$hutter</td>\n",
       "      <td>actor</td>\n",
       "      <td>Bobby Riggs Fan</td>\n",
       "      <td>10.0</td>\n",
       "    </tr>\n",
       "    <tr>\n",
       "      <th>3</th>\n",
       "      <td>Secret in Their Eyes</td>\n",
       "      <td>2015</td>\n",
       "      <td>$hutter</td>\n",
       "      <td>actor</td>\n",
       "      <td>2002 Dodger Fan</td>\n",
       "      <td>NaN</td>\n",
       "    </tr>\n",
       "    <tr>\n",
       "      <th>4</th>\n",
       "      <td>Steve Jobs</td>\n",
       "      <td>2015</td>\n",
       "      <td>$hutter</td>\n",
       "      <td>actor</td>\n",
       "      <td>1988 Opera House Patron</td>\n",
       "      <td>NaN</td>\n",
       "    </tr>\n",
       "    <tr>\n",
       "      <th>5</th>\n",
       "      <td>Straight Outta Compton</td>\n",
       "      <td>2015</td>\n",
       "      <td>$hutter</td>\n",
       "      <td>actor</td>\n",
       "      <td>Club Patron</td>\n",
       "      <td>NaN</td>\n",
       "    </tr>\n",
       "    <tr>\n",
       "      <th>6</th>\n",
       "      <td>Straight Outta Compton</td>\n",
       "      <td>2015</td>\n",
       "      <td>$hutter</td>\n",
       "      <td>actor</td>\n",
       "      <td>Dopeman</td>\n",
       "      <td>NaN</td>\n",
       "    </tr>\n",
       "    <tr>\n",
       "      <th>7</th>\n",
       "      <td>For Thy Love 2</td>\n",
       "      <td>2009</td>\n",
       "      <td>Bee Moe $lim</td>\n",
       "      <td>actor</td>\n",
       "      <td>Thug 1</td>\n",
       "      <td>NaN</td>\n",
       "    </tr>\n",
       "    <tr>\n",
       "      <th>8</th>\n",
       "      <td>Lapis, Ballpen at Diploma, a True to Life Journey</td>\n",
       "      <td>2014</td>\n",
       "      <td>Jori ' Danilo' Jurado Jr.</td>\n",
       "      <td>actor</td>\n",
       "      <td>Jaime (young)</td>\n",
       "      <td>9.0</td>\n",
       "    </tr>\n",
       "    <tr>\n",
       "      <th>9</th>\n",
       "      <td>Desire (III)</td>\n",
       "      <td>2014</td>\n",
       "      <td>Syaiful 'Ariffin</td>\n",
       "      <td>actor</td>\n",
       "      <td>Actor Playing Eteocles from 'Antigone'</td>\n",
       "      <td>NaN</td>\n",
       "    </tr>\n",
       "  </tbody>\n",
       "</table>\n",
       "</div>"
      ],
      "text/plain": [
       "                                               title  year  \\\n",
       "0                                     Closet Monster  2015   \n",
       "1                                    Suuri illusioni  1985   \n",
       "2                                Battle of the Sexes  2017   \n",
       "3                               Secret in Their Eyes  2015   \n",
       "4                                         Steve Jobs  2015   \n",
       "5                             Straight Outta Compton  2015   \n",
       "6                             Straight Outta Compton  2015   \n",
       "7                                     For Thy Love 2  2009   \n",
       "8  Lapis, Ballpen at Diploma, a True to Life Journey  2014   \n",
       "9                                       Desire (III)  2014   \n",
       "\n",
       "                        name   type                               character  \\\n",
       "0                   Buffy #1  actor                                 Buffy 4   \n",
       "1                     Homo $  actor                                  Guests   \n",
       "2                    $hutter  actor                         Bobby Riggs Fan   \n",
       "3                    $hutter  actor                         2002 Dodger Fan   \n",
       "4                    $hutter  actor                 1988 Opera House Patron   \n",
       "5                    $hutter  actor                             Club Patron   \n",
       "6                    $hutter  actor                                 Dopeman   \n",
       "7               Bee Moe $lim  actor                                  Thug 1   \n",
       "8  Jori ' Danilo' Jurado Jr.  actor                           Jaime (young)   \n",
       "9           Syaiful 'Ariffin  actor  Actor Playing Eteocles from 'Antigone'   \n",
       "\n",
       "      n  \n",
       "0  31.0  \n",
       "1  22.0  \n",
       "2  10.0  \n",
       "3   NaN  \n",
       "4   NaN  \n",
       "5   NaN  \n",
       "6   NaN  \n",
       "7   NaN  \n",
       "8   9.0  \n",
       "9   NaN  "
      ]
     },
     "execution_count": 5,
     "metadata": {},
     "output_type": "execute_result"
    }
   ],
   "source": [
    "cast.head(10)"
   ]
  },
  {
   "cell_type": "code",
   "execution_count": 6,
   "id": "54154ccd",
   "metadata": {},
   "outputs": [
    {
     "data": {
      "text/html": [
       "<div>\n",
       "<style scoped>\n",
       "    .dataframe tbody tr th:only-of-type {\n",
       "        vertical-align: middle;\n",
       "    }\n",
       "\n",
       "    .dataframe tbody tr th {\n",
       "        vertical-align: top;\n",
       "    }\n",
       "\n",
       "    .dataframe thead th {\n",
       "        text-align: right;\n",
       "    }\n",
       "</style>\n",
       "<table border=\"1\" class=\"dataframe\">\n",
       "  <thead>\n",
       "    <tr style=\"text-align: right;\">\n",
       "      <th></th>\n",
       "      <th>title</th>\n",
       "      <th>year</th>\n",
       "      <th>country</th>\n",
       "      <th>date</th>\n",
       "    </tr>\n",
       "  </thead>\n",
       "  <tbody>\n",
       "    <tr>\n",
       "      <th>0</th>\n",
       "      <td>#73, Shaanthi Nivaasa</td>\n",
       "      <td>2007</td>\n",
       "      <td>India</td>\n",
       "      <td>2007-06-15</td>\n",
       "    </tr>\n",
       "    <tr>\n",
       "      <th>1</th>\n",
       "      <td>#BKKY</td>\n",
       "      <td>2016</td>\n",
       "      <td>Cambodia</td>\n",
       "      <td>2017-10-12</td>\n",
       "    </tr>\n",
       "    <tr>\n",
       "      <th>2</th>\n",
       "      <td>#Beings</td>\n",
       "      <td>2015</td>\n",
       "      <td>Romania</td>\n",
       "      <td>2015-01-29</td>\n",
       "    </tr>\n",
       "    <tr>\n",
       "      <th>3</th>\n",
       "      <td>#Captured</td>\n",
       "      <td>2017</td>\n",
       "      <td>USA</td>\n",
       "      <td>2017-09-05</td>\n",
       "    </tr>\n",
       "    <tr>\n",
       "      <th>4</th>\n",
       "      <td>#Ewankosau saranghaeyo</td>\n",
       "      <td>2015</td>\n",
       "      <td>Philippines</td>\n",
       "      <td>2015-01-21</td>\n",
       "    </tr>\n",
       "  </tbody>\n",
       "</table>\n",
       "</div>"
      ],
      "text/plain": [
       "                    title  year      country        date\n",
       "0   #73, Shaanthi Nivaasa  2007        India  2007-06-15\n",
       "1                   #BKKY  2016     Cambodia  2017-10-12\n",
       "2                 #Beings  2015      Romania  2015-01-29\n",
       "3               #Captured  2017          USA  2017-09-05\n",
       "4  #Ewankosau saranghaeyo  2015  Philippines  2015-01-21"
      ]
     },
     "execution_count": 6,
     "metadata": {},
     "output_type": "execute_result"
    }
   ],
   "source": [
    "release.head()"
   ]
  },
  {
   "cell_type": "code",
   "execution_count": 7,
   "id": "c797243b",
   "metadata": {},
   "outputs": [
    {
     "data": {
      "text/html": [
       "<div>\n",
       "<style scoped>\n",
       "    .dataframe tbody tr th:only-of-type {\n",
       "        vertical-align: middle;\n",
       "    }\n",
       "\n",
       "    .dataframe tbody tr th {\n",
       "        vertical-align: top;\n",
       "    }\n",
       "\n",
       "    .dataframe thead th {\n",
       "        text-align: right;\n",
       "    }\n",
       "</style>\n",
       "<table border=\"1\" class=\"dataframe\">\n",
       "  <thead>\n",
       "    <tr style=\"text-align: right;\">\n",
       "      <th></th>\n",
       "      <th>title</th>\n",
       "      <th>year</th>\n",
       "    </tr>\n",
       "  </thead>\n",
       "  <tbody>\n",
       "    <tr>\n",
       "      <th>0</th>\n",
       "      <td>Ankara ekspresi</td>\n",
       "      <td>1952</td>\n",
       "    </tr>\n",
       "    <tr>\n",
       "      <th>1</th>\n",
       "      <td>Ans Vaterland, ans teure</td>\n",
       "      <td>1915</td>\n",
       "    </tr>\n",
       "    <tr>\n",
       "      <th>2</th>\n",
       "      <td>Miss Mohini</td>\n",
       "      <td>2002</td>\n",
       "    </tr>\n",
       "    <tr>\n",
       "      <th>3</th>\n",
       "      <td>La vera madre</td>\n",
       "      <td>1999</td>\n",
       "    </tr>\n",
       "    <tr>\n",
       "      <th>4</th>\n",
       "      <td>O Amerikanos</td>\n",
       "      <td>1993</td>\n",
       "    </tr>\n",
       "  </tbody>\n",
       "</table>\n",
       "</div>"
      ],
      "text/plain": [
       "                      title  year\n",
       "0           Ankara ekspresi  1952\n",
       "1  Ans Vaterland, ans teure  1915\n",
       "2               Miss Mohini  2002\n",
       "3             La vera madre  1999\n",
       "4              O Amerikanos  1993"
      ]
     },
     "execution_count": 7,
     "metadata": {},
     "output_type": "execute_result"
    }
   ],
   "source": [
    "title.head(5)"
   ]
  },
  {
   "cell_type": "code",
   "execution_count": 8,
   "id": "539ae361",
   "metadata": {},
   "outputs": [
    {
     "data": {
      "text/plain": [
       "(3442890, 6)"
      ]
     },
     "execution_count": 8,
     "metadata": {},
     "output_type": "execute_result"
    }
   ],
   "source": [
    "cast.shape"
   ]
  },
  {
   "cell_type": "code",
   "execution_count": 9,
   "id": "9ee480bc",
   "metadata": {},
   "outputs": [
    {
     "data": {
      "text/plain": [
       "(443484, 4)"
      ]
     },
     "execution_count": 9,
     "metadata": {},
     "output_type": "execute_result"
    }
   ],
   "source": [
    "release.shape"
   ]
  },
  {
   "cell_type": "code",
   "execution_count": 10,
   "id": "ded6fb9c",
   "metadata": {},
   "outputs": [
    {
     "data": {
      "text/plain": [
       "(226010, 2)"
      ]
     },
     "execution_count": 10,
     "metadata": {},
     "output_type": "execute_result"
    }
   ],
   "source": [
    "title.shape"
   ]
  },
  {
   "cell_type": "code",
   "execution_count": 11,
   "id": "c1de7b26",
   "metadata": {},
   "outputs": [
    {
     "data": {
      "text/plain": [
       "title         object\n",
       "year           int64\n",
       "name          object\n",
       "type          object\n",
       "character     object\n",
       "n            float64\n",
       "dtype: object"
      ]
     },
     "execution_count": 11,
     "metadata": {},
     "output_type": "execute_result"
    }
   ],
   "source": [
    "cast.dtypes"
   ]
  },
  {
   "cell_type": "code",
   "execution_count": 12,
   "id": "e472703d",
   "metadata": {},
   "outputs": [
    {
     "data": {
      "text/plain": [
       "title      object\n",
       "year        int64\n",
       "country    object\n",
       "date       object\n",
       "dtype: object"
      ]
     },
     "execution_count": 12,
     "metadata": {},
     "output_type": "execute_result"
    }
   ],
   "source": [
    "release.dtypes"
   ]
  },
  {
   "cell_type": "code",
   "execution_count": 13,
   "id": "b97732a1",
   "metadata": {},
   "outputs": [
    {
     "data": {
      "text/plain": [
       "title    object\n",
       "year      int64\n",
       "dtype: object"
      ]
     },
     "execution_count": 13,
     "metadata": {},
     "output_type": "execute_result"
    }
   ],
   "source": [
    "title.dtypes"
   ]
  },
  {
   "cell_type": "code",
   "execution_count": 14,
   "id": "03bc8314",
   "metadata": {},
   "outputs": [
    {
     "data": {
      "text/html": [
       "<div>\n",
       "<style scoped>\n",
       "    .dataframe tbody tr th:only-of-type {\n",
       "        vertical-align: middle;\n",
       "    }\n",
       "\n",
       "    .dataframe tbody tr th {\n",
       "        vertical-align: top;\n",
       "    }\n",
       "\n",
       "    .dataframe thead th {\n",
       "        text-align: right;\n",
       "    }\n",
       "</style>\n",
       "<table border=\"1\" class=\"dataframe\">\n",
       "  <thead>\n",
       "    <tr style=\"text-align: right;\">\n",
       "      <th></th>\n",
       "      <th>year</th>\n",
       "      <th>n</th>\n",
       "    </tr>\n",
       "  </thead>\n",
       "  <tbody>\n",
       "    <tr>\n",
       "      <th>count</th>\n",
       "      <td>3.442890e+06</td>\n",
       "      <td>2.115119e+06</td>\n",
       "    </tr>\n",
       "    <tr>\n",
       "      <th>mean</th>\n",
       "      <td>1.987597e+03</td>\n",
       "      <td>1.673178e+01</td>\n",
       "    </tr>\n",
       "    <tr>\n",
       "      <th>std</th>\n",
       "      <td>2.837586e+01</td>\n",
       "      <td>3.209100e+01</td>\n",
       "    </tr>\n",
       "    <tr>\n",
       "      <th>min</th>\n",
       "      <td>1.894000e+03</td>\n",
       "      <td>1.000000e+00</td>\n",
       "    </tr>\n",
       "    <tr>\n",
       "      <th>25%</th>\n",
       "      <td>1.967000e+03</td>\n",
       "      <td>5.000000e+00</td>\n",
       "    </tr>\n",
       "    <tr>\n",
       "      <th>50%</th>\n",
       "      <td>1.999000e+03</td>\n",
       "      <td>1.000000e+01</td>\n",
       "    </tr>\n",
       "    <tr>\n",
       "      <th>75%</th>\n",
       "      <td>2.011000e+03</td>\n",
       "      <td>2.100000e+01</td>\n",
       "    </tr>\n",
       "    <tr>\n",
       "      <th>max</th>\n",
       "      <td>2.024000e+03</td>\n",
       "      <td>3.361300e+04</td>\n",
       "    </tr>\n",
       "  </tbody>\n",
       "</table>\n",
       "</div>"
      ],
      "text/plain": [
       "               year             n\n",
       "count  3.442890e+06  2.115119e+06\n",
       "mean   1.987597e+03  1.673178e+01\n",
       "std    2.837586e+01  3.209100e+01\n",
       "min    1.894000e+03  1.000000e+00\n",
       "25%    1.967000e+03  5.000000e+00\n",
       "50%    1.999000e+03  1.000000e+01\n",
       "75%    2.011000e+03  2.100000e+01\n",
       "max    2.024000e+03  3.361300e+04"
      ]
     },
     "execution_count": 14,
     "metadata": {},
     "output_type": "execute_result"
    }
   ],
   "source": [
    "cast.describe()"
   ]
  },
  {
   "cell_type": "code",
   "execution_count": 15,
   "id": "9d0cdfbb",
   "metadata": {},
   "outputs": [
    {
     "data": {
      "text/html": [
       "<div>\n",
       "<style scoped>\n",
       "    .dataframe tbody tr th:only-of-type {\n",
       "        vertical-align: middle;\n",
       "    }\n",
       "\n",
       "    .dataframe tbody tr th {\n",
       "        vertical-align: top;\n",
       "    }\n",
       "\n",
       "    .dataframe thead th {\n",
       "        text-align: right;\n",
       "    }\n",
       "</style>\n",
       "<table border=\"1\" class=\"dataframe\">\n",
       "  <thead>\n",
       "    <tr style=\"text-align: right;\">\n",
       "      <th></th>\n",
       "      <th>year</th>\n",
       "    </tr>\n",
       "  </thead>\n",
       "  <tbody>\n",
       "    <tr>\n",
       "      <th>count</th>\n",
       "      <td>443484.000000</td>\n",
       "    </tr>\n",
       "    <tr>\n",
       "      <th>mean</th>\n",
       "      <td>1985.554482</td>\n",
       "    </tr>\n",
       "    <tr>\n",
       "      <th>std</th>\n",
       "      <td>28.373156</td>\n",
       "    </tr>\n",
       "    <tr>\n",
       "      <th>min</th>\n",
       "      <td>1894.000000</td>\n",
       "    </tr>\n",
       "    <tr>\n",
       "      <th>25%</th>\n",
       "      <td>1964.000000</td>\n",
       "    </tr>\n",
       "    <tr>\n",
       "      <th>50%</th>\n",
       "      <td>1997.000000</td>\n",
       "    </tr>\n",
       "    <tr>\n",
       "      <th>75%</th>\n",
       "      <td>2010.000000</td>\n",
       "    </tr>\n",
       "    <tr>\n",
       "      <th>max</th>\n",
       "      <td>2024.000000</td>\n",
       "    </tr>\n",
       "  </tbody>\n",
       "</table>\n",
       "</div>"
      ],
      "text/plain": [
       "                year\n",
       "count  443484.000000\n",
       "mean     1985.554482\n",
       "std        28.373156\n",
       "min      1894.000000\n",
       "25%      1964.000000\n",
       "50%      1997.000000\n",
       "75%      2010.000000\n",
       "max      2024.000000"
      ]
     },
     "execution_count": 15,
     "metadata": {},
     "output_type": "execute_result"
    }
   ],
   "source": [
    "release.describe()"
   ]
  },
  {
   "cell_type": "code",
   "execution_count": 16,
   "id": "8e519ae9",
   "metadata": {},
   "outputs": [
    {
     "data": {
      "text/html": [
       "<div>\n",
       "<style scoped>\n",
       "    .dataframe tbody tr th:only-of-type {\n",
       "        vertical-align: middle;\n",
       "    }\n",
       "\n",
       "    .dataframe tbody tr th {\n",
       "        vertical-align: top;\n",
       "    }\n",
       "\n",
       "    .dataframe thead th {\n",
       "        text-align: right;\n",
       "    }\n",
       "</style>\n",
       "<table border=\"1\" class=\"dataframe\">\n",
       "  <thead>\n",
       "    <tr style=\"text-align: right;\">\n",
       "      <th></th>\n",
       "      <th>year</th>\n",
       "    </tr>\n",
       "  </thead>\n",
       "  <tbody>\n",
       "    <tr>\n",
       "      <th>count</th>\n",
       "      <td>226010.000000</td>\n",
       "    </tr>\n",
       "    <tr>\n",
       "      <th>mean</th>\n",
       "      <td>1985.280364</td>\n",
       "    </tr>\n",
       "    <tr>\n",
       "      <th>std</th>\n",
       "      <td>29.814966</td>\n",
       "    </tr>\n",
       "    <tr>\n",
       "      <th>min</th>\n",
       "      <td>1894.000000</td>\n",
       "    </tr>\n",
       "    <tr>\n",
       "      <th>25%</th>\n",
       "      <td>1965.000000</td>\n",
       "    </tr>\n",
       "    <tr>\n",
       "      <th>50%</th>\n",
       "      <td>1994.000000</td>\n",
       "    </tr>\n",
       "    <tr>\n",
       "      <th>75%</th>\n",
       "      <td>2011.000000</td>\n",
       "    </tr>\n",
       "    <tr>\n",
       "      <th>max</th>\n",
       "      <td>2024.000000</td>\n",
       "    </tr>\n",
       "  </tbody>\n",
       "</table>\n",
       "</div>"
      ],
      "text/plain": [
       "                year\n",
       "count  226010.000000\n",
       "mean     1985.280364\n",
       "std        29.814966\n",
       "min      1894.000000\n",
       "25%      1965.000000\n",
       "50%      1994.000000\n",
       "75%      2011.000000\n",
       "max      2024.000000"
      ]
     },
     "execution_count": 16,
     "metadata": {},
     "output_type": "execute_result"
    }
   ],
   "source": [
    "title.describe()"
   ]
  },
  {
   "cell_type": "code",
   "execution_count": 17,
   "id": "00e3ccde",
   "metadata": {},
   "outputs": [
    {
     "name": "stdout",
     "output_type": "stream",
     "text": [
      "<class 'pandas.core.frame.DataFrame'>\n",
      "Index: 3442890 entries, 0 to 3442901\n",
      "Data columns (total 6 columns):\n",
      " #   Column     Dtype  \n",
      "---  ------     -----  \n",
      " 0   title      object \n",
      " 1   year       int64  \n",
      " 2   name       object \n",
      " 3   type       object \n",
      " 4   character  object \n",
      " 5   n          float64\n",
      "dtypes: float64(1), int64(1), object(4)\n",
      "memory usage: 183.9+ MB\n"
     ]
    }
   ],
   "source": [
    "cast.info()\n",
    "#The cast data frame is made up of 3,442,890 records. \n",
    "#There are 6 columns; title, name, type, and character columns with an object data type, \n",
    "#year with an int data type, and n with a float data type"
   ]
  },
  {
   "cell_type": "code",
   "execution_count": 18,
   "id": "df9156c1",
   "metadata": {},
   "outputs": [
    {
     "name": "stdout",
     "output_type": "stream",
     "text": [
      "<class 'pandas.core.frame.DataFrame'>\n",
      "Index: 443484 entries, 0 to 443485\n",
      "Data columns (total 4 columns):\n",
      " #   Column   Non-Null Count   Dtype \n",
      "---  ------   --------------   ----- \n",
      " 0   title    443483 non-null  object\n",
      " 1   year     443484 non-null  int64 \n",
      " 2   country  443484 non-null  object\n",
      " 3   date     443484 non-null  object\n",
      "dtypes: int64(1), object(3)\n",
      "memory usage: 16.9+ MB\n"
     ]
    }
   ],
   "source": [
    "release.info()\n",
    "#The release data frame is made up of 443,484 records. \n",
    "#There are 4 columns; title, country, and date columns with an object data type, \n",
    "#year with an int data type"
   ]
  },
  {
   "cell_type": "code",
   "execution_count": 19,
   "id": "d7c6ca0a",
   "metadata": {},
   "outputs": [
    {
     "name": "stdout",
     "output_type": "stream",
     "text": [
      "<class 'pandas.core.frame.DataFrame'>\n",
      "Index: 226010 entries, 0 to 226012\n",
      "Data columns (total 2 columns):\n",
      " #   Column  Non-Null Count   Dtype \n",
      "---  ------  --------------   ----- \n",
      " 0   title   226009 non-null  object\n",
      " 1   year    226010 non-null  int64 \n",
      "dtypes: int64(1), object(1)\n",
      "memory usage: 5.2+ MB\n"
     ]
    }
   ],
   "source": [
    "title.info()\n",
    "#The title data frame is made up of 226,010 records. \n",
    "#There are 2 columns; title column with an object data type, and \n",
    "#year with an int data type"
   ]
  },
  {
   "cell_type": "markdown",
   "id": "8949aee1",
   "metadata": {},
   "source": [
    "### 2. How many movies have the title North by Northwest"
   ]
  },
  {
   "cell_type": "code",
   "execution_count": 20,
   "id": "712cba84",
   "metadata": {},
   "outputs": [
    {
     "data": {
      "text/html": [
       "<div>\n",
       "<style scoped>\n",
       "    .dataframe tbody tr th:only-of-type {\n",
       "        vertical-align: middle;\n",
       "    }\n",
       "\n",
       "    .dataframe tbody tr th {\n",
       "        vertical-align: top;\n",
       "    }\n",
       "\n",
       "    .dataframe thead th {\n",
       "        text-align: right;\n",
       "    }\n",
       "</style>\n",
       "<table border=\"1\" class=\"dataframe\">\n",
       "  <thead>\n",
       "    <tr style=\"text-align: right;\">\n",
       "      <th></th>\n",
       "      <th>title</th>\n",
       "      <th>year</th>\n",
       "    </tr>\n",
       "  </thead>\n",
       "  <tbody>\n",
       "    <tr>\n",
       "      <th>201761</th>\n",
       "      <td>North by Northwest</td>\n",
       "      <td>1959</td>\n",
       "    </tr>\n",
       "  </tbody>\n",
       "</table>\n",
       "</div>"
      ],
      "text/plain": [
       "                     title  year\n",
       "201761  North by Northwest  1959"
      ]
     },
     "execution_count": 20,
     "metadata": {},
     "output_type": "execute_result"
    }
   ],
   "source": [
    "title[title['title'].str.contains('North by Northwest', na = False)]\n",
    "#Only one movie"
   ]
  },
  {
   "cell_type": "code",
   "execution_count": 21,
   "id": "3dfe3f2b",
   "metadata": {},
   "outputs": [
    {
     "name": "stdout",
     "output_type": "stream",
     "text": [
      "<class 'pandas.core.frame.DataFrame'>\n",
      "Index: 1 entries, 201761 to 201761\n",
      "Data columns (total 2 columns):\n",
      " #   Column  Non-Null Count  Dtype \n",
      "---  ------  --------------  ----- \n",
      " 0   title   1 non-null      object\n",
      " 1   year    1 non-null      int64 \n",
      "dtypes: int64(1), object(1)\n",
      "memory usage: 24.0+ bytes\n"
     ]
    }
   ],
   "source": [
    "title[title['title'].str.contains('North by Northwest', na = False)].info()"
   ]
  },
  {
   "cell_type": "markdown",
   "id": "651191f3",
   "metadata": {},
   "source": [
    "### 3. How many version of Hamlet are there, when was the first made? the last?"
   ]
  },
  {
   "cell_type": "code",
   "execution_count": 22,
   "id": "6b616309",
   "metadata": {},
   "outputs": [
    {
     "data": {
      "text/html": [
       "<div>\n",
       "<style scoped>\n",
       "    .dataframe tbody tr th:only-of-type {\n",
       "        vertical-align: middle;\n",
       "    }\n",
       "\n",
       "    .dataframe tbody tr th {\n",
       "        vertical-align: top;\n",
       "    }\n",
       "\n",
       "    .dataframe thead th {\n",
       "        text-align: right;\n",
       "    }\n",
       "</style>\n",
       "<table border=\"1\" class=\"dataframe\">\n",
       "  <thead>\n",
       "    <tr style=\"text-align: right;\">\n",
       "      <th></th>\n",
       "      <th>title</th>\n",
       "      <th>year</th>\n",
       "    </tr>\n",
       "  </thead>\n",
       "  <tbody>\n",
       "    <tr>\n",
       "      <th>79939</th>\n",
       "      <td>Hamlet</td>\n",
       "      <td>1910</td>\n",
       "    </tr>\n",
       "    <tr>\n",
       "      <th>129673</th>\n",
       "      <td>Hamlet</td>\n",
       "      <td>1911</td>\n",
       "    </tr>\n",
       "    <tr>\n",
       "      <th>164637</th>\n",
       "      <td>Hamlet</td>\n",
       "      <td>1913</td>\n",
       "    </tr>\n",
       "    <tr>\n",
       "      <th>221419</th>\n",
       "      <td>Hamlet</td>\n",
       "      <td>1921</td>\n",
       "    </tr>\n",
       "    <tr>\n",
       "      <th>221201</th>\n",
       "      <td>Hamlet</td>\n",
       "      <td>1948</td>\n",
       "    </tr>\n",
       "    <tr>\n",
       "      <th>220568</th>\n",
       "      <td>Hamlet</td>\n",
       "      <td>1954</td>\n",
       "    </tr>\n",
       "    <tr>\n",
       "      <th>113670</th>\n",
       "      <td>Hamlet</td>\n",
       "      <td>1964</td>\n",
       "    </tr>\n",
       "    <tr>\n",
       "      <th>73929</th>\n",
       "      <td>Hamlet</td>\n",
       "      <td>1969</td>\n",
       "    </tr>\n",
       "    <tr>\n",
       "      <th>204180</th>\n",
       "      <td>Hamlet</td>\n",
       "      <td>1973</td>\n",
       "    </tr>\n",
       "    <tr>\n",
       "      <th>64116</th>\n",
       "      <td>Hamlet</td>\n",
       "      <td>1976</td>\n",
       "    </tr>\n",
       "    <tr>\n",
       "      <th>144085</th>\n",
       "      <td>Hamlet</td>\n",
       "      <td>1987</td>\n",
       "    </tr>\n",
       "    <tr>\n",
       "      <th>174856</th>\n",
       "      <td>Hamlet</td>\n",
       "      <td>1990</td>\n",
       "    </tr>\n",
       "    <tr>\n",
       "      <th>213476</th>\n",
       "      <td>Hamlet</td>\n",
       "      <td>1996</td>\n",
       "    </tr>\n",
       "    <tr>\n",
       "      <th>141682</th>\n",
       "      <td>Hamlet</td>\n",
       "      <td>2000</td>\n",
       "    </tr>\n",
       "    <tr>\n",
       "      <th>25028</th>\n",
       "      <td>Hamlet</td>\n",
       "      <td>2009</td>\n",
       "    </tr>\n",
       "    <tr>\n",
       "      <th>137240</th>\n",
       "      <td>Hamlet</td>\n",
       "      <td>2011</td>\n",
       "    </tr>\n",
       "    <tr>\n",
       "      <th>118331</th>\n",
       "      <td>Hamlet</td>\n",
       "      <td>2014</td>\n",
       "    </tr>\n",
       "    <tr>\n",
       "      <th>109822</th>\n",
       "      <td>Hamlet</td>\n",
       "      <td>2015</td>\n",
       "    </tr>\n",
       "    <tr>\n",
       "      <th>186870</th>\n",
       "      <td>Hamlet</td>\n",
       "      <td>2016</td>\n",
       "    </tr>\n",
       "    <tr>\n",
       "      <th>208380</th>\n",
       "      <td>Hamlet</td>\n",
       "      <td>2017</td>\n",
       "    </tr>\n",
       "  </tbody>\n",
       "</table>\n",
       "</div>"
      ],
      "text/plain": [
       "         title  year\n",
       "79939   Hamlet  1910\n",
       "129673  Hamlet  1911\n",
       "164637  Hamlet  1913\n",
       "221419  Hamlet  1921\n",
       "221201  Hamlet  1948\n",
       "220568  Hamlet  1954\n",
       "113670  Hamlet  1964\n",
       "73929   Hamlet  1969\n",
       "204180  Hamlet  1973\n",
       "64116   Hamlet  1976\n",
       "144085  Hamlet  1987\n",
       "174856  Hamlet  1990\n",
       "213476  Hamlet  1996\n",
       "141682  Hamlet  2000\n",
       "25028   Hamlet  2009\n",
       "137240  Hamlet  2011\n",
       "118331  Hamlet  2014\n",
       "109822  Hamlet  2015\n",
       "186870  Hamlet  2016\n",
       "208380  Hamlet  2017"
      ]
     },
     "execution_count": 22,
     "metadata": {},
     "output_type": "execute_result"
    }
   ],
   "source": [
    "title[title['title'].str.strip() == 'Hamlet'].sort_values(by='year')\n",
    "#There are 20 versions, and the first one was made in 1910"
   ]
  },
  {
   "cell_type": "code",
   "execution_count": 23,
   "id": "d916051d",
   "metadata": {},
   "outputs": [
    {
     "name": "stdout",
     "output_type": "stream",
     "text": [
      "<class 'pandas.core.frame.DataFrame'>\n",
      "Index: 20 entries, 25028 to 221419\n",
      "Data columns (total 2 columns):\n",
      " #   Column  Non-Null Count  Dtype \n",
      "---  ------  --------------  ----- \n",
      " 0   title   20 non-null     object\n",
      " 1   year    20 non-null     int64 \n",
      "dtypes: int64(1), object(1)\n",
      "memory usage: 480.0+ bytes\n"
     ]
    }
   ],
   "source": [
    "title[title['title'].str.strip() == 'Hamlet'].info()"
   ]
  },
  {
   "cell_type": "markdown",
   "id": "5650b610",
   "metadata": {},
   "source": [
    "### 4. List all the movies called Treasure Island from oldest to newest"
   ]
  },
  {
   "cell_type": "code",
   "execution_count": 24,
   "id": "636611d9",
   "metadata": {},
   "outputs": [
    {
     "data": {
      "text/html": [
       "<div>\n",
       "<style scoped>\n",
       "    .dataframe tbody tr th:only-of-type {\n",
       "        vertical-align: middle;\n",
       "    }\n",
       "\n",
       "    .dataframe tbody tr th {\n",
       "        vertical-align: top;\n",
       "    }\n",
       "\n",
       "    .dataframe thead th {\n",
       "        text-align: right;\n",
       "    }\n",
       "</style>\n",
       "<table border=\"1\" class=\"dataframe\">\n",
       "  <thead>\n",
       "    <tr style=\"text-align: right;\">\n",
       "      <th></th>\n",
       "      <th>title</th>\n",
       "      <th>year</th>\n",
       "    </tr>\n",
       "  </thead>\n",
       "  <tbody>\n",
       "    <tr>\n",
       "      <th>180911</th>\n",
       "      <td>Treasure Island</td>\n",
       "      <td>1918</td>\n",
       "    </tr>\n",
       "    <tr>\n",
       "      <th>108853</th>\n",
       "      <td>Treasure Island</td>\n",
       "      <td>1920</td>\n",
       "    </tr>\n",
       "    <tr>\n",
       "      <th>87953</th>\n",
       "      <td>Treasure Island</td>\n",
       "      <td>1934</td>\n",
       "    </tr>\n",
       "    <tr>\n",
       "      <th>126321</th>\n",
       "      <td>Treasure Island</td>\n",
       "      <td>1950</td>\n",
       "    </tr>\n",
       "    <tr>\n",
       "      <th>190233</th>\n",
       "      <td>Treasure Island</td>\n",
       "      <td>1972</td>\n",
       "    </tr>\n",
       "    <tr>\n",
       "      <th>122150</th>\n",
       "      <td>Treasure Island</td>\n",
       "      <td>1973</td>\n",
       "    </tr>\n",
       "    <tr>\n",
       "      <th>52099</th>\n",
       "      <td>Treasure Island</td>\n",
       "      <td>1985</td>\n",
       "    </tr>\n",
       "    <tr>\n",
       "      <th>36752</th>\n",
       "      <td>Treasure Island</td>\n",
       "      <td>1999</td>\n",
       "    </tr>\n",
       "  </tbody>\n",
       "</table>\n",
       "</div>"
      ],
      "text/plain": [
       "                  title  year\n",
       "180911  Treasure Island  1918\n",
       "108853  Treasure Island  1920\n",
       "87953   Treasure Island  1934\n",
       "126321  Treasure Island  1950\n",
       "190233  Treasure Island  1972\n",
       "122150  Treasure Island  1973\n",
       "52099   Treasure Island  1985\n",
       "36752   Treasure Island  1999"
      ]
     },
     "execution_count": 24,
     "metadata": {},
     "output_type": "execute_result"
    }
   ],
   "source": [
    "title[title['title'].str.strip() == 'Treasure Island'].sort_values(by='year')\n"
   ]
  },
  {
   "cell_type": "code",
   "execution_count": 25,
   "id": "745b107d",
   "metadata": {},
   "outputs": [
    {
     "data": {
      "text/html": [
       "<div>\n",
       "<style scoped>\n",
       "    .dataframe tbody tr th:only-of-type {\n",
       "        vertical-align: middle;\n",
       "    }\n",
       "\n",
       "    .dataframe tbody tr th {\n",
       "        vertical-align: top;\n",
       "    }\n",
       "\n",
       "    .dataframe thead th {\n",
       "        text-align: right;\n",
       "    }\n",
       "</style>\n",
       "<table border=\"1\" class=\"dataframe\">\n",
       "  <thead>\n",
       "    <tr style=\"text-align: right;\">\n",
       "      <th></th>\n",
       "      <th>title</th>\n",
       "      <th>year</th>\n",
       "    </tr>\n",
       "  </thead>\n",
       "  <tbody>\n",
       "    <tr>\n",
       "      <th>180911</th>\n",
       "      <td>Treasure Island</td>\n",
       "      <td>1918</td>\n",
       "    </tr>\n",
       "    <tr>\n",
       "      <th>108853</th>\n",
       "      <td>Treasure Island</td>\n",
       "      <td>1920</td>\n",
       "    </tr>\n",
       "    <tr>\n",
       "      <th>87953</th>\n",
       "      <td>Treasure Island</td>\n",
       "      <td>1934</td>\n",
       "    </tr>\n",
       "    <tr>\n",
       "      <th>126321</th>\n",
       "      <td>Treasure Island</td>\n",
       "      <td>1950</td>\n",
       "    </tr>\n",
       "    <tr>\n",
       "      <th>190233</th>\n",
       "      <td>Treasure Island</td>\n",
       "      <td>1972</td>\n",
       "    </tr>\n",
       "    <tr>\n",
       "      <th>122150</th>\n",
       "      <td>Treasure Island</td>\n",
       "      <td>1973</td>\n",
       "    </tr>\n",
       "    <tr>\n",
       "      <th>52099</th>\n",
       "      <td>Treasure Island</td>\n",
       "      <td>1985</td>\n",
       "    </tr>\n",
       "    <tr>\n",
       "      <th>36752</th>\n",
       "      <td>Treasure Island</td>\n",
       "      <td>1999</td>\n",
       "    </tr>\n",
       "  </tbody>\n",
       "</table>\n",
       "</div>"
      ],
      "text/plain": [
       "                  title  year\n",
       "180911  Treasure Island  1918\n",
       "108853  Treasure Island  1920\n",
       "87953   Treasure Island  1934\n",
       "126321  Treasure Island  1950\n",
       "190233  Treasure Island  1972\n",
       "122150  Treasure Island  1973\n",
       "52099   Treasure Island  1985\n",
       "36752   Treasure Island  1999"
      ]
     },
     "execution_count": 25,
     "metadata": {},
     "output_type": "execute_result"
    }
   ],
   "source": [
    "title[title['title'] == 'Treasure Island'].sort_values(by='year')\n"
   ]
  },
  {
   "cell_type": "markdown",
   "id": "a94f4524",
   "metadata": {},
   "source": [
    "### 5. How many movies were made in 1950? 1980? 2000? What conclusions can you draw from these data points?"
   ]
  },
  {
   "cell_type": "code",
   "execution_count": 26,
   "id": "8d44bdb2",
   "metadata": {},
   "outputs": [
    {
     "data": {
      "text/plain": [
       "1109"
      ]
     },
     "execution_count": 26,
     "metadata": {},
     "output_type": "execute_result"
    }
   ],
   "source": [
    "title[title['year'] == 1950].shape[0]"
   ]
  },
  {
   "cell_type": "code",
   "execution_count": 27,
   "id": "5680ef8c",
   "metadata": {},
   "outputs": [
    {
     "data": {
      "text/plain": [
       "1750"
      ]
     },
     "execution_count": 27,
     "metadata": {},
     "output_type": "execute_result"
    }
   ],
   "source": [
    "title[title['year'] == 1980].shape[0]"
   ]
  },
  {
   "cell_type": "code",
   "execution_count": 28,
   "id": "fb747f8f",
   "metadata": {},
   "outputs": [
    {
     "data": {
      "text/plain": [
       "2568"
      ]
     },
     "execution_count": 28,
     "metadata": {},
     "output_type": "execute_result"
    }
   ],
   "source": [
    "title[title['year'] == 2000].shape[0]"
   ]
  },
  {
   "cell_type": "code",
   "execution_count": null,
   "id": "74a063e9",
   "metadata": {},
   "outputs": [],
   "source": [
    "#More movies were made per year as the years progressed"
   ]
  },
  {
   "cell_type": "markdown",
   "id": "0c34799c",
   "metadata": {},
   "source": [
    "### 6. How big was the cast of Metropolis\n"
   ]
  },
  {
   "cell_type": "code",
   "execution_count": 29,
   "id": "4461cc46",
   "metadata": {},
   "outputs": [
    {
     "data": {
      "text/plain": [
       "33"
      ]
     },
     "execution_count": 29,
     "metadata": {},
     "output_type": "execute_result"
    }
   ],
   "source": [
    "cast[cast['title'].str.strip() == 'Metropolis'].shape[0]\n",
    "#There were 33 cast members in Metropolis"
   ]
  },
  {
   "cell_type": "markdown",
   "id": "7dead3d7",
   "metadata": {},
   "source": [
    "### 7. How many roles for actors were there 1950's? 1990's"
   ]
  },
  {
   "cell_type": "code",
   "execution_count": 30,
   "id": "9f7336d3",
   "metadata": {},
   "outputs": [
    {
     "data": {
      "text/plain": [
       "153559"
      ]
     },
     "execution_count": 30,
     "metadata": {},
     "output_type": "execute_result"
    }
   ],
   "source": [
    "cast[(cast['type'] == 'actor') & (cast['year'] >= 1950) & (cast['year'] < 1960)].shape[0]\n",
    "#There were 153,559 roles for actors in the 1950s"
   ]
  },
  {
   "cell_type": "code",
   "execution_count": 31,
   "id": "8e479e39",
   "metadata": {},
   "outputs": [
    {
     "data": {
      "text/plain": [
       "245713"
      ]
     },
     "execution_count": 31,
     "metadata": {},
     "output_type": "execute_result"
    }
   ],
   "source": [
    "cast[(cast['type'] == 'actor') & (cast['year'] >= 1990) & (cast['year'] < 2000)].shape[0]\n",
    "#There were 245,713 roles for actors in the 1990s"
   ]
  },
  {
   "cell_type": "markdown",
   "id": "3c5ad9f2",
   "metadata": {},
   "source": [
    "### 8. How many roles for actors & actresses over time? Output should be a line graph"
   ]
  },
  {
   "cell_type": "code",
   "execution_count": 32,
   "id": "a4401c78",
   "metadata": {},
   "outputs": [
    {
     "data": {
      "image/png": "[encoded data removed]",
      "text/plain": [
       "<Figure size 640x480 with 1 Axes>"
      ]
     },
     "metadata": {},
     "output_type": "display_data"
    }
   ],
   "source": [
    "df = cast[cast['type'] == 'actress']\n",
    "actress = df.groupby('year')['type'].count()\n",
    "\n",
    "df2 = cast[cast['type'] == 'actor']\n",
    "actor = df2.groupby('year')['type'].count()\n",
    "\n",
    "actress.plot(kind='line', label='Actress')\n",
    "actor.plot(kind='line', label='Actor')\n",
    "\n",
    "plt.xlabel('Year')\n",
    "plt.ylabel('Count of Roles')\n",
    "plt.title('Roles for Actors & Actresses over Time')\n",
    "\n",
    "plt.legend()\n",
    "plt.show;"
   ]
  },
  {
   "cell_type": "markdown",
   "id": "5e3a04c7",
   "metadata": {},
   "source": [
    "### 9. How many \"leading roles\" were there in the 2000's?"
   ]
  },
  {
   "cell_type": "code",
   "execution_count": 33,
   "id": "01cc5e7f",
   "metadata": {},
   "outputs": [
    {
     "data": {
      "text/plain": [
       "23593"
      ]
     },
     "execution_count": 33,
     "metadata": {},
     "output_type": "execute_result"
    }
   ],
   "source": [
    "cast[(cast['n'] == 1.0) & (cast['year'] >= 2000) & (cast['year'] < 2010)].shape[0]\n",
    "#There were 23,593 leading roles in the 2000s"
   ]
  },
  {
   "cell_type": "markdown",
   "id": "a60c91b4",
   "metadata": {},
   "source": [
    "### 10. How many roles received no ranking in the 2000's? 1950's. What conclusions can you draw from these two data points?"
   ]
  },
  {
   "cell_type": "code",
   "execution_count": 34,
   "id": "4b729250",
   "metadata": {},
   "outputs": [
    {
     "data": {
      "text/plain": [
       "232037"
      ]
     },
     "execution_count": 34,
     "metadata": {},
     "output_type": "execute_result"
    }
   ],
   "source": [
    "cast[(pd.isna(cast['n'])) & (cast['year'] >= 2000) & (cast['year'] < 2010)].shape[0]\n",
    "#There were 232,037 role without ranking in the 2000s"
   ]
  },
  {
   "cell_type": "code",
   "execution_count": 35,
   "id": "85fa3171",
   "metadata": {},
   "outputs": [
    {
     "data": {
      "text/plain": [
       "95406"
      ]
     },
     "execution_count": 35,
     "metadata": {},
     "output_type": "execute_result"
    }
   ],
   "source": [
    "cast[(pd.isna(cast['n'])) & (cast['year'] >= 1950) & (cast['year'] < 1960)].shape[0]\n",
    "#There were 95,406 role without ranking in the 1950s\n",
    "\n",
    "#More roles were being ranked as the years progressed, and also indicative of more movies being made as the years progressed"
   ]
  },
  {
   "cell_type": "markdown",
   "id": "33d9c249",
   "metadata": {},
   "source": [
    "### 11. Plot the number of films made in each decade"
   ]
  },
  {
   "cell_type": "code",
   "execution_count": 36,
   "id": "a177c475",
   "metadata": {},
   "outputs": [
    {
     "name": "stderr",
     "output_type": "stream",
     "text": [
      "C:\\Users\\Nhyira\\AppData\\Local\\Temp\\ipykernel_29692\\2125063574.py:1: SettingWithCopyWarning: \n",
      "A value is trying to be set on a copy of a slice from a DataFrame.\n",
      "Try using .loc[row_indexer,col_indexer] = value instead\n",
      "\n",
      "See the caveats in the documentation: https://pandas.pydata.org/pandas-docs/stable/user_guide/indexing.html#returning-a-view-versus-a-copy\n",
      "  title['decades'] = (title['year'] // 10) * 10\n"
     ]
    },
    {
     "data": {
      "text/html": [
       "<div>\n",
       "<style scoped>\n",
       "    .dataframe tbody tr th:only-of-type {\n",
       "        vertical-align: middle;\n",
       "    }\n",
       "\n",
       "    .dataframe tbody tr th {\n",
       "        vertical-align: top;\n",
       "    }\n",
       "\n",
       "    .dataframe thead th {\n",
       "        text-align: right;\n",
       "    }\n",
       "</style>\n",
       "<table border=\"1\" class=\"dataframe\">\n",
       "  <thead>\n",
       "    <tr style=\"text-align: right;\">\n",
       "      <th></th>\n",
       "      <th>title</th>\n",
       "      <th>year</th>\n",
       "      <th>decades</th>\n",
       "    </tr>\n",
       "  </thead>\n",
       "  <tbody>\n",
       "    <tr>\n",
       "      <th>0</th>\n",
       "      <td>Ankara ekspresi</td>\n",
       "      <td>1952</td>\n",
       "      <td>1950</td>\n",
       "    </tr>\n",
       "    <tr>\n",
       "      <th>1</th>\n",
       "      <td>Ans Vaterland, ans teure</td>\n",
       "      <td>1915</td>\n",
       "      <td>1910</td>\n",
       "    </tr>\n",
       "    <tr>\n",
       "      <th>2</th>\n",
       "      <td>Miss Mohini</td>\n",
       "      <td>2002</td>\n",
       "      <td>2000</td>\n",
       "    </tr>\n",
       "    <tr>\n",
       "      <th>3</th>\n",
       "      <td>La vera madre</td>\n",
       "      <td>1999</td>\n",
       "      <td>1990</td>\n",
       "    </tr>\n",
       "    <tr>\n",
       "      <th>4</th>\n",
       "      <td>O Amerikanos</td>\n",
       "      <td>1993</td>\n",
       "      <td>1990</td>\n",
       "    </tr>\n",
       "    <tr>\n",
       "      <th>...</th>\n",
       "      <td>...</td>\n",
       "      <td>...</td>\n",
       "      <td>...</td>\n",
       "    </tr>\n",
       "    <tr>\n",
       "      <th>226008</th>\n",
       "      <td>Armageddon</td>\n",
       "      <td>1969</td>\n",
       "      <td>1960</td>\n",
       "    </tr>\n",
       "    <tr>\n",
       "      <th>226009</th>\n",
       "      <td>Verit i znat</td>\n",
       "      <td>1986</td>\n",
       "      <td>1980</td>\n",
       "    </tr>\n",
       "    <tr>\n",
       "      <th>226010</th>\n",
       "      <td>Muukalainen</td>\n",
       "      <td>2008</td>\n",
       "      <td>2000</td>\n",
       "    </tr>\n",
       "    <tr>\n",
       "      <th>226011</th>\n",
       "      <td>Byeolmyeongbuteun unjeonsa</td>\n",
       "      <td>1977</td>\n",
       "      <td>1970</td>\n",
       "    </tr>\n",
       "    <tr>\n",
       "      <th>226012</th>\n",
       "      <td>Red Headed Woman</td>\n",
       "      <td>1932</td>\n",
       "      <td>1930</td>\n",
       "    </tr>\n",
       "  </tbody>\n",
       "</table>\n",
       "<p>226010 rows × 3 columns</p>\n",
       "</div>"
      ],
      "text/plain": [
       "                             title  year  decades\n",
       "0                  Ankara ekspresi  1952     1950\n",
       "1         Ans Vaterland, ans teure  1915     1910\n",
       "2                      Miss Mohini  2002     2000\n",
       "3                    La vera madre  1999     1990\n",
       "4                     O Amerikanos  1993     1990\n",
       "...                            ...   ...      ...\n",
       "226008                  Armageddon  1969     1960\n",
       "226009                Verit i znat  1986     1980\n",
       "226010                 Muukalainen  2008     2000\n",
       "226011  Byeolmyeongbuteun unjeonsa  1977     1970\n",
       "226012            Red Headed Woman  1932     1930\n",
       "\n",
       "[226010 rows x 3 columns]"
      ]
     },
     "execution_count": 36,
     "metadata": {},
     "output_type": "execute_result"
    }
   ],
   "source": [
    "title['decades'] = (title['year'] // 10) * 10\n",
    "title"
   ]
  },
  {
   "cell_type": "code",
   "execution_count": 37,
   "id": "3f6c5b5a",
   "metadata": {},
   "outputs": [
    {
     "data": {
      "image/png": "[encoded data removed]",
      "text/plain": [
       "<Figure size 640x480 with 1 Axes>"
      ]
     },
     "metadata": {},
     "output_type": "display_data"
    }
   ],
   "source": [
    "films = title.groupby('decades').size()\n",
    "\n",
    "films.plot(kind='line')\n",
    "\n",
    "plt.xlabel('Decade')\n",
    "plt.ylabel('Number of Films')\n",
    "plt.title('Number of Films Made in Each Decade')\n",
    "\n",
    "plt.show;"
   ]
  },
  {
   "cell_type": "markdown",
   "id": "7b8b93e3",
   "metadata": {},
   "source": [
    "### 12. Plot the number of films with a Rustler character over time"
   ]
  },
  {
   "cell_type": "code",
   "execution_count": 38,
   "id": "ed1bce02",
   "metadata": {},
   "outputs": [
    {
     "data": {
      "text/html": [
       "<div>\n",
       "<style scoped>\n",
       "    .dataframe tbody tr th:only-of-type {\n",
       "        vertical-align: middle;\n",
       "    }\n",
       "\n",
       "    .dataframe tbody tr th {\n",
       "        vertical-align: top;\n",
       "    }\n",
       "\n",
       "    .dataframe thead th {\n",
       "        text-align: right;\n",
       "    }\n",
       "</style>\n",
       "<table border=\"1\" class=\"dataframe\">\n",
       "  <thead>\n",
       "    <tr style=\"text-align: right;\">\n",
       "      <th></th>\n",
       "      <th>title</th>\n",
       "      <th>year</th>\n",
       "      <th>name</th>\n",
       "      <th>type</th>\n",
       "      <th>character</th>\n",
       "      <th>n</th>\n",
       "    </tr>\n",
       "  </thead>\n",
       "  <tbody>\n",
       "    <tr>\n",
       "      <th>12320</th>\n",
       "      <td>Pinto Canyon</td>\n",
       "      <td>1940</td>\n",
       "      <td>Victor Adamson</td>\n",
       "      <td>actor</td>\n",
       "      <td>Rustler</td>\n",
       "      <td>NaN</td>\n",
       "    </tr>\n",
       "    <tr>\n",
       "      <th>12451</th>\n",
       "      <td>Two Gun Troubador</td>\n",
       "      <td>1939</td>\n",
       "      <td>Victor Adamson</td>\n",
       "      <td>actor</td>\n",
       "      <td>Rustler</td>\n",
       "      <td>NaN</td>\n",
       "    </tr>\n",
       "    <tr>\n",
       "      <th>41718</th>\n",
       "      <td>The Last Stand</td>\n",
       "      <td>1938</td>\n",
       "      <td>Gene Alsace</td>\n",
       "      <td>actor</td>\n",
       "      <td>Rustler</td>\n",
       "      <td>NaN</td>\n",
       "    </tr>\n",
       "    <tr>\n",
       "      <th>71910</th>\n",
       "      <td>Wanted</td>\n",
       "      <td>1967</td>\n",
       "      <td>Bruno Ariè</td>\n",
       "      <td>actor</td>\n",
       "      <td>Rustler</td>\n",
       "      <td>NaN</td>\n",
       "    </tr>\n",
       "    <tr>\n",
       "      <th>89234</th>\n",
       "      <td>Silent Valley</td>\n",
       "      <td>1935</td>\n",
       "      <td>Jimmy Aubrey</td>\n",
       "      <td>actor</td>\n",
       "      <td>Rustler</td>\n",
       "      <td>NaN</td>\n",
       "    </tr>\n",
       "    <tr>\n",
       "      <th>...</th>\n",
       "      <td>...</td>\n",
       "      <td>...</td>\n",
       "      <td>...</td>\n",
       "      <td>...</td>\n",
       "      <td>...</td>\n",
       "      <td>...</td>\n",
       "    </tr>\n",
       "    <tr>\n",
       "      <th>2228961</th>\n",
       "      <td>The Mysterious Avenger</td>\n",
       "      <td>1936</td>\n",
       "      <td>Blackie Whiteford</td>\n",
       "      <td>actor</td>\n",
       "      <td>Rustler</td>\n",
       "      <td>NaN</td>\n",
       "    </tr>\n",
       "    <tr>\n",
       "      <th>2229544</th>\n",
       "      <td>The Marksman</td>\n",
       "      <td>1953</td>\n",
       "      <td>Russ Whiteman</td>\n",
       "      <td>actor</td>\n",
       "      <td>Rustler</td>\n",
       "      <td>9.0</td>\n",
       "    </tr>\n",
       "    <tr>\n",
       "      <th>2248163</th>\n",
       "      <td>The Cowboys</td>\n",
       "      <td>1972</td>\n",
       "      <td>Henry Wills</td>\n",
       "      <td>actor</td>\n",
       "      <td>Rustler</td>\n",
       "      <td>42.0</td>\n",
       "    </tr>\n",
       "    <tr>\n",
       "      <th>2268850</th>\n",
       "      <td>The Frontiersmen</td>\n",
       "      <td>1938</td>\n",
       "      <td>Bob (II) Woodward</td>\n",
       "      <td>actor</td>\n",
       "      <td>Rustler</td>\n",
       "      <td>NaN</td>\n",
       "    </tr>\n",
       "    <tr>\n",
       "      <th>2293242</th>\n",
       "      <td>The Cowboys</td>\n",
       "      <td>1972</td>\n",
       "      <td>Joe Yrigoyen</td>\n",
       "      <td>actor</td>\n",
       "      <td>Rustler</td>\n",
       "      <td>43.0</td>\n",
       "    </tr>\n",
       "  </tbody>\n",
       "</table>\n",
       "<p>134 rows × 6 columns</p>\n",
       "</div>"
      ],
      "text/plain": [
       "                          title  year               name   type character  \\\n",
       "12320              Pinto Canyon  1940     Victor Adamson  actor   Rustler   \n",
       "12451         Two Gun Troubador  1939     Victor Adamson  actor   Rustler   \n",
       "41718            The Last Stand  1938        Gene Alsace  actor   Rustler   \n",
       "71910                    Wanted  1967         Bruno Ariè  actor   Rustler   \n",
       "89234             Silent Valley  1935       Jimmy Aubrey  actor   Rustler   \n",
       "...                         ...   ...                ...    ...       ...   \n",
       "2228961  The Mysterious Avenger  1936  Blackie Whiteford  actor   Rustler   \n",
       "2229544            The Marksman  1953      Russ Whiteman  actor   Rustler   \n",
       "2248163             The Cowboys  1972        Henry Wills  actor   Rustler   \n",
       "2268850        The Frontiersmen  1938  Bob (II) Woodward  actor   Rustler   \n",
       "2293242             The Cowboys  1972       Joe Yrigoyen  actor   Rustler   \n",
       "\n",
       "            n  \n",
       "12320     NaN  \n",
       "12451     NaN  \n",
       "41718     NaN  \n",
       "71910     NaN  \n",
       "89234     NaN  \n",
       "...       ...  \n",
       "2228961   NaN  \n",
       "2229544   9.0  \n",
       "2248163  42.0  \n",
       "2268850   NaN  \n",
       "2293242  43.0  \n",
       "\n",
       "[134 rows x 6 columns]"
      ]
     },
     "execution_count": 38,
     "metadata": {},
     "output_type": "execute_result"
    }
   ],
   "source": [
    "df = cast[cast['character'] == 'Rustler']\n",
    "df"
   ]
  },
  {
   "cell_type": "code",
   "execution_count": 39,
   "id": "b5a6d15a",
   "metadata": {},
   "outputs": [
    {
     "data": {
      "image/png": "[encoded data removed]",
      "text/plain": [
       "<Figure size 640x480 with 1 Axes>"
      ]
     },
     "metadata": {},
     "output_type": "display_data"
    }
   ],
   "source": [
    "char = df.groupby('year')['character'].count()\n",
    "\n",
    "char.plot(kind='line')\n",
    "\n",
    "\n",
    "plt.xlabel('Year')\n",
    "plt.ylabel('Number of films with a Rustler character')\n",
    "plt.title('Number of films with a Rustler character over Time')\n",
    "\n",
    "plt.show;"
   ]
  },
  {
   "cell_type": "markdown",
   "id": "1df5a8a7",
   "metadata": {},
   "source": [
    "### 13. What are the top ten character names of all time?"
   ]
  },
  {
   "cell_type": "code",
   "execution_count": 40,
   "id": "fc30c391",
   "metadata": {},
   "outputs": [
    {
     "data": {
      "text/plain": [
       "character\n",
       "Himself        19637\n",
       "Dancer         12019\n",
       "Extra          10848\n",
       "Reporter        7818\n",
       "Doctor          6963\n",
       "Party Guest     6786\n",
       "Student         6631\n",
       "Policeman       6424\n",
       "Bartender       6290\n",
       "Herself         6269\n",
       "Name: count, dtype: int64"
      ]
     },
     "execution_count": 40,
     "metadata": {},
     "output_type": "execute_result"
    }
   ],
   "source": [
    "top_char = cast['character'].value_counts().head(10)\n",
    "top_char"
   ]
  },
  {
   "cell_type": "markdown",
   "id": "febd5c97",
   "metadata": {},
   "source": [
    "### 14. Which actor appeared in the most films in the 1990's decade?"
   ]
  },
  {
   "cell_type": "code",
   "execution_count": 41,
   "id": "ed10c4df",
   "metadata": {},
   "outputs": [
    {
     "data": {
      "text/plain": [
       "name\n",
       "Shakti Kapoor    143\n",
       "Name: count, dtype: int64"
      ]
     },
     "execution_count": 41,
     "metadata": {},
     "output_type": "execute_result"
    }
   ],
   "source": [
    "top_actor = cast[(cast['year'] >= 1990) & (cast['year'] < 2000)]\n",
    "top_actor[top_actor['type'] == 'actor']['name'].value_counts().head(1)"
   ]
  },
  {
   "cell_type": "markdown",
   "id": "b2d57a18",
   "metadata": {},
   "source": [
    "### 15. What are the top 10 roles that start with Science?"
   ]
  },
  {
   "cell_type": "code",
   "execution_count": 42,
   "id": "64b41362",
   "metadata": {},
   "outputs": [
    {
     "data": {
      "text/plain": [
       "character\n",
       "Science Teacher         57\n",
       "Science Fair Student     9\n",
       "Science Student          6\n",
       "Science Fair Judge       6\n",
       "Science Kid              5\n",
       "Science Fair Kid         5\n",
       "Science Reporter         5\n",
       "Science                  4\n",
       "Science Officer          3\n",
       "Science teacher          3\n",
       "Name: count, dtype: int64"
      ]
     },
     "execution_count": 42,
     "metadata": {},
     "output_type": "execute_result"
    }
   ],
   "source": [
    "sc_film = cast[cast['character'].str.startswith('Science', na = False)]\n",
    "sc_film['character'].value_counts().head(10)"
   ]
  },
  {
   "cell_type": "markdown",
   "id": "7e37caf3",
   "metadata": {},
   "source": [
    "### 16. What film has the largest cast"
   ]
  },
  {
   "cell_type": "code",
   "execution_count": 43,
   "id": "1de674fc",
   "metadata": {},
   "outputs": [
    {
     "data": {
      "text/plain": [
       "'Around the World in 80 Days'"
      ]
     },
     "execution_count": 43,
     "metadata": {},
     "output_type": "execute_result"
    }
   ],
   "source": [
    "cast.groupby('title')['title'].value_counts().idxmax()\n",
    "#['character'].value_counts()"
   ]
  },
  {
   "cell_type": "code",
   "execution_count": 44,
   "id": "f296505e",
   "metadata": {},
   "outputs": [
    {
     "data": {
      "text/plain": [
       "title\n",
       "Around the World in 80 Days    1364\n",
       "Name: count, dtype: int64"
      ]
     },
     "execution_count": 44,
     "metadata": {},
     "output_type": "execute_result"
    }
   ],
   "source": [
    "cast['title'].value_counts().head(1)"
   ]
  },
  {
   "cell_type": "markdown",
   "id": "3a1a26ba",
   "metadata": {},
   "source": [
    "### 17. Generate descriptive statistics for cast size. Briefly comment on the results"
   ]
  },
  {
   "cell_type": "code",
   "execution_count": 46,
   "id": "b0592c92",
   "metadata": {},
   "outputs": [
    {
     "data": {
      "text/plain": [
       "count    168252.000000\n",
       "mean         20.462663\n",
       "std          24.206753\n",
       "min           1.000000\n",
       "25%           6.000000\n",
       "50%          13.000000\n",
       "75%          26.000000\n",
       "max        1364.000000\n",
       "Name: count, dtype: float64"
      ]
     },
     "execution_count": 46,
     "metadata": {},
     "output_type": "execute_result"
    }
   ],
   "source": [
    "cast['title'].value_counts().describe()\n",
    "#This shows the total count of films being 168,252.\n",
    "#It provides statistics on the count of roles in each film \n",
    "#PS: Each row of the data is a cast/character of a film, \n",
    "#thus count of the titles still provides a count of the cast in the film\n",
    "#The average number of cast per film is 20 (rounded)."
   ]
  },
  {
   "cell_type": "markdown",
   "id": "57885f86",
   "metadata": {},
   "source": [
    "### 18. How many films has Natalie Portman been in in each year throughout her career?"
   ]
  },
  {
   "cell_type": "code",
   "execution_count": 47,
   "id": "e2457352",
   "metadata": {},
   "outputs": [
    {
     "data": {
      "text/plain": [
       "year\n",
       "1995    1\n",
       "1996    3\n",
       "1999    3\n",
       "2000    1\n",
       "2001    1\n",
       "2002    1\n",
       "2003    1\n",
       "2004    2\n",
       "2005    4\n",
       "2006    2\n",
       "2007    3\n",
       "2008    1\n",
       "2009    2\n",
       "2010    4\n",
       "2011    3\n",
       "2013    1\n",
       "2015    4\n",
       "2016    3\n",
       "2017    1\n",
       "Name: count, dtype: int64"
      ]
     },
     "execution_count": 47,
     "metadata": {},
     "output_type": "execute_result"
    }
   ],
   "source": [
    "Nat_film = cast[(cast['name'] == 'Natalie Portman')]\n",
    "Nat_film.groupby('year')['year'].value_counts()"
   ]
  },
  {
   "cell_type": "markdown",
   "id": "1bff19c5",
   "metadata": {},
   "source": [
    "### 19. How many films did Natalie Portman appear in each year where where she was either the top star or co-star?"
   ]
  },
  {
   "cell_type": "code",
   "execution_count": 48,
   "id": "e2f4d043",
   "metadata": {},
   "outputs": [
    {
     "data": {
      "text/plain": [
       "year\n",
       "2000    1\n",
       "2005    2\n",
       "2008    1\n",
       "2009    1\n",
       "2010    2\n",
       "2011    1\n",
       "2015    2\n",
       "2016    2\n",
       "Name: count, dtype: int64"
      ]
     },
     "execution_count": 48,
     "metadata": {},
     "output_type": "execute_result"
    }
   ],
   "source": [
    "top_Nat = Nat_film[Nat_film['n'] == 1.0]\n",
    "top_Nat.groupby('year')['year'].value_counts()"
   ]
  },
  {
   "cell_type": "markdown",
   "id": "8eda704b",
   "metadata": {},
   "source": [
    "### 20. Determine how many roles for actor or actress by decade. Plot the output "
   ]
  },
  {
   "cell_type": "code",
   "execution_count": 49,
   "id": "6f232c57",
   "metadata": {},
   "outputs": [
    {
     "name": "stderr",
     "output_type": "stream",
     "text": [
      "C:\\Users\\Nhyira\\AppData\\Local\\Temp\\ipykernel_29692\\3962528707.py:1: SettingWithCopyWarning: \n",
      "A value is trying to be set on a copy of a slice from a DataFrame.\n",
      "Try using .loc[row_indexer,col_indexer] = value instead\n",
      "\n",
      "See the caveats in the documentation: https://pandas.pydata.org/pandas-docs/stable/user_guide/indexing.html#returning-a-view-versus-a-copy\n",
      "  cast['decades'] = (cast['year'] // 10) * 10\n"
     ]
    },
    {
     "data": {
      "text/html": [
       "<div>\n",
       "<style scoped>\n",
       "    .dataframe tbody tr th:only-of-type {\n",
       "        vertical-align: middle;\n",
       "    }\n",
       "\n",
       "    .dataframe tbody tr th {\n",
       "        vertical-align: top;\n",
       "    }\n",
       "\n",
       "    .dataframe thead th {\n",
       "        text-align: right;\n",
       "    }\n",
       "</style>\n",
       "<table border=\"1\" class=\"dataframe\">\n",
       "  <thead>\n",
       "    <tr style=\"text-align: right;\">\n",
       "      <th></th>\n",
       "      <th>title</th>\n",
       "      <th>year</th>\n",
       "      <th>name</th>\n",
       "      <th>type</th>\n",
       "      <th>character</th>\n",
       "      <th>n</th>\n",
       "      <th>decades</th>\n",
       "    </tr>\n",
       "  </thead>\n",
       "  <tbody>\n",
       "    <tr>\n",
       "      <th>0</th>\n",
       "      <td>Closet Monster</td>\n",
       "      <td>2015</td>\n",
       "      <td>Buffy #1</td>\n",
       "      <td>actor</td>\n",
       "      <td>Buffy 4</td>\n",
       "      <td>31.0</td>\n",
       "      <td>2010</td>\n",
       "    </tr>\n",
       "    <tr>\n",
       "      <th>1</th>\n",
       "      <td>Suuri illusioni</td>\n",
       "      <td>1985</td>\n",
       "      <td>Homo $</td>\n",
       "      <td>actor</td>\n",
       "      <td>Guests</td>\n",
       "      <td>22.0</td>\n",
       "      <td>1980</td>\n",
       "    </tr>\n",
       "    <tr>\n",
       "      <th>2</th>\n",
       "      <td>Battle of the Sexes</td>\n",
       "      <td>2017</td>\n",
       "      <td>$hutter</td>\n",
       "      <td>actor</td>\n",
       "      <td>Bobby Riggs Fan</td>\n",
       "      <td>10.0</td>\n",
       "      <td>2010</td>\n",
       "    </tr>\n",
       "    <tr>\n",
       "      <th>3</th>\n",
       "      <td>Secret in Their Eyes</td>\n",
       "      <td>2015</td>\n",
       "      <td>$hutter</td>\n",
       "      <td>actor</td>\n",
       "      <td>2002 Dodger Fan</td>\n",
       "      <td>NaN</td>\n",
       "      <td>2010</td>\n",
       "    </tr>\n",
       "    <tr>\n",
       "      <th>4</th>\n",
       "      <td>Steve Jobs</td>\n",
       "      <td>2015</td>\n",
       "      <td>$hutter</td>\n",
       "      <td>actor</td>\n",
       "      <td>1988 Opera House Patron</td>\n",
       "      <td>NaN</td>\n",
       "      <td>2010</td>\n",
       "    </tr>\n",
       "    <tr>\n",
       "      <th>...</th>\n",
       "      <td>...</td>\n",
       "      <td>...</td>\n",
       "      <td>...</td>\n",
       "      <td>...</td>\n",
       "      <td>...</td>\n",
       "      <td>...</td>\n",
       "      <td>...</td>\n",
       "    </tr>\n",
       "    <tr>\n",
       "      <th>3442897</th>\n",
       "      <td>Foxtrot</td>\n",
       "      <td>1988</td>\n",
       "      <td>Lilja Þórisdóttir</td>\n",
       "      <td>actress</td>\n",
       "      <td>Dóra</td>\n",
       "      <td>24.0</td>\n",
       "      <td>1980</td>\n",
       "    </tr>\n",
       "    <tr>\n",
       "      <th>3442898</th>\n",
       "      <td>Niceland (Population. 1.000.002)</td>\n",
       "      <td>2004</td>\n",
       "      <td>Sigríður Jóna Þórisdóttir</td>\n",
       "      <td>actress</td>\n",
       "      <td>Woman in Bus</td>\n",
       "      <td>26.0</td>\n",
       "      <td>2000</td>\n",
       "    </tr>\n",
       "    <tr>\n",
       "      <th>3442899</th>\n",
       "      <td>Skammdegi</td>\n",
       "      <td>1985</td>\n",
       "      <td>Dalla Þórðardóttir</td>\n",
       "      <td>actress</td>\n",
       "      <td>Hjúkrunarkona</td>\n",
       "      <td>9.0</td>\n",
       "      <td>1980</td>\n",
       "    </tr>\n",
       "    <tr>\n",
       "      <th>3442900</th>\n",
       "      <td>U.S.S.S.S...</td>\n",
       "      <td>2003</td>\n",
       "      <td>Kristín Andrea Þórðardóttir</td>\n",
       "      <td>actress</td>\n",
       "      <td>Afgr.dama á bensínstöð</td>\n",
       "      <td>17.0</td>\n",
       "      <td>2000</td>\n",
       "    </tr>\n",
       "    <tr>\n",
       "      <th>3442901</th>\n",
       "      <td>Bye Bye Blue Bird</td>\n",
       "      <td>1999</td>\n",
       "      <td>Rosa á Rógvu</td>\n",
       "      <td>actress</td>\n",
       "      <td>Pensionatværtinde</td>\n",
       "      <td>NaN</td>\n",
       "      <td>1990</td>\n",
       "    </tr>\n",
       "  </tbody>\n",
       "</table>\n",
       "<p>3442890 rows × 7 columns</p>\n",
       "</div>"
      ],
      "text/plain": [
       "                                    title  year                         name  \\\n",
       "0                          Closet Monster  2015                     Buffy #1   \n",
       "1                         Suuri illusioni  1985                       Homo $   \n",
       "2                     Battle of the Sexes  2017                      $hutter   \n",
       "3                    Secret in Their Eyes  2015                      $hutter   \n",
       "4                              Steve Jobs  2015                      $hutter   \n",
       "...                                   ...   ...                          ...   \n",
       "3442897                           Foxtrot  1988            Lilja Þórisdóttir   \n",
       "3442898  Niceland (Population. 1.000.002)  2004    Sigríður Jóna Þórisdóttir   \n",
       "3442899                         Skammdegi  1985           Dalla Þórðardóttir   \n",
       "3442900                      U.S.S.S.S...  2003  Kristín Andrea Þórðardóttir   \n",
       "3442901                 Bye Bye Blue Bird  1999                 Rosa á Rógvu   \n",
       "\n",
       "            type                character     n  decades  \n",
       "0          actor                  Buffy 4  31.0     2010  \n",
       "1          actor                   Guests  22.0     1980  \n",
       "2          actor          Bobby Riggs Fan  10.0     2010  \n",
       "3          actor          2002 Dodger Fan   NaN     2010  \n",
       "4          actor  1988 Opera House Patron   NaN     2010  \n",
       "...          ...                      ...   ...      ...  \n",
       "3442897  actress                     Dóra  24.0     1980  \n",
       "3442898  actress             Woman in Bus  26.0     2000  \n",
       "3442899  actress            Hjúkrunarkona   9.0     1980  \n",
       "3442900  actress   Afgr.dama á bensínstöð  17.0     2000  \n",
       "3442901  actress        Pensionatværtinde   NaN     1990  \n",
       "\n",
       "[3442890 rows x 7 columns]"
      ]
     },
     "execution_count": 49,
     "metadata": {},
     "output_type": "execute_result"
    }
   ],
   "source": [
    "cast['decades'] = (cast['year'] // 10) * 10\n",
    "cast"
   ]
  },
  {
   "cell_type": "code",
   "execution_count": 50,
   "id": "a008ed8c",
   "metadata": {},
   "outputs": [
    {
     "data": {
      "text/plain": [
       "decades\n",
       "1890         2\n",
       "1900        54\n",
       "1910     27396\n",
       "1920     48112\n",
       "1930    149272\n",
       "1940    159799\n",
       "1950    153559\n",
       "1960    128132\n",
       "1970    142015\n",
       "1980    177064\n",
       "1990    245713\n",
       "2000    440810\n",
       "2010    645548\n",
       "2020       129\n",
       "dtype: int64"
      ]
     },
     "execution_count": 50,
     "metadata": {},
     "output_type": "execute_result"
    }
   ],
   "source": [
    "actor = cast[cast['type'] == 'actor']\n",
    "actor_role_count = actor.groupby('decades').size()\n",
    "actor_role_count\n",
    "#['title'].value_counts()\n",
    "#actor['title'].value_counts()"
   ]
  },
  {
   "cell_type": "code",
   "execution_count": 51,
   "id": "c7002704",
   "metadata": {},
   "outputs": [
    {
     "data": {
      "text/plain": [
       "decades\n",
       "1890         1\n",
       "1900        16\n",
       "1910     15733\n",
       "1920     23826\n",
       "1930     49298\n",
       "1940     50871\n",
       "1950     56331\n",
       "1960     54484\n",
       "1970     60977\n",
       "1980     80619\n",
       "1990    115505\n",
       "2000    235217\n",
       "2010    382288\n",
       "2020       119\n",
       "dtype: int64"
      ]
     },
     "execution_count": 51,
     "metadata": {},
     "output_type": "execute_result"
    }
   ],
   "source": [
    "actress = cast[cast['type'] == 'actress']\n",
    "actress_role_count = actress.groupby('decades').size()\n",
    "actress_role_count"
   ]
  },
  {
   "cell_type": "code",
   "execution_count": 52,
   "id": "bc1a1aca",
   "metadata": {},
   "outputs": [
    {
     "data": {
      "image/png": "[encoded data removed]",
      "text/plain": [
       "<Figure size 640x480 with 1 Axes>"
      ]
     },
     "metadata": {},
     "output_type": "display_data"
    }
   ],
   "source": [
    "actress_role_count.plot(kind='line', label='Actress')\n",
    "actor_role_count.plot(kind='line', label='Actor')\n",
    "\n",
    "plt.xlabel('Decade')\n",
    "plt.ylabel('Count of Roles')\n",
    "plt.title('Roles for Actors & Actresses by Decades')\n",
    "\n",
    "plt.legend()\n",
    "plt.show;"
   ]
  },
  {
   "cell_type": "markdown",
   "id": "fffe663b",
   "metadata": {},
   "source": [
    "### 21. Determine and comment on the day of the week that movies are released. What is notable about release days and months throughout the year? (Use pd.pivot_table)"
   ]
  },
  {
   "cell_type": "code",
   "execution_count": 53,
   "id": "5d3f6e03",
   "metadata": {},
   "outputs": [
    {
     "name": "stderr",
     "output_type": "stream",
     "text": [
      "C:\\Users\\Nhyira\\AppData\\Local\\Temp\\ipykernel_29692\\3161827381.py:1: SettingWithCopyWarning: \n",
      "A value is trying to be set on a copy of a slice from a DataFrame.\n",
      "Try using .loc[row_indexer,col_indexer] = value instead\n",
      "\n",
      "See the caveats in the documentation: https://pandas.pydata.org/pandas-docs/stable/user_guide/indexing.html#returning-a-view-versus-a-copy\n",
      "  release['date'] = pd.to_datetime(release['date'])\n"
     ]
    },
    {
     "data": {
      "text/html": [
       "<div>\n",
       "<style scoped>\n",
       "    .dataframe tbody tr th:only-of-type {\n",
       "        vertical-align: middle;\n",
       "    }\n",
       "\n",
       "    .dataframe tbody tr th {\n",
       "        vertical-align: top;\n",
       "    }\n",
       "\n",
       "    .dataframe thead th {\n",
       "        text-align: right;\n",
       "    }\n",
       "</style>\n",
       "<table border=\"1\" class=\"dataframe\">\n",
       "  <thead>\n",
       "    <tr style=\"text-align: right;\">\n",
       "      <th></th>\n",
       "      <th>title</th>\n",
       "      <th>year</th>\n",
       "      <th>country</th>\n",
       "      <th>date</th>\n",
       "    </tr>\n",
       "  </thead>\n",
       "  <tbody>\n",
       "    <tr>\n",
       "      <th>0</th>\n",
       "      <td>#73, Shaanthi Nivaasa</td>\n",
       "      <td>2007</td>\n",
       "      <td>India</td>\n",
       "      <td>2007-06-15</td>\n",
       "    </tr>\n",
       "    <tr>\n",
       "      <th>1</th>\n",
       "      <td>#BKKY</td>\n",
       "      <td>2016</td>\n",
       "      <td>Cambodia</td>\n",
       "      <td>2017-10-12</td>\n",
       "    </tr>\n",
       "    <tr>\n",
       "      <th>2</th>\n",
       "      <td>#Beings</td>\n",
       "      <td>2015</td>\n",
       "      <td>Romania</td>\n",
       "      <td>2015-01-29</td>\n",
       "    </tr>\n",
       "    <tr>\n",
       "      <th>3</th>\n",
       "      <td>#Captured</td>\n",
       "      <td>2017</td>\n",
       "      <td>USA</td>\n",
       "      <td>2017-09-05</td>\n",
       "    </tr>\n",
       "    <tr>\n",
       "      <th>4</th>\n",
       "      <td>#Ewankosau saranghaeyo</td>\n",
       "      <td>2015</td>\n",
       "      <td>Philippines</td>\n",
       "      <td>2015-01-21</td>\n",
       "    </tr>\n",
       "    <tr>\n",
       "      <th>...</th>\n",
       "      <td>...</td>\n",
       "      <td>...</td>\n",
       "      <td>...</td>\n",
       "      <td>...</td>\n",
       "    </tr>\n",
       "    <tr>\n",
       "      <th>443481</th>\n",
       "      <td>xXx: State of the Union</td>\n",
       "      <td>2005</td>\n",
       "      <td>Uruguay</td>\n",
       "      <td>2005-04-29</td>\n",
       "    </tr>\n",
       "    <tr>\n",
       "      <th>443482</th>\n",
       "      <td>xXx: State of the Union</td>\n",
       "      <td>2005</td>\n",
       "      <td>Poland</td>\n",
       "      <td>2005-06-03</td>\n",
       "    </tr>\n",
       "    <tr>\n",
       "      <th>443483</th>\n",
       "      <td>xXx: State of the Union</td>\n",
       "      <td>2005</td>\n",
       "      <td>Turkey</td>\n",
       "      <td>2005-06-03</td>\n",
       "    </tr>\n",
       "    <tr>\n",
       "      <th>443484</th>\n",
       "      <td>xXx: State of the Union</td>\n",
       "      <td>2005</td>\n",
       "      <td>China</td>\n",
       "      <td>2005-06-17</td>\n",
       "    </tr>\n",
       "    <tr>\n",
       "      <th>443485</th>\n",
       "      <td>xXx: State of the Union</td>\n",
       "      <td>2005</td>\n",
       "      <td>Greece</td>\n",
       "      <td>2005-06-24</td>\n",
       "    </tr>\n",
       "  </tbody>\n",
       "</table>\n",
       "<p>443484 rows × 4 columns</p>\n",
       "</div>"
      ],
      "text/plain": [
       "                          title  year      country       date\n",
       "0         #73, Shaanthi Nivaasa  2007        India 2007-06-15\n",
       "1                         #BKKY  2016     Cambodia 2017-10-12\n",
       "2                       #Beings  2015      Romania 2015-01-29\n",
       "3                     #Captured  2017          USA 2017-09-05\n",
       "4        #Ewankosau saranghaeyo  2015  Philippines 2015-01-21\n",
       "...                         ...   ...          ...        ...\n",
       "443481  xXx: State of the Union  2005      Uruguay 2005-04-29\n",
       "443482  xXx: State of the Union  2005       Poland 2005-06-03\n",
       "443483  xXx: State of the Union  2005       Turkey 2005-06-03\n",
       "443484  xXx: State of the Union  2005        China 2005-06-17\n",
       "443485  xXx: State of the Union  2005       Greece 2005-06-24\n",
       "\n",
       "[443484 rows x 4 columns]"
      ]
     },
     "execution_count": 53,
     "metadata": {},
     "output_type": "execute_result"
    }
   ],
   "source": [
    "release['date'] = pd.to_datetime(release['date'])\n",
    "release"
   ]
  },
  {
   "cell_type": "code",
   "execution_count": 54,
   "id": "544718fc",
   "metadata": {},
   "outputs": [
    {
     "name": "stderr",
     "output_type": "stream",
     "text": [
      "C:\\Users\\Nhyira\\AppData\\Local\\Temp\\ipykernel_29692\\173006756.py:1: SettingWithCopyWarning: \n",
      "A value is trying to be set on a copy of a slice from a DataFrame.\n",
      "Try using .loc[row_indexer,col_indexer] = value instead\n",
      "\n",
      "See the caveats in the documentation: https://pandas.pydata.org/pandas-docs/stable/user_guide/indexing.html#returning-a-view-versus-a-copy\n",
      "  release['day'] = release['date'].dt.day_name()\n"
     ]
    },
    {
     "data": {
      "text/html": [
       "<div>\n",
       "<style scoped>\n",
       "    .dataframe tbody tr th:only-of-type {\n",
       "        vertical-align: middle;\n",
       "    }\n",
       "\n",
       "    .dataframe tbody tr th {\n",
       "        vertical-align: top;\n",
       "    }\n",
       "\n",
       "    .dataframe thead th {\n",
       "        text-align: right;\n",
       "    }\n",
       "</style>\n",
       "<table border=\"1\" class=\"dataframe\">\n",
       "  <thead>\n",
       "    <tr style=\"text-align: right;\">\n",
       "      <th></th>\n",
       "      <th>title</th>\n",
       "      <th>year</th>\n",
       "      <th>country</th>\n",
       "      <th>date</th>\n",
       "      <th>day</th>\n",
       "    </tr>\n",
       "  </thead>\n",
       "  <tbody>\n",
       "    <tr>\n",
       "      <th>0</th>\n",
       "      <td>#73, Shaanthi Nivaasa</td>\n",
       "      <td>2007</td>\n",
       "      <td>India</td>\n",
       "      <td>2007-06-15</td>\n",
       "      <td>Friday</td>\n",
       "    </tr>\n",
       "    <tr>\n",
       "      <th>1</th>\n",
       "      <td>#BKKY</td>\n",
       "      <td>2016</td>\n",
       "      <td>Cambodia</td>\n",
       "      <td>2017-10-12</td>\n",
       "      <td>Thursday</td>\n",
       "    </tr>\n",
       "    <tr>\n",
       "      <th>2</th>\n",
       "      <td>#Beings</td>\n",
       "      <td>2015</td>\n",
       "      <td>Romania</td>\n",
       "      <td>2015-01-29</td>\n",
       "      <td>Thursday</td>\n",
       "    </tr>\n",
       "    <tr>\n",
       "      <th>3</th>\n",
       "      <td>#Captured</td>\n",
       "      <td>2017</td>\n",
       "      <td>USA</td>\n",
       "      <td>2017-09-05</td>\n",
       "      <td>Tuesday</td>\n",
       "    </tr>\n",
       "    <tr>\n",
       "      <th>4</th>\n",
       "      <td>#Ewankosau saranghaeyo</td>\n",
       "      <td>2015</td>\n",
       "      <td>Philippines</td>\n",
       "      <td>2015-01-21</td>\n",
       "      <td>Wednesday</td>\n",
       "    </tr>\n",
       "    <tr>\n",
       "      <th>...</th>\n",
       "      <td>...</td>\n",
       "      <td>...</td>\n",
       "      <td>...</td>\n",
       "      <td>...</td>\n",
       "      <td>...</td>\n",
       "    </tr>\n",
       "    <tr>\n",
       "      <th>443481</th>\n",
       "      <td>xXx: State of the Union</td>\n",
       "      <td>2005</td>\n",
       "      <td>Uruguay</td>\n",
       "      <td>2005-04-29</td>\n",
       "      <td>Friday</td>\n",
       "    </tr>\n",
       "    <tr>\n",
       "      <th>443482</th>\n",
       "      <td>xXx: State of the Union</td>\n",
       "      <td>2005</td>\n",
       "      <td>Poland</td>\n",
       "      <td>2005-06-03</td>\n",
       "      <td>Friday</td>\n",
       "    </tr>\n",
       "    <tr>\n",
       "      <th>443483</th>\n",
       "      <td>xXx: State of the Union</td>\n",
       "      <td>2005</td>\n",
       "      <td>Turkey</td>\n",
       "      <td>2005-06-03</td>\n",
       "      <td>Friday</td>\n",
       "    </tr>\n",
       "    <tr>\n",
       "      <th>443484</th>\n",
       "      <td>xXx: State of the Union</td>\n",
       "      <td>2005</td>\n",
       "      <td>China</td>\n",
       "      <td>2005-06-17</td>\n",
       "      <td>Friday</td>\n",
       "    </tr>\n",
       "    <tr>\n",
       "      <th>443485</th>\n",
       "      <td>xXx: State of the Union</td>\n",
       "      <td>2005</td>\n",
       "      <td>Greece</td>\n",
       "      <td>2005-06-24</td>\n",
       "      <td>Friday</td>\n",
       "    </tr>\n",
       "  </tbody>\n",
       "</table>\n",
       "<p>443484 rows × 5 columns</p>\n",
       "</div>"
      ],
      "text/plain": [
       "                          title  year      country       date        day\n",
       "0         #73, Shaanthi Nivaasa  2007        India 2007-06-15     Friday\n",
       "1                         #BKKY  2016     Cambodia 2017-10-12   Thursday\n",
       "2                       #Beings  2015      Romania 2015-01-29   Thursday\n",
       "3                     #Captured  2017          USA 2017-09-05    Tuesday\n",
       "4        #Ewankosau saranghaeyo  2015  Philippines 2015-01-21  Wednesday\n",
       "...                         ...   ...          ...        ...        ...\n",
       "443481  xXx: State of the Union  2005      Uruguay 2005-04-29     Friday\n",
       "443482  xXx: State of the Union  2005       Poland 2005-06-03     Friday\n",
       "443483  xXx: State of the Union  2005       Turkey 2005-06-03     Friday\n",
       "443484  xXx: State of the Union  2005        China 2005-06-17     Friday\n",
       "443485  xXx: State of the Union  2005       Greece 2005-06-24     Friday\n",
       "\n",
       "[443484 rows x 5 columns]"
      ]
     },
     "execution_count": 54,
     "metadata": {},
     "output_type": "execute_result"
    }
   ],
   "source": [
    "release['day'] = release['date'].dt.day_name() \n",
    "release"
   ]
  },
  {
   "cell_type": "code",
   "execution_count": 55,
   "id": "ed7f11a1",
   "metadata": {},
   "outputs": [
    {
     "name": "stderr",
     "output_type": "stream",
     "text": [
      "C:\\Users\\Nhyira\\AppData\\Local\\Temp\\ipykernel_29692\\1242607512.py:1: SettingWithCopyWarning: \n",
      "A value is trying to be set on a copy of a slice from a DataFrame.\n",
      "Try using .loc[row_indexer,col_indexer] = value instead\n",
      "\n",
      "See the caveats in the documentation: https://pandas.pydata.org/pandas-docs/stable/user_guide/indexing.html#returning-a-view-versus-a-copy\n",
      "  release['month'] = release['date'].dt.month_name()\n"
     ]
    },
    {
     "data": {
      "text/html": [
       "<div>\n",
       "<style scoped>\n",
       "    .dataframe tbody tr th:only-of-type {\n",
       "        vertical-align: middle;\n",
       "    }\n",
       "\n",
       "    .dataframe tbody tr th {\n",
       "        vertical-align: top;\n",
       "    }\n",
       "\n",
       "    .dataframe thead th {\n",
       "        text-align: right;\n",
       "    }\n",
       "</style>\n",
       "<table border=\"1\" class=\"dataframe\">\n",
       "  <thead>\n",
       "    <tr style=\"text-align: right;\">\n",
       "      <th></th>\n",
       "      <th>title</th>\n",
       "      <th>year</th>\n",
       "      <th>country</th>\n",
       "      <th>date</th>\n",
       "      <th>day</th>\n",
       "      <th>month</th>\n",
       "    </tr>\n",
       "  </thead>\n",
       "  <tbody>\n",
       "    <tr>\n",
       "      <th>0</th>\n",
       "      <td>#73, Shaanthi Nivaasa</td>\n",
       "      <td>2007</td>\n",
       "      <td>India</td>\n",
       "      <td>2007-06-15</td>\n",
       "      <td>Friday</td>\n",
       "      <td>June</td>\n",
       "    </tr>\n",
       "    <tr>\n",
       "      <th>1</th>\n",
       "      <td>#BKKY</td>\n",
       "      <td>2016</td>\n",
       "      <td>Cambodia</td>\n",
       "      <td>2017-10-12</td>\n",
       "      <td>Thursday</td>\n",
       "      <td>October</td>\n",
       "    </tr>\n",
       "    <tr>\n",
       "      <th>2</th>\n",
       "      <td>#Beings</td>\n",
       "      <td>2015</td>\n",
       "      <td>Romania</td>\n",
       "      <td>2015-01-29</td>\n",
       "      <td>Thursday</td>\n",
       "      <td>January</td>\n",
       "    </tr>\n",
       "    <tr>\n",
       "      <th>3</th>\n",
       "      <td>#Captured</td>\n",
       "      <td>2017</td>\n",
       "      <td>USA</td>\n",
       "      <td>2017-09-05</td>\n",
       "      <td>Tuesday</td>\n",
       "      <td>September</td>\n",
       "    </tr>\n",
       "    <tr>\n",
       "      <th>4</th>\n",
       "      <td>#Ewankosau saranghaeyo</td>\n",
       "      <td>2015</td>\n",
       "      <td>Philippines</td>\n",
       "      <td>2015-01-21</td>\n",
       "      <td>Wednesday</td>\n",
       "      <td>January</td>\n",
       "    </tr>\n",
       "    <tr>\n",
       "      <th>...</th>\n",
       "      <td>...</td>\n",
       "      <td>...</td>\n",
       "      <td>...</td>\n",
       "      <td>...</td>\n",
       "      <td>...</td>\n",
       "      <td>...</td>\n",
       "    </tr>\n",
       "    <tr>\n",
       "      <th>443481</th>\n",
       "      <td>xXx: State of the Union</td>\n",
       "      <td>2005</td>\n",
       "      <td>Uruguay</td>\n",
       "      <td>2005-04-29</td>\n",
       "      <td>Friday</td>\n",
       "      <td>April</td>\n",
       "    </tr>\n",
       "    <tr>\n",
       "      <th>443482</th>\n",
       "      <td>xXx: State of the Union</td>\n",
       "      <td>2005</td>\n",
       "      <td>Poland</td>\n",
       "      <td>2005-06-03</td>\n",
       "      <td>Friday</td>\n",
       "      <td>June</td>\n",
       "    </tr>\n",
       "    <tr>\n",
       "      <th>443483</th>\n",
       "      <td>xXx: State of the Union</td>\n",
       "      <td>2005</td>\n",
       "      <td>Turkey</td>\n",
       "      <td>2005-06-03</td>\n",
       "      <td>Friday</td>\n",
       "      <td>June</td>\n",
       "    </tr>\n",
       "    <tr>\n",
       "      <th>443484</th>\n",
       "      <td>xXx: State of the Union</td>\n",
       "      <td>2005</td>\n",
       "      <td>China</td>\n",
       "      <td>2005-06-17</td>\n",
       "      <td>Friday</td>\n",
       "      <td>June</td>\n",
       "    </tr>\n",
       "    <tr>\n",
       "      <th>443485</th>\n",
       "      <td>xXx: State of the Union</td>\n",
       "      <td>2005</td>\n",
       "      <td>Greece</td>\n",
       "      <td>2005-06-24</td>\n",
       "      <td>Friday</td>\n",
       "      <td>June</td>\n",
       "    </tr>\n",
       "  </tbody>\n",
       "</table>\n",
       "<p>443484 rows × 6 columns</p>\n",
       "</div>"
      ],
      "text/plain": [
       "                          title  year      country       date        day  \\\n",
       "0         #73, Shaanthi Nivaasa  2007        India 2007-06-15     Friday   \n",
       "1                         #BKKY  2016     Cambodia 2017-10-12   Thursday   \n",
       "2                       #Beings  2015      Romania 2015-01-29   Thursday   \n",
       "3                     #Captured  2017          USA 2017-09-05    Tuesday   \n",
       "4        #Ewankosau saranghaeyo  2015  Philippines 2015-01-21  Wednesday   \n",
       "...                         ...   ...          ...        ...        ...   \n",
       "443481  xXx: State of the Union  2005      Uruguay 2005-04-29     Friday   \n",
       "443482  xXx: State of the Union  2005       Poland 2005-06-03     Friday   \n",
       "443483  xXx: State of the Union  2005       Turkey 2005-06-03     Friday   \n",
       "443484  xXx: State of the Union  2005        China 2005-06-17     Friday   \n",
       "443485  xXx: State of the Union  2005       Greece 2005-06-24     Friday   \n",
       "\n",
       "            month  \n",
       "0            June  \n",
       "1         October  \n",
       "2         January  \n",
       "3       September  \n",
       "4         January  \n",
       "...           ...  \n",
       "443481      April  \n",
       "443482       June  \n",
       "443483       June  \n",
       "443484       June  \n",
       "443485       June  \n",
       "\n",
       "[443484 rows x 6 columns]"
      ]
     },
     "execution_count": 55,
     "metadata": {},
     "output_type": "execute_result"
    }
   ],
   "source": [
    "release['month'] = release['date'].dt.month_name() \n",
    "release"
   ]
  },
  {
   "cell_type": "code",
   "execution_count": 56,
   "id": "2a520e12",
   "metadata": {},
   "outputs": [
    {
     "data": {
      "text/plain": [
       "day\n",
       "Friday       163173\n",
       "Monday        37209\n",
       "Saturday      31332\n",
       "Sunday        15823\n",
       "Thursday     125746\n",
       "Tuesday       16762\n",
       "Wednesday     53439\n",
       "dtype: int64"
      ]
     },
     "execution_count": 56,
     "metadata": {},
     "output_type": "execute_result"
    }
   ],
   "source": [
    "day_pivot = pd.pivot_table(release, index=['day'], aggfunc='size')\n",
    "day_pivot"
   ]
  },
  {
   "cell_type": "code",
   "execution_count": 57,
   "id": "605eb2b8",
   "metadata": {},
   "outputs": [
    {
     "data": {
      "text/plain": [
       "month\n",
       "April        37674\n",
       "August       35011\n",
       "December     39095\n",
       "February     36307\n",
       "January      39412\n",
       "July         31421\n",
       "June         32704\n",
       "March        40257\n",
       "May          35449\n",
       "November     38200\n",
       "October      40204\n",
       "September    37750\n",
       "dtype: int64"
      ]
     },
     "execution_count": 57,
     "metadata": {},
     "output_type": "execute_result"
    }
   ],
   "source": [
    "month_pivot = pd.pivot_table(release, index=['month'], aggfunc='size')\n",
    "month_pivot"
   ]
  },
  {
   "cell_type": "markdown",
   "id": "88b4b805",
   "metadata": {},
   "source": [
    "### 22. Can you plot the pivot table? Is the output \"correct\"? Can you fix it?"
   ]
  },
  {
   "cell_type": "code",
   "execution_count": 58,
   "id": "07152c8b",
   "metadata": {},
   "outputs": [
    {
     "data": {
      "image/png": "[encoded data removed]",
      "text/plain": [
       "<Figure size 640x480 with 1 Axes>"
      ]
     },
     "metadata": {},
     "output_type": "display_data"
    }
   ],
   "source": [
    "day_pivot.plot(kind='bar')\n",
    "plt.show;"
   ]
  },
  {
   "cell_type": "code",
   "execution_count": 59,
   "id": "b50a6dee",
   "metadata": {},
   "outputs": [
    {
     "data": {
      "image/png": "[encoded data removed]",
      "text/plain": [
       "<Figure size 640x480 with 1 Axes>"
      ]
     },
     "metadata": {},
     "output_type": "display_data"
    }
   ],
   "source": [
    "month_pivot.plot(kind='bar')\n",
    "plt.show;"
   ]
  },
  {
   "cell_type": "markdown",
   "id": "19fc8bc4",
   "metadata": {},
   "source": [
    "### 23. What films did actors in Star Wars go on to appear in? "
   ]
  },
  {
   "cell_type": "code",
   "execution_count": 60,
   "id": "35e5f456",
   "metadata": {},
   "outputs": [
    {
     "data": {
      "text/html": [
       "<div>\n",
       "<style scoped>\n",
       "    .dataframe tbody tr th:only-of-type {\n",
       "        vertical-align: middle;\n",
       "    }\n",
       "\n",
       "    .dataframe tbody tr th {\n",
       "        vertical-align: top;\n",
       "    }\n",
       "\n",
       "    .dataframe thead th {\n",
       "        text-align: right;\n",
       "    }\n",
       "</style>\n",
       "<table border=\"1\" class=\"dataframe\">\n",
       "  <thead>\n",
       "    <tr style=\"text-align: right;\">\n",
       "      <th></th>\n",
       "      <th>title</th>\n",
       "      <th>year</th>\n",
       "      <th>name</th>\n",
       "      <th>type</th>\n",
       "      <th>character</th>\n",
       "      <th>n</th>\n",
       "      <th>decades</th>\n",
       "    </tr>\n",
       "  </thead>\n",
       "  <tbody>\n",
       "    <tr>\n",
       "      <th>59909</th>\n",
       "      <td>Star Wars</td>\n",
       "      <td>1977</td>\n",
       "      <td>David Ankrum</td>\n",
       "      <td>actor</td>\n",
       "      <td>Red Two</td>\n",
       "      <td>NaN</td>\n",
       "      <td>1970</td>\n",
       "    </tr>\n",
       "    <tr>\n",
       "      <th>82411</th>\n",
       "      <td>Star Wars</td>\n",
       "      <td>1977</td>\n",
       "      <td>Graham Ashley</td>\n",
       "      <td>actor</td>\n",
       "      <td>Gold Five</td>\n",
       "      <td>23.0</td>\n",
       "      <td>1970</td>\n",
       "    </tr>\n",
       "    <tr>\n",
       "      <th>91760</th>\n",
       "      <td>Star Wars</td>\n",
       "      <td>1977</td>\n",
       "      <td>Mark Anthony Austin</td>\n",
       "      <td>actor</td>\n",
       "      <td>Boba Fett (special edition)</td>\n",
       "      <td>NaN</td>\n",
       "      <td>1970</td>\n",
       "    </tr>\n",
       "    <tr>\n",
       "      <th>110035</th>\n",
       "      <td>Star Wars</td>\n",
       "      <td>1977</td>\n",
       "      <td>Kenny Baker</td>\n",
       "      <td>actor</td>\n",
       "      <td>R2-D2</td>\n",
       "      <td>7.0</td>\n",
       "      <td>1970</td>\n",
       "    </tr>\n",
       "    <tr>\n",
       "      <th>145346</th>\n",
       "      <td>Star Wars</td>\n",
       "      <td>1977</td>\n",
       "      <td>Scott Beach</td>\n",
       "      <td>actor</td>\n",
       "      <td>Stormtrooper</td>\n",
       "      <td>NaN</td>\n",
       "      <td>1970</td>\n",
       "    </tr>\n",
       "    <tr>\n",
       "      <th>...</th>\n",
       "      <td>...</td>\n",
       "      <td>...</td>\n",
       "      <td>...</td>\n",
       "      <td>...</td>\n",
       "      <td>...</td>\n",
       "      <td>...</td>\n",
       "      <td>...</td>\n",
       "    </tr>\n",
       "    <tr>\n",
       "      <th>2211132</th>\n",
       "      <td>Star Wars</td>\n",
       "      <td>1977</td>\n",
       "      <td>Harold Weed</td>\n",
       "      <td>actor</td>\n",
       "      <td>Ketwol</td>\n",
       "      <td>NaN</td>\n",
       "      <td>1970</td>\n",
       "    </tr>\n",
       "    <tr>\n",
       "      <th>2211133</th>\n",
       "      <td>Star Wars</td>\n",
       "      <td>1977</td>\n",
       "      <td>Harold Weed</td>\n",
       "      <td>actor</td>\n",
       "      <td>Melas</td>\n",
       "      <td>NaN</td>\n",
       "      <td>1970</td>\n",
       "    </tr>\n",
       "    <tr>\n",
       "      <th>2222386</th>\n",
       "      <td>Star Wars</td>\n",
       "      <td>1977</td>\n",
       "      <td>Bill Weston</td>\n",
       "      <td>actor</td>\n",
       "      <td>Stormtrooper</td>\n",
       "      <td>NaN</td>\n",
       "      <td>1970</td>\n",
       "    </tr>\n",
       "    <tr>\n",
       "      <th>2245262</th>\n",
       "      <td>Star Wars</td>\n",
       "      <td>1977</td>\n",
       "      <td>Steve 'Spaz' Williams</td>\n",
       "      <td>actor</td>\n",
       "      <td>Mos Eisley Citizen (special edition)</td>\n",
       "      <td>NaN</td>\n",
       "      <td>1970</td>\n",
       "    </tr>\n",
       "    <tr>\n",
       "      <th>2265862</th>\n",
       "      <td>Star Wars</td>\n",
       "      <td>1977</td>\n",
       "      <td>Fred Wood</td>\n",
       "      <td>actor</td>\n",
       "      <td>Cantina Patron</td>\n",
       "      <td>NaN</td>\n",
       "      <td>1970</td>\n",
       "    </tr>\n",
       "  </tbody>\n",
       "</table>\n",
       "<p>96 rows × 7 columns</p>\n",
       "</div>"
      ],
      "text/plain": [
       "             title  year                   name   type  \\\n",
       "59909    Star Wars  1977           David Ankrum  actor   \n",
       "82411    Star Wars  1977          Graham Ashley  actor   \n",
       "91760    Star Wars  1977    Mark Anthony Austin  actor   \n",
       "110035   Star Wars  1977            Kenny Baker  actor   \n",
       "145346   Star Wars  1977            Scott Beach  actor   \n",
       "...            ...   ...                    ...    ...   \n",
       "2211132  Star Wars  1977            Harold Weed  actor   \n",
       "2211133  Star Wars  1977            Harold Weed  actor   \n",
       "2222386  Star Wars  1977            Bill Weston  actor   \n",
       "2245262  Star Wars  1977  Steve 'Spaz' Williams  actor   \n",
       "2265862  Star Wars  1977              Fred Wood  actor   \n",
       "\n",
       "                                    character     n  decades  \n",
       "59909                                 Red Two   NaN     1970  \n",
       "82411                               Gold Five  23.0     1970  \n",
       "91760             Boba Fett (special edition)   NaN     1970  \n",
       "110035                                  R2-D2   7.0     1970  \n",
       "145346                           Stormtrooper   NaN     1970  \n",
       "...                                       ...   ...      ...  \n",
       "2211132                                Ketwol   NaN     1970  \n",
       "2211133                                 Melas   NaN     1970  \n",
       "2222386                          Stormtrooper   NaN     1970  \n",
       "2245262  Mos Eisley Citizen (special edition)   NaN     1970  \n",
       "2265862                        Cantina Patron   NaN     1970  \n",
       "\n",
       "[96 rows x 7 columns]"
      ]
     },
     "execution_count": 60,
     "metadata": {},
     "output_type": "execute_result"
    }
   ],
   "source": [
    "star = cast[(cast['title'] == 'Star Wars') & (cast['type'] == 'actor')]\n",
    "star"
   ]
  },
  {
   "cell_type": "code",
   "execution_count": 61,
   "id": "2de76e6c",
   "metadata": {},
   "outputs": [],
   "source": [
    "actors = star['name'].unique()"
   ]
  },
  {
   "cell_type": "code",
   "execution_count": null,
   "id": "450b2359",
   "metadata": {},
   "outputs": [
    {
     "name": "stdout",
     "output_type": "stream",
     "text": [
      "Actor: David Ankrum\n",
      "Films:\n",
      "- Rogue One (Wedge Antilles)\n",
      "- Smorgasbord (Bellboy)\n",
      "- The Sting II (Waiter)\n",
      "Actor: Graham Ashley\n",
      "Films:\n",
      "- Adventures of a Plumber's Mate (1st Thief)\n",
      "- Licensed to Love and Kill (Commander)\n",
      "Actor: Mark Anthony Austin\n",
      "Films:\n",
      "Actor: Kenny Baker\n",
      "Films:\n",
      "- 24 Hour Party People (Zookeeper)\n",
      "- Amadeus (Parody Commendatore)\n",
      "- Flash Gordon (Dwarf)\n",
      "- Labyrinth (Goblin Corps)\n",
      "- Mona Lisa (Brighton Busker)\n",
      "- Sleeping Beauty (Elf)\n",
      "- Star Wars: Episode I - The Phantom Menace (R2-D2)\n",
      "- Star Wars: Episode II - Attack of the Clones (R2-D2)\n",
      "- Star Wars: Episode III - Revenge of the Sith (R2-D2)\n",
      "- Star Wars: Episode V - The Empire Strikes Back (R2-D2)\n",
      "- Star Wars: Episode VI - Return of the Jedi (R2-D2)\n",
      "- Star Wars: Episode VI - Return of the Jedi (Paploo)\n",
      "- The Elephant Man (Plumed Dwarf)\n",
      "- The King and I (Captain Orton)\n",
      "- Time Bandits (Fidgit)\n",
      "- U.F.O. (Casanova)\n",
      "- Willow (Nelwyn Band Member)\n",
      "- Wombling Free (Bungo)\n",
      "Actor: Scott Beach\n",
      "Films:\n",
      "- Bon Voyage, Charlie Brown (and Don't Come Back!!) (Waiter )\n",
      "- Bon Voyage, Charlie Brown (and Don't Come Back!!) ( Baron )\n",
      "- Bon Voyage, Charlie Brown (and Don't Come Back!!) ( Driver )\n",
      "- Bon Voyage, Charlie Brown (and Don't Come Back!!) ( Tennis Announcer )\n",
      "- Bon Voyage, Charlie Brown (and Don't Come Back!!) ( English Voice )\n",
      "- Bon Voyage, Charlie Brown (and Don't Come Back!!) ( American Male)\n",
      "- Chu Chu and the Philly Flash (Harry)\n",
      "- Getting Even with Dad (Wino)\n",
      "- Mrs. Doubtfire (Judge)\n",
      "- Out (Sailor)\n",
      "- Stand by Me (Mayor Grundy)\n",
      "- The Right Stuff (Chief Scientist)\n",
      "- To Be or Not to Be (Narrator)\n",
      "- Tucker: The Man and His Dream (Floyd Cerf)\n",
      "Actor: Lightning Bear\n",
      "Films:\n",
      "- Bad Blood (Man in Parking Lot)\n",
      "- Star Wars: Episode V - The Empire Strikes Back (Stormtrooper)\n",
      "Actor: Jon Berg\n",
      "Films:\n",
      "Actor: Doug Beswick\n",
      "Films:\n",
      "Actor: Paul (II) Blake\n",
      "Films:\n",
      "- The Second Victory (Cockney soldier)\n",
      "Actor: Phil Brown\n",
      "Films:\n",
      "- Chaplin (Projectionist)\n",
      "- Miss Beatty's Children (McBride)\n",
      "- Superman (State Senator)\n",
      "Actor: Ted Burnett\n",
      "Films:\n",
      "- A Hitch in Time (Executioner)\n",
      "- Britannia Hospital (Taxi Driver)\n",
      "- Let's Get Laid (Heavy)\n",
      "Actor: Eddie Byrne\n",
      "Films:\n",
      "- The Thief and the Cobbler (Hoof)\n",
      "Actor: John (V) Chapman\n",
      "Films:\n",
      "- Instant Death (Doctor)\n",
      "- Scrapper (Pistol Shooting Man)\n",
      "Actor: Tim Condren\n",
      "Films:\n",
      "- A View to a Kill (Thug at Stacey's House)\n",
      "- Burning an Illusion (Kerb Crawler)\n",
      "- Gentry (Doug)\n",
      "- Licensed to Love and Kill (Giant)\n",
      "- The Holcroft Covenant (Rescuer)\n",
      "Actor: Barry Copping\n",
      "Films:\n",
      "Actor: Alfie Curtis\n",
      "Films:\n",
      "- The Elephant Man (Milkman)\n",
      "- The Wildcats of St. Trinian's (Taxi Driver)\n",
      "Actor: Peter Cushing\n",
      "Films:\n",
      "- A Touch of the Sun (Commissioner Potts)\n",
      "- Arabian Adventure (Wazir Al Wuzara)\n",
      "- Asalto al casino (Sir Thomas Bedford)\n",
      "- Biggles (Air Commodore Colonel William Raymond)\n",
      "- Son of Hitler (Heinrich Haussner)\n",
      "- Sword of the Valiant: The Legend of Sir Gawain and the Green Knight (Seneschal - Gaspar)\n",
      "- Top Secret! (Bookstore Proprietor)\n",
      "Actor: Anthony Daniels\n",
      "Films:\n",
      "- Bruges-La-Morte (Pierrot)\n",
      "- Ralph Breaks the Internet: Wreck-It Ralph 2 (C-3PO)\n",
      "- Rogue One (C-3PO)\n",
      "- Star Wars: Episode I - The Phantom Menace (C-3PO)\n",
      "- Star Wars: Episode II - Attack of the Clones (C-3PO)\n",
      "- Star Wars: Episode II - Attack of the Clones (Dannl Faytonni)\n",
      "- Star Wars: Episode III - Revenge of the Sith (C-3PO)\n",
      "- Star Wars: Episode V - The Empire Strikes Back (C-3PO)\n",
      "- Star Wars: Episode VI - Return of the Jedi (C-3PO)\n",
      "- Star Wars: Episode VII - The Force Awakens (C-3PO)\n",
      "- Star Wars: The Clone Wars (C-3PO)\n",
      "- The LEGO Movie (C-3PO)\n",
      "- The Lord of the Rings (Legolas)\n",
      "Actor: Robert (V) Davies\n",
      "Films:\n",
      "Actor: Robert A. Denham\n",
      "Films:\n",
      "Actor: Frazer Diamond\n",
      "Films:\n",
      "Actor: Peter Diamond\n",
      "Films:\n",
      "- Highlander (Iman Fasil)\n",
      "- Ik ben Joep Meloen (Ober)\n",
      "- Nate and Hayes (Ben Pease Crew #4)\n",
      "- Raiders of the Lost Ark (German Soldier)\n",
      "- Star Wars: Episode V - The Empire Strikes Back (Snowtrooper Gunner)\n",
      "- Star Wars: Episode VI - Return of the Jedi (Biker Scout Pushed Off Bike)\n",
      "- Superman IV: The Quest for Peace (S.W.A.T. team member with melting gun)\n",
      "- Victor Victoria (Man in Bar)\n",
      "Actor: Warwick Diamond\n",
      "Films:\n",
      "Actor: Harry Fielder\n",
      "Films:\n",
      "- 101 Dalmatians (Passerby)\n",
      "- A Nightingale Sang in Berkeley Square (Policeman)\n",
      "- Agatha (Policeman)\n",
      "- Birth of the Beatles (Promoter)\n",
      "- Breaking Glass (Policeman in Riot Scene)\n",
      "- Dance with a Stranger (Partygoer)\n",
      "- Diana & Me (Bodyguard)\n",
      "- Empire State (Man in Club)\n",
      "- Entrapment (Stallholder)\n",
      "- Evita (Supporting artst Evita song)\n",
      "- FairyTale: A True Story (Stagehand in Theatre for Houdini)\n",
      "- First Knight (Bearded Villager)\n",
      "- Force 10 from Navarone (German)\n",
      "- Fords on Water (Policeman)\n",
      "- Hawks (Bouncers and Clients)\n",
      "- Highlander (Hospital Guard)\n",
      "- History of the World: Part I (Prison Guard)\n",
      "- Incognito (Policeman)\n",
      "- Loch Ness (Reporter)\n",
      "- McVicar (Harry Aitch)\n",
      "- Mission: Impossible (Car Driver)\n",
      "- Mona Lisa (Plainclothes Cop)\n",
      "- Pink Floyd: The Wall (Policeman)\n",
      "- Plenty (Road Worker)\n",
      "- Quadrophenia (Policeman)\n",
      "- Ragtime (Cop)\n",
      "- Raiders of the Lost Ark (German)\n",
      "- Reds (Russian)\n",
      "- Superman (Policeman)\n",
      "- Superman II (Cop)\n",
      "- Sweeney 2 (Cop in Hotel Bar)\n",
      "- The Bitch (Punter)\n",
      "- The Elephant Man (Policeman)\n",
      "- The Jackal (American Cop on Roof)\n",
      "- The Long Good Friday (Policeman)\n",
      "- The Man Who Knew Too Little (Photographer)\n",
      "- The Thirty-Nine Steps (Policeman)\n",
      "- Top Secret! (German Guard)\n",
      "- True Blue (Reporter on Boat)\n",
      "- Where Is Parsifal? (Man in Street)\n",
      "- Who Dares Wins (Policeman)\n",
      "- Wilde (Man in Courtroom)\n",
      "- Yanks (Soldier)\n",
      "Actor: Harrison Ford\n",
      "Films:\n",
      "- 42 (Branch Rickey)\n",
      "- Air Force One (President James Marshall)\n",
      "- Anchorman 2: The Legend Continues (Mack Tannen)\n",
      "- Apocalypse Now (Colonel Lucas)\n",
      "- Blade Runner (Rick Deckard)\n",
      "- Blade Runner 2049 (Rick Deckard)\n",
      "- Clear and Present Danger (Jack Ryan)\n",
      "- Cowboys & Aliens (Woodrow Dolarhyde)\n",
      "- Crossing Over (Max Brogan)\n",
      "- Ender's Game (Colonel Graff)\n",
      "- Extraordinary Measures (Dr. Stonehill)\n",
      "- Firewall (Jack Stanfield)\n",
      "- Force 10 from Navarone (Barnsby)\n",
      "- Frantic (Dr. Richard Walker)\n",
      "- Hanover Street (David Halloran)\n",
      "- Hollywood Homicide (Sgt. Joe Gavilan)\n",
      "- Indiana Jones and the Kingdom of the Crystal Skull (Indiana Jones)\n",
      "- Indiana Jones and the Last Crusade (Indiana Jones)\n",
      "- Indiana Jones and the Temple of Doom (Indiana Jones)\n",
      "- Jimmy Hollywood (Harrison Ford)\n",
      "- K-19: The Widowmaker (Capt. Alexei Vostrikov)\n",
      "- More American Graffiti (Officer Bob Falfa)\n",
      "- Morning Glory (Mike Pomeroy)\n",
      "- Paranoia (Jock Goddard)\n",
      "- Patriot Games (Jack Ryan)\n",
      "- Presumed Innocent (Rusty Sabich)\n",
      "- Raiders of the Lost Ark (Indy)\n",
      "- Random Hearts (Dutch Van Den Broeck)\n",
      "- Regarding Henry (Henry Turner)\n",
      "- Sabrina (Linus Larrabee)\n",
      "- Six Days Seven Nights (Quinn Harris)\n",
      "- Star Wars: Episode V - The Empire Strikes Back (Han Solo)\n",
      "- Star Wars: Episode VI - Return of the Jedi (Han Solo)\n",
      "- Star Wars: Episode VII - The Force Awakens (Han Solo)\n",
      "- The Age of Adaline (William Jones)\n",
      "- The Devil's Own (Tom O'Meara)\n",
      "- The Expendables 3 (Drummer)\n",
      "- The Frisco Kid (Tommy)\n",
      "- The Fugitive (Dr. Richard Kimble)\n",
      "- The Mosquito Coast (Allie Fox)\n",
      "- Untitled Indiana Jones Project (Indiana Jones)\n",
      "- Witness (John Book)\n",
      "- Working Girl (Jack Trainer)\n",
      "Actor: Ted Gagliano\n",
      "Films:\n",
      "Actor: Salo Gardner\n",
      "Films:\n",
      "- Broken (IV) (Old Man)\n",
      "- Dorian Gray (Slum down and out)\n",
      "- Hotel Splendide (Salo Thin)\n",
      "- Pan (Older Blackbeard)\n",
      "- Star Wars: Episode VII - The Force Awakens (Bar Patron)\n",
      "Actor: Steve Gawley\n",
      "Films:\n",
      "Actor: Barry Gnome\n",
      "Films:\n",
      "Actor: Rusty Goffe\n",
      "Films:\n",
      "- Ali G Indahouse (Dwarf)\n",
      "- Flash Gordon (Dwarf)\n",
      "- Fred Claus (Elf)\n",
      "- Fred Claus (Frosty the Barman)\n",
      "- Funny Bones (Bagpipe Playing Dwarf)\n",
      "- Harry Potter and the Deathly Hallows: Part 2 (Aged Gringotts' Goblin)\n",
      "- Harry Potter and the Half-Blood Prince (Gringott's Goblin)\n",
      "- Harry Potter and the Order of the Phoenix (Ministry of Magic Goblin)\n",
      "- Harry Potter and the Sorcerer's Stone (Gringott's Goblin)\n",
      "- History of the World: Part I (Le Muff - The French Revolution)\n",
      "- Mirrormask (Yellow Gnome)\n",
      "- Mrs Henderson Presents (Strongman)\n",
      "- U.F.O. (Henry VIII)\n",
      "- Willow (Nelwyn Villager)\n",
      "Actor: Isaac Grand\n",
      "Films:\n",
      "- Star Wars: Episode VI - Return of the Jedi (Gamorrean Guard)\n",
      "- The Love Child (Taxi Driver)\n",
      "Actor: Alec Guinness\n",
      "Films:\n",
      "- A Handful of Dust (Mr. Todd)\n",
      "- A Passage to India (Godbole)\n",
      "- Kafka (The Chief Clerk)\n",
      "- Little Dorrit (William Dorrit)\n",
      "- Lovesick (Sigmund Freud)\n",
      "- Raise the Titanic (John Bigalow)\n",
      "- Star Wars: Episode V - The Empire Strikes Back (Ben (Obi-Wan) Kenobi)\n",
      "- Star Wars: Episode VI - Return of the Jedi (Ben 'Obi-Wan' Kenobi)\n",
      "- Star Wars: Episode VII - The Force Awakens (Obi-Wan Kenobi)\n",
      "Actor: Garrick Hagon\n",
      "Films:\n",
      "- Almost Heaven (Promo Voice Over)\n",
      "- Balto (Telegraph Operator)\n",
      "- Batman (Tourist Dad)\n",
      "- Born to Ride (Jim Bridges, State Department Official)\n",
      "- Charlie and the Chocolate Factory (Denver Reporter)\n",
      "- Chasing Liberty (Secretary of State)\n",
      "- Country of My Skull (Pilot)\n",
      "- Cry Freedom (McElrea)\n",
      "- Erased (James Halgate)\n",
      "- Fade to Black (Ambassador Dunn)\n",
      "- Finding Rin Tin Tin (The General)\n",
      "- Is Anybody There? (Douglas)\n",
      "- Malice in Wonderland (Louis Dodgson)\n",
      "- Me and Orson Welles (Dr. Mewling)\n",
      "- Mission: Impossible (CNN Reporter)\n",
      "- Monsters of the Id (Hurricane)\n",
      "- Monsters of the Id (Nathan)\n",
      "- Murder Story (Ben Zonis)\n",
      "- Ninja (Professor Garrison)\n",
      "- Nowhere to Hide (William Devlin)\n",
      "- RED 2 (Davis)\n",
      "- Rolling Vengeance (Vic's Lawyer)\n",
      "- Rupan sansei (Goemon (1996 Manga dub))\n",
      "- Spy Game (CIA Director Cy Wilson)\n",
      "- Taking Sides (Major Richards)\n",
      "- The Fourth Angel (Duguay)\n",
      "- The Jacket (Defense Lawyer)\n",
      "- The Walker (Mungo Tenant)\n",
      "- The War of the Starfighters (Nathan Tenkade)\n",
      "- Venus Senki (Cop)\n",
      "- Venus Senki (Mechanic)\n",
      "- Yapian zhanzheng (Missionary)\n",
      "- Zwartboek (British General)\n"
     ]
    },
    {
     "name": "stdout",
     "output_type": "stream",
     "text": [
      "Actor: Nelson Hall\n",
      "Films:\n",
      "- Star Wars: Episode VI - Return of the Jedi (Doda Bodonawieedo)\n",
      "- Star Wars: Episode VI - Return of the Jedi (Boba Fett (special edition))\n",
      "Actor: Mark Hamill\n",
      "Films:\n",
      "- Back to the Sea (Bunker)\n",
      "- Batman: Mask of the Phantasm (The Joker)\n",
      "- Batman: The Killing Joke (The Joker)\n",
      "- Brigsby Bear (Ted Mitchum)\n",
      "- Britannia Hospital (Red: The Media)\n",
      "- Bunyan and Babe (Grandpa)\n",
      "- Con Man (Robert Minkow)\n",
      "- Corvette Summer (Kenneth W. Dantley Jr.)\n",
      "- Guyver (Max Reed)\n",
      "- Hamilton (Hawkins)\n",
      "- Howard Lovecraft & the Undersea Kingdom (Dr. Henry Armitage)\n",
      "- Jay and Silent Bob Strike Back (Cocknocker)\n",
      "- Kaze no tani no Naushika (Mayor of Pejite)\n",
      "- Kingsman: The Secret Service (Professor Arnold)\n",
      "- La chute des aigles (Peter Froehlich)\n",
      "- Laserhawk (Bob Sheridan)\n",
      "- Quantum Quest: A Cassini Space Odyssey (Void)\n",
      "- Reeseville (Zeek Oakman)\n",
      "- Repetition (II) (Himself)\n",
      "- Robotech: The Shadow Chronicles (Commander Taylor)\n",
      "- Robotech: The Shadow Chronicles (Haydonite)\n",
      "- Silk Degrees (Johnson)\n",
      "- Sinbad: Beyond the Veil of Mists (Captain of the Guard)\n",
      "- Slipstream (Tasker)\n",
      "- Star Wars: Episode IX (Luke Skywalker)\n",
      "- Star Wars: Episode V - The Empire Strikes Back (Luke Skywalker)\n",
      "- Star Wars: Episode VI - Return of the Jedi (Luke Skywalker)\n",
      "- Star Wars: Episode VII - The Force Awakens (Luke Skywalker)\n",
      "- Sushi Girl (Crow)\n",
      "- Terra (Elder Orin)\n",
      "- Thank You, Good Night (Karl, Lee's Father)\n",
      "- The Big Red One (Pvt. Griff - 1st Squad)\n",
      "- The Night the Lights Went Out in Georgia (Conrad)\n",
      "- The Raffle (Bernard Wallace)\n",
      "- Thru the Moebius Strip (Simon Weir)\n",
      "- Time Runner (Michael Raynor)\n",
      "- Virtually Heroes (Monk)\n",
      "- Walking Across Egypt (Lamar N. Benfield)\n",
      "- Wing Commander (Merlin)\n",
      "- Wolf Tracer's Dinosaur Island (Blake)\n",
      "Actor: Reg Harding\n",
      "Films:\n",
      "- Octopussy (Fisherman in Boat)\n",
      "- Raiders of the Lost Ark (German Lieutenant)\n",
      "Actor: Alan (III) Harris\n",
      "Films:\n",
      "- Bullshot (Hotel Guest)\n",
      "- Morons from Outer Space (Scientist)\n",
      "- Squeeze Play (Left Field)\n",
      "- Star Wars: Episode V - The Empire Strikes Back (Bossk)\n",
      "- Star Wars: Episode V - The Empire Strikes Back (Bespin Security Guard)\n",
      "- Star Wars: Episode VI - Return of the Jedi (Stormtrooper)\n",
      "- Superman (Man on Daily Planet rooftop)\n",
      "- The Living Daylights (Man Firing Ghetto Blaster)\n",
      "- Top Secret! (Streck's Aide)\n",
      "- Who Dares Wins (Security Guard)\n",
      "Actor: Don (II) Henderson\n",
      "Films:\n",
      "- As You Like It (The Dukes)\n",
      "- Blanc de Chine (Malcolm)\n",
      "- Brazil (First Black Maria Guard)\n",
      "- Carry on Columbus (The Bosun)\n",
      "- FairyTale: A True Story (Sydney Chalker)\n",
      "- How's Business (Mr. Bailey)\n",
      "- No Escape (Killian)\n",
      "- Preaching to the Perverted (Commander Cope)\n",
      "- Tank Malling (Percy)\n",
      "- The Adventures of Baron Munchausen (Commander)\n",
      "- The Big Sleep (Lou)\n",
      "- The Fool (Bob)\n",
      "- The Trial (Flogger)\n",
      "- The Wind in the Willows (The Sentry)\n",
      "- White Angel (Inspector Taylor)\n",
      "Actor: Drewe Henley\n",
      "Films:\n",
      "- Rogue One (Red Leader)\n",
      "Actor: Frank Henson\n",
      "Films:\n",
      "- Blue Ice (Terrorist)\n",
      "- Dot.Kill (Michael McEllroy)\n",
      "- Enemy Mine (Lump)\n",
      "- Half Moon Street (S.A.S. Man)\n",
      "- Safari 3000 (English Team)\n",
      "- The Film-Maker's Son (Watchman)\n",
      "Actor: William Hootkins\n",
      "Films:\n",
      "- A River Runs Through It (Murphy)\n",
      "- Bad Timing (Col. Taylor)\n",
      "- Batman (Lt. Eckhardt)\n",
      "- Biggles (Chuck Dinsmore)\n",
      "- Colour Me Kubrick: A True...ish Story (Frank Rich)\n",
      "- Crusoe (Auctioneer)\n",
      "- Curse of the Pink Panther (Taxi Driver)\n",
      "- Dear Wendy (Marshall Walker)\n",
      "- Die unendliche Geschichte III: Rettung aus Phantasien (Bark Troll)\n",
      "- Die unendliche Geschichte III: Rettung aus Phantasien (Falkor)\n",
      "- Dreamchild (1st Radio Actor)\n",
      "- Flash Gordon (Munson)\n",
      "- Funny Bones (Al)\n",
      "- Gospa (judge Marulic)\n",
      "- Hanover Street (Beef)\n",
      "- Hardware (Lincoln Wineberg Jr.)\n",
      "- Haunted Honeymoon (Reporter)\n",
      "- Hear My Song (Mr. X)\n",
      "- Hussy (1st. Punter)\n",
      "- Raiders of the Lost Ark (Major Eaton)\n",
      "- Something to Believe In (Car Dealer)\n",
      "- Sphinx (Don)\n",
      "- Superman IV: The Quest for Peace (Harry Howler)\n",
      "- The Cement Garden (Commander Hunt)\n",
      "- The Lady Vanishes (Party Guest)\n",
      "- The Miracle Maker (Lucifer)\n",
      "- The Omega Code (Sir Percival Lloyd)\n",
      "- The Pope Must Die (Cardinal Verucci)\n",
      "- This World, Then the Fireworks (Jake Krutz)\n",
      "- Town & Country (Barney)\n",
      "- Trail of the Pink Panther (Taxi Driver)\n",
      "- Water (Ben)\n",
      "- White Nights (Chuck Malarek)\n",
      "- Zina (Walter Adams)\n",
      "Actor: Arthur (II) Howell\n",
      "Films:\n",
      "Actor: Tommy Ilsley\n",
      "Films:\n",
      "Actor: Joe Johnston\n",
      "Films:\n",
      "- Star Wars: Episode V - The Empire Strikes Back (Captain Shawn Valdez - Hoth Rebel)\n",
      "- The Lawful Truth (Captain Waters)\n",
      "Actor: James Earl Jones\n",
      "Films:\n",
      "- A Family Thing (Ray Murdock)\n",
      "- A Mime's Life (Himself)\n",
      "- Allan Quatermain and the Lost City of Gold (Umslopogaas)\n",
      "- Best of the Best (Frank Couzo)\n",
      "- City Limits (Albert)\n",
      "- Clean Slate (John Dolby)\n",
      "- Clear and Present Danger (Adm. James Greer)\n",
      "- Click (Narrator of Michael's Past)\n",
      "- Coming to America (King Jaffe Joffer)\n",
      "- Conan the Barbarian (Thulsa Doom)\n",
      "- Convicts (Ben Johnson)\n",
      "- Cry, the Beloved Country (Rev. Stephen Kumalo)\n",
      "- Dreamrider (William Perry)\n",
      "- Driving Miss Daisy (Hoke)\n",
      "- Excessive Force (Jake)\n",
      "- Field of Dreams (Terence Mann)\n",
      "- Finder's Fee (Avery Phillips)\n",
      "- Freddie as F.R.O.7. (Narrator (American version))\n",
      "- Gang Related (Arthur Baylor)\n",
      "- Gardens of Stone ('Goody' Nelson)\n",
      "- Gimme Shelter (Frank McCarthy)\n",
      "- Good Luck (James Bing)\n",
      "- Jack and the Beanstalk (The Giant)\n",
      "- Jefferson in Paris (Madison Hemings)\n",
      "- Judge Dredd (Narrator)\n",
      "- Matewan (Few Clothes)\n",
      "- My Little Girl (Ike Bailey)\n",
      "- Naked Gun 33 1/3: The Final Insult (James Earl Jones)\n",
      "- On the Q.T. (Leo)\n",
      "- Patriot Games (Admiral Greer)\n",
      "- Pinocchio and the Emperor of the Night (Emperor of the Night)\n",
      "- Primary Colors (CNN Voiceover)\n",
      "- Quantum Quest: A Cassini Space Odyssey (Admiral)\n",
      "- Ramayana: The Legend of Prince Rama (Narrator)\n",
      "- Robots (Voice Box at Hardware Store)\n",
      "- Rogue One (Darth Vader)\n",
      "- Scary Movie 4 (Narrator)\n",
      "- Scorchers (Bear)\n",
      "- Sneakers (NSA Agent Bernard Abbott)\n",
      "- Sommersby (Judge Issacs)\n",
      "- Soul Man (Professor Banks)\n",
      "- Star Wars: Episode III - Revenge of the Sith (Darth Vader)\n",
      "- Star Wars: Episode V - The Empire Strikes Back (Darth Vader)\n",
      "- Star Wars: Episode VI - Return of the Jedi (Darth Vader)\n",
      "- The Angriest Man in Brooklyn (Ruben)\n",
      "- The Annihilation of Fish (Fish)\n",
      "- The Benchwarmers (Darth Vader)\n",
      "- The Bushido Blade (The Prisoner)\n",
      "- The Hunt for Red October (Admiral Greer)\n",
      "- The Lion King (Mufasa)\n",
      "- The Lion King (Mufasa)\n",
      "- The Meteor Man (Earnest Moses)\n",
      "- The Sandlot (Mr. Mertle)\n",
      "- Three Fugitives (Dugan)\n",
      "- True Identity (Himself)\n",
      "- Undercover Angel (The Judge)\n",
      "- Warning Shot (Pendleton)\n",
      "- Welcome Home, Roscoe Jenkins (Papa Jenkins)\n",
      "Actor: Joe Kaye\n",
      "Films:\n",
      "Actor: Colin Michael Kitchens\n",
      "Films:\n",
      "Actor: Jack Klaff\n",
      "Films:\n",
      "- 1871 (Cluseret)\n",
      "- Elemental Storage (Professor Phillip Hargrave)\n",
      "- For Your Eyes Only (Apostis)\n",
      "- Hotet (Mc Bready)\n",
      "- King David (Jonathan)\n",
      "Actor: Al Lampert\n",
      "Films:\n",
      "- Licensed to Love and Kill (Assistant)\n",
      "- The Killing Edge (Terminator Seven)\n",
      "- The Spaceman and King Arthur (NASA Technician)\n",
      "Actor: Denis Lawson\n",
      "Films:\n",
      "- Broken (IV) (Mr. Buckley)\n",
      "- Local Hero (Urquhart)\n",
      "- Perfect Sense (Boss)\n",
      "- Star Wars: Episode V - The Empire Strikes Back (Rebel Force Wedge (Rogue 3))\n",
      "- Star Wars: Episode VI - Return of the Jedi (Wedge)\n",
      "- The Chain (Keith)\n",
      "- The Machine (Thomson)\n",
      "- The Ride (II) (Tommy)\n",
      "- The Wee Man (Willie)\n",
      "Actor: Richard LeParmentier\n",
      "Films:\n",
      "- Octopussy (U.S. Aide)\n",
      "- Reds (Man Drinking with Pete Van Wherry)\n",
      "- Silver Dream Racer (Journalist)\n",
      "- Superman II (Reporter)\n",
      "- The Berlin Conspiracy (Colonel Gurnheim)\n",
      "- The Music Machine (Jay Reltano)\n",
      "- Who Framed Roger Rabbit (Lt. Santino)\n",
      "Actor: Laine Liska\n",
      "Films:\n",
      "Actor: Derek Lyons\n",
      "Films:\n",
      "- A Prayer for the Dying (Ferry Passenger)\n",
      "- A View to a Kill (Main Stike Mine Crew)\n",
      "- Absolute Beginners (Teddyboy)\n",
      "- Britannia Hospital (Patient)\n",
      "- Castaway (American Tourist)\n",
      "- Dance with a Stranger (Singer in Bar)\n",
      "- Death Wish 3 (Detective)\n",
      "- Defence of the Realm (Journalist)\n",
      "- Empire State (Julian Trustcard)\n",
      "- Flash Gordon (Arborian Priest Assistant)\n",
      "- Gandhi (Radio Reporter at Funeral)\n",
      "- Give My Regards to Broad Street (Actor)\n",
      "- GoldenEye (Casino Guest)\n",
      "- Greystoke: The Legend of Tarzan, Lord of the Apes (Footman)\n",
      "- Hawks (Disco Dancer)\n",
      "- Indiana Jones and the Last Crusade (German Soldier)\n",
      "- Krull (White Slayer with Tiger)\n",
      "- Loch Ness (Student Messenger)\n",
      "- Mona Lisa (Pinball Player)\n",
      "- Morons from Outer Space (Soldier)\n",
      "- Octopussy (US Air Force Base Officer)\n",
      "- Personal Services (Gay Boyfriend)\n",
      "- Plenty (Camera man)\n",
      "- Quadrophenia (Jimmy's Gang Member)\n",
      "- Ragtime (Assassin's Best Friend)\n",
      "- Richard III (Ballroom Dancer)\n",
      "- Supergirl (Argonian Citizen)\n",
      "- Superman II (American Soldier)\n",
      "- Superman III (Commuter)\n",
      "- Superman IV: The Quest for Peace (Russian Guard)\n",
      "- Tabloid (Policeman)\n",
      "- The Living Daylights (MI6 Agent)\n",
      "- The Lords of Discipline (Cpl. Beauentine)\n",
      "- The Mirror Crack'd (Queen's Guard)\n",
      "- The Missionary (Man on Bicycle)\n",
      "- The Razor's Edge (Second Man at Kissing Booth)\n",
      "- The Return of the Soldier (Hostile Soldier)\n",
      "- The Tall Guy (Singing Man in Bed)\n",
      "- The Young Visiters (Party Guest)\n",
      "- Top Secret! (German Soldier)\n",
      "- Victor Victoria (Dancer)\n",
      "- Who Framed Roger Rabbit (Drunk in Bar)\n",
      "- Yentl (Yeshiva Student)\n",
      "- Z-Listers (Peter - BBC Executive)\n",
      "Actor: Angus MacInnes\n",
      "Films:\n",
      "- Amen. (Tittman)\n",
      "- Atlantic City, USA (Vinnie)\n",
      "- Bedroom Eyes (Lathan)\n",
      "- Best Revenge (Wayne)\n",
      "- Captain Phillips (Maersk Alabama Crew)\n",
      "- Dirty Tricks (FBI Agent Jones)\n",
      "- Enigma (Commander Hammerbeck)\n",
      "- Eyes Wide Shut (Gateman #1)\n",
      "- Force 10 from Navarone (Reynolds)\n",
      "- Gross Anatomy (Dean Torrence)\n",
      "- Half Moon Street (Bill Rafferty)\n",
      "- Honor Bound (Jessup)\n",
      "- If You Could See What I Hear (Policeman)\n",
      "- Judge Dredd (Judge Silver)\n",
      "- Nothing Personal (Military Policeman #2)\n",
      "- Operation Delta Force 4: Deep Fault (Professor Hill)\n",
      "- Outland (Hughes)\n",
      "- Rhythm & Blues (Bad Daddy)\n",
      "- Rogue One (Gold Leader)\n",
      "- Spies Inc. (Vic)\n",
      "- Superman II (Prison Warden)\n",
      "- The 51st State (Pudsey Smith)\n",
      "- The Adventures of Bob & Doug McKenzie: Strange Brew (Jean LaRose)\n",
      "- The Black Dahlia (Capt. John Tierney)\n",
      "- The Jacket (Judge)\n",
      "- The Krays (Palendri)\n",
      "- Witness (Fergie)\n",
      "Actor: Mahjoub\n",
      "Films:\n"
     ]
    },
    {
     "name": "stdout",
     "output_type": "stream",
     "text": [
      "Actor: Alf Mangan\n",
      "Films:\n",
      "- Arabian Adventure (Sulan: Mauve Gang)\n",
      "- Dragonslayer (Urlander)\n",
      "Actor: Peter (II) Mayhew\n",
      "Films:\n",
      "- Fanboys (Himself)\n",
      "- Star Wars: Episode III - Revenge of the Sith (Chewbacca)\n",
      "- Star Wars: Episode V - The Empire Strikes Back (Chewbacca)\n",
      "- Star Wars: Episode VI - Return of the Jedi (Chewbacca)\n",
      "- Star Wars: Episode VII - The Force Awakens (Chewbacca)\n",
      "- Yesterday Was a Lie (Dead Man)\n",
      "Actor: Rick McCallum\n",
      "Films:\n",
      "- Star Wars: Episode I - The Phantom Menace (Naboo Courier)\n",
      "Actor: Alex McCrindle\n",
      "Films:\n",
      "- Comrades (Jailor)\n",
      "- Eye of the Needle (Tom)\n",
      "- The Peregrine Hunters (Hawkeye Brown)\n",
      "Actor: Grant McCune\n",
      "Films:\n"
     ]
    }
   ],
   "source": [
    "for name in actors:\n",
    "    other_roles = cast[(cast['name'] == name) & (cast['year']>1977)]\n",
    "    print(f\"Actor: {name}\")\n",
    "    print(\"Films:\")\n",
    "    \n",
    "    for index, row in other_roles.iterrows():\n",
    "        print(f\"- {row['title']} ({row['character']})\")\n",
    "            #row['title'])\n",
    "#other_roles"
   ]
  }
 ],
 "metadata": {
  "kernelspec": {
   "display_name": "Python 3 (ipykernel)",
   "language": "python",
   "name": "python3"
  },
  "language_info": {
   "codemirror_mode": {
    "name": "ipython",
    "version": 3
   },
   "file_extension": ".py",
   "mimetype": "text/x-python",
   "name": "python",
   "nbconvert_exporter": "python",
   "pygments_lexer": "ipython3",
   "version": "3.11.5"
  }
 },
 "nbformat": 4,
 "nbformat_minor": 5
}
