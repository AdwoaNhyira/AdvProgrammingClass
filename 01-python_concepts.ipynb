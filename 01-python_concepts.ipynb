{
 "cells": [
  {
   "cell_type": "markdown",
   "id": "9383bafa",
   "metadata": {},
   "source": [
    "### Python Programming Concepts"
   ]
  },
  {
   "cell_type": "markdown",
   "id": "17df7d6e",
   "metadata": {},
   "source": [
    "#### 1. Create a variable to store the value 500 for sales"
   ]
  },
  {
   "cell_type": "code",
   "execution_count": 1,
   "id": "a5f43c2f",
   "metadata": {},
   "outputs": [
    {
     "data": {
      "text/plain": [
       "500"
      ]
     },
     "execution_count": 1,
     "metadata": {},
     "output_type": "execute_result"
    }
   ],
   "source": [
    "sales = 500\n",
    "sales"
   ]
  },
  {
   "cell_type": "markdown",
   "id": "6dc8b9ea",
   "metadata": {},
   "source": [
    "#### 2. Create a variable to store several values:  \n",
    "* sales: 500, 475, 625\n",
    "* integers 1 - 9 "
   ]
  },
  {
   "cell_type": "code",
   "execution_count": 19,
   "id": "902fe3bd",
   "metadata": {},
   "outputs": [
    {
     "name": "stdout",
     "output_type": "stream",
     "text": [
      "[500, 475, 625]\n",
      "[1, 2, 3, 4, 5, 6, 7, 8, 9]\n"
     ]
    },
    {
     "data": {
      "text/plain": [
       "[1, 2, 3, 4, 5, 6, 7, 8, 9]"
      ]
     },
     "execution_count": 19,
     "metadata": {},
     "output_type": "execute_result"
    }
   ],
   "source": [
    "sales = [500,475,625]\n",
    "print(sales)\n",
    "\n",
    "\n",
    "integer = []\n",
    "for i in range(1,10):\n",
    "    integer.append(i)\n",
    "print (integer)\n",
    "\n",
    "#or \n",
    "integers = list(range(1,10))\n",
    "integers\n"
   ]
  },
  {
   "cell_type": "markdown",
   "id": "62e55953",
   "metadata": {},
   "source": [
    "#### 3. Create a variable to store the names and email addresses for a number of customers\n",
    "* John, john@some.com; Ann, ann@some.com"
   ]
  },
  {
   "cell_type": "code",
   "execution_count": 23,
   "id": "03f2b161",
   "metadata": {},
   "outputs": [
    {
     "data": {
      "text/plain": [
       "[{'name': 'John', 'email': 'john@some.com'},\n",
       " {'name': 'Ann', 'email': 'ann@some.com'}]"
      ]
     },
     "execution_count": 23,
     "metadata": {},
     "output_type": "execute_result"
    }
   ],
   "source": [
    "#user = []\n",
    "#name_email = []\n",
    "\n",
    "#name = input(\"What is your name? \")\n",
    "#email = input(\"What is your email\")\n",
    "\n",
    "\n",
    "#or \n",
    "cust = [{\"name\": \"John\", \"email\":\"john@some.com\"},{\"name\": \"Ann\", \"email\":\"ann@some.com\"}]\n",
    "cust"
   ]
  },
  {
   "cell_type": "markdown",
   "id": "d6b1e8c6",
   "metadata": {},
   "source": [
    "#### 4. Use Python to generate a random value based on each of following:\n",
    "1. between 0 and 1\n",
    "2. the standard normal distribution (rounded to two decimal places)\n",
    "3. a value between 1 and 10\n",
    "4. either H or T"
   ]
  },
  {
   "cell_type": "code",
   "execution_count": 31,
   "id": "f004d7b5",
   "metadata": {},
   "outputs": [
    {
     "data": {
      "text/plain": [
       "4"
      ]
     },
     "execution_count": 31,
     "metadata": {},
     "output_type": "execute_result"
    }
   ],
   "source": [
    "import random\n",
    "\n",
    "num1 = random.random()\n",
    "num1\n",
    "\n",
    "\n"
   ]
  },
  {
   "cell_type": "code",
   "execution_count": 35,
   "id": "a8efc6fc",
   "metadata": {},
   "outputs": [
    {
     "data": {
      "text/plain": [
       "-0.27158701307002614"
      ]
     },
     "execution_count": 35,
     "metadata": {},
     "output_type": "execute_result"
    }
   ],
   "source": [
    "random.gauss(0,1)"
   ]
  },
  {
   "cell_type": "code",
   "execution_count": 36,
   "id": "1a29e601",
   "metadata": {},
   "outputs": [
    {
     "data": {
      "text/plain": [
       "0.10356624948174292"
      ]
     },
     "execution_count": 36,
     "metadata": {},
     "output_type": "execute_result"
    }
   ],
   "source": [
    "random.normalvariate(0,1)"
   ]
  },
  {
   "cell_type": "code",
   "execution_count": 37,
   "id": "3a150c3e",
   "metadata": {},
   "outputs": [
    {
     "data": {
      "text/plain": [
       "5"
      ]
     },
     "execution_count": 37,
     "metadata": {},
     "output_type": "execute_result"
    }
   ],
   "source": [
    "random.randint(1,10)"
   ]
  },
  {
   "cell_type": "code",
   "execution_count": 39,
   "id": "f80f4b3b",
   "metadata": {},
   "outputs": [
    {
     "data": {
      "text/plain": [
       "'T'"
      ]
     },
     "execution_count": 39,
     "metadata": {},
     "output_type": "execute_result"
    }
   ],
   "source": [
    "random.choice([\"H\",\"T\"])"
   ]
  },
  {
   "cell_type": "code",
   "execution_count": 44,
   "id": "bdb52b86",
   "metadata": {},
   "outputs": [
    {
     "name": "stdout",
     "output_type": "stream",
     "text": [
      "THHHTTTTHT\n"
     ]
    },
    {
     "data": {
      "text/plain": [
       "['', 'HHH', '', '', '', 'H', '']"
      ]
     },
     "execution_count": 44,
     "metadata": {},
     "output_type": "execute_result"
    }
   ],
   "source": [
    "flips = ''\n",
    "for flip in range(10):\n",
    "    flips+= random.choice([\"H\",\"T\"])\n",
    "print(flips)\n",
    "flips.split('T')\n"
   ]
  },
  {
   "cell_type": "markdown",
   "id": "7eddf06a",
   "metadata": {},
   "source": [
    "#### 5. Use Python to determine your current working directory"
   ]
  },
  {
   "cell_type": "code",
   "execution_count": 48,
   "id": "d8f79474",
   "metadata": {},
   "outputs": [
    {
     "data": {
      "text/plain": [
       "<function nt.listdir(path=None)>"
      ]
     },
     "execution_count": 48,
     "metadata": {},
     "output_type": "execute_result"
    }
   ],
   "source": [
    "import os\n",
    "path= os.getcwd()\n",
    "\n",
    "os.listdir"
   ]
  },
  {
   "cell_type": "markdown",
   "id": "fc43ec50",
   "metadata": {},
   "source": [
    "#### 6. Use Python to determine how many days until New Year's Day"
   ]
  },
  {
   "cell_type": "code",
   "execution_count": 50,
   "id": "13f630fe",
   "metadata": {},
   "outputs": [
    {
     "data": {
      "text/plain": [
       "datetime.timedelta(days=350)"
      ]
     },
     "execution_count": 50,
     "metadata": {},
     "output_type": "execute_result"
    }
   ],
   "source": [
    "import datetime as dt\n",
    "today = dt.date.today()\n",
    "\n",
    "days_to_ny = dt.date(2025,1,1)\n",
    "\n",
    "days_to_ny - today"
   ]
  },
  {
   "cell_type": "markdown",
   "id": "2ba4ea92",
   "metadata": {},
   "source": [
    "#### 7. Write a short program that displays the future value of 1,000 earning 5%  at the end of each year for the next 5 years"
   ]
  },
  {
   "cell_type": "code",
   "execution_count": 54,
   "id": "6fef4a8c",
   "metadata": {},
   "outputs": [
    {
     "name": "stdout",
     "output_type": "stream",
     "text": [
      "Year                Value\n",
      "-------------------------\n",
      "1              1,050.00\n",
      "2              1,102.50\n",
      "3              1,157.63\n",
      "4              1,215.51\n",
      "5              1,276.28\n"
     ]
    }
   ],
   "source": [
    "pv = 1000\n",
    "rate = 0.05\n",
    "years = 5\n",
    "print(f\"{'Year': <15}{'Value':>10}\")\n",
    "print(\"-\"*25)\n",
    "    \n",
    "for year in range(1, years + 1):\n",
    "    print(f\"{year:<15d}{pv * (1+rate)**year:>,.2f}\")\n",
    "    "
   ]
  },
  {
   "cell_type": "markdown",
   "id": "150201c8",
   "metadata": {},
   "source": [
    "#### 8. Write a short program that prompts a user to enter a stock symbol and press enter. Add each symbol entered to a variable. The program should run until the user presses the enter key without entering anything (empty string) "
   ]
  },
  {
   "cell_type": "code",
   "execution_count": 11,
   "id": "931a346f",
   "metadata": {},
   "outputs": [
    {
     "name": "stdout",
     "output_type": "stream",
     "text": [
      "Enter stock symbol: ibm\n",
      "Enter stock symbol: \n",
      "['ibm']\n"
     ]
    }
   ],
   "source": [
    "var = []\n",
    "while True:\n",
    "    stck = input(\"Enter stock symbol: \")   \n",
    "    if stck == '':\n",
    "        break\n",
    "    var.append(stck)\n",
    "print(var)    \n",
    "    \n",
    "    \n",
    "    "
   ]
  },
  {
   "cell_type": "markdown",
   "id": "fc2a7592",
   "metadata": {},
   "source": [
    "#### 9. Write the code necessary to calculate the sum of the square differences of a group of values : \n",
    "58, 32, 37, 41, 36, 36, 54, 37, 25, 53\n",
    "##### $\\Sigma $(${x}$ - $\\bar{x}$)$^2$"
   ]
  },
  {
   "cell_type": "code",
   "execution_count": 19,
   "id": "5217c5f3",
   "metadata": {},
   "outputs": [
    {
     "name": "stdout",
     "output_type": "stream",
     "text": [
      "[292.41, 79.20999999999998, 15.209999999999988, 0.010000000000000285, 24.009999999999987, 24.009999999999987, 171.61000000000004, 15.209999999999988, 252.80999999999995, 146.41000000000003]\n",
      "Sum of the square differences: 1020.9000000000001\n"
     ]
    }
   ],
   "source": [
    "num=[58, 32, 37, 41, 36, 36, 54, 37, 25, 53]\n",
    "to_sum = []\n",
    "\n",
    "avg = sum(num)/len(num)\n",
    "for i in range(len(num)):\n",
    "    calc = (num[i] - avg)**2\n",
    "    to_sum.append(calc)\n",
    "print(to_sum)    \n",
    "sum_of_square_differences = sum(to_sum)\n",
    "\n",
    "# Print the result\n",
    "print(\"Sum of the square differences:\", sum_of_square_differences)"
   ]
  },
  {
   "cell_type": "markdown",
   "id": "89a7db2f",
   "metadata": {},
   "source": []
  },
  {
   "cell_type": "markdown",
   "id": "6d6f2e64",
   "metadata": {},
   "source": [
    "#### 10. Opening, reading and writing files"
   ]
  },
  {
   "cell_type": "code",
   "execution_count": 36,
   "id": "f7fa569d",
   "metadata": {},
   "outputs": [
    {
     "name": "stdout",
     "output_type": "stream",
     "text": [
      "Hello World, I am writing into a file\n"
     ]
    }
   ],
   "source": [
    "path = \"data/desolation_row.txt\"\n",
    "\n",
    "with open(path, 'r') as myfile:\n",
    "    data = myfile.read()\n",
    "    myfile.close()\n",
    "print(data)\n",
    "\n",
    "#file = open(\"myfile.txt\", \"w\")\n",
    "#sentence = \"Hello World, I am opening a file\"\n",
    "\n",
    "#file.write(sentence)\n",
    "#file.close()"
   ]
  },
  {
   "cell_type": "code",
   "execution_count": 35,
   "id": "29c98065",
   "metadata": {},
   "outputs": [
    {
     "name": "stdout",
     "output_type": "stream",
     "text": [
      "Hello World, I am writing into a file\n"
     ]
    }
   ],
   "source": [
    "#file = open(\"myfile.txt\", \"r\")\n",
    "#print(file.read())\n",
    "\n",
    "file = open(path, \"w\")\n",
    "sentence = \"Hello World, I am writing into a file\"\n",
    "\n",
    "file.write(sentence)\n",
    "file.close()\n",
    "\n",
    "file = open(path, \"r\")\n",
    "print(file.read())"
   ]
  },
  {
   "cell_type": "markdown",
   "id": "eec548d6",
   "metadata": {},
   "source": [
    "#### 11. Create a function the will simulate rolling two die and return the value of each and and the sum "
   ]
  },
  {
   "cell_type": "code",
   "execution_count": 29,
   "id": "bb115cdc",
   "metadata": {},
   "outputs": [
    {
     "name": "stdout",
     "output_type": "stream",
     "text": [
      "Value of first dice is 5 and value of second dice is 6\n",
      "Sum of values: 11\n"
     ]
    }
   ],
   "source": [
    "import random\n",
    "\n",
    "def die():\n",
    "    dice1 = random.randint(1,6)\n",
    "    dice2 = random.randint(1,6)\n",
    "\n",
    "    print(\"Value of first dice is\", dice1, \"and value of second dice is\", dice2)\n",
    "    add = dice1 + dice2\n",
    "    print(\"Sum of values:\", add)\n",
    "    \n",
    "die()"
   ]
  },
  {
   "cell_type": "markdown",
   "id": "21556d7f",
   "metadata": {},
   "source": [
    "#### 12. Write the code needed to evaluate whether a value in a group of values is negative or postive and prints an approriate message, i.e. postive, negative \n",
    "-1.59, 2.36, 1.69, 1.13, -0.91, 1.48, -0.34, 1.31, -0.74, 0.2"
   ]
  },
  {
   "cell_type": "code",
   "execution_count": 30,
   "id": "d6c38ecb",
   "metadata": {},
   "outputs": [
    {
     "name": "stdout",
     "output_type": "stream",
     "text": [
      "negative\n",
      "positive\n",
      "positive\n",
      "positive\n",
      "negative\n",
      "positive\n",
      "negative\n",
      "positive\n",
      "negative\n",
      "positive\n"
     ]
    }
   ],
   "source": [
    "num = [-1.59, 2.36, 1.69, 1.13, -0.91, 1.48, -0.34, 1.31, -0.74, 0.2]\n",
    "for i in range(len(num)):\n",
    "    if num[i] < 0:\n",
    "        print(\"negative\")\n",
    "    else:\n",
    "        print(\"positive\")"
   ]
  },
  {
   "cell_type": "code",
   "execution_count": null,
   "id": "aaefba17",
   "metadata": {},
   "outputs": [],
   "source": []
  },
  {
   "cell_type": "markdown",
   "id": "8cafe65c",
   "metadata": {},
   "source": [
    "#### 14.  Complete the following:\n",
    "1. Write a program that generates 500 random integers from 1 to n, for example, the first integer will be 1 the second will be 1 or 2, the fifth between 1 and 5, and so on.\n",
    "2. The program should write each integer to a file \n",
    "3. Once all integers are written close the file\n",
    "\n",
    "##### Part 2\n",
    "1. Open and read the file into a list\n",
    "2. Create a line plot of the data"
   ]
  },
  {
   "cell_type": "code",
   "execution_count": null,
   "id": "60a910bb",
   "metadata": {},
   "outputs": [],
   "source": [
    "#Part 1\n",
    "\n",
    "#could not figure it out"
   ]
  },
  {
   "cell_type": "code",
   "execution_count": 3,
   "id": "d6b4180c",
   "metadata": {},
   "outputs": [],
   "source": [
    "import matplotlib.pyplot as plt"
   ]
  },
  {
   "cell_type": "code",
   "execution_count": 5,
   "id": "adb6aa11",
   "metadata": {},
   "outputs": [],
   "source": [
    "import random\n",
    "file = open(\"data/numbers.txt\", \"w\")\n",
    "\n",
    "for number in range(1,500):\n",
    "    file.write(str(random.randint(1, number)) + \"\\n\")\n",
    "file.close()"
   ]
  },
  {
   "cell_type": "code",
   "execution_count": 6,
   "id": "6745da79",
   "metadata": {},
   "outputs": [],
   "source": [
    "data = []\n",
    "\n",
    "file = open(\"data/numbers.txt\", \"r\")\n",
    "for integer in file.readlines():\n",
    "    data.append(int(integer.strip()))\n",
    "    file.close()\n",
    "    data[-5:]"
   ]
  },
  {
   "cell_type": "code",
   "execution_count": 8,
   "id": "21140445",
   "metadata": {},
   "outputs": [
    {
     "data": {
      "image/png": "[encoded data removed]",
      "text/plain": [
       "<Figure size 640x480 with 1 Axes>"
      ]
     },
     "metadata": {},
     "output_type": "display_data"
    }
   ],
   "source": [
    "plt.plot(data);"
   ]
  },
  {
   "cell_type": "code",
   "execution_count": null,
   "id": "3d546600",
   "metadata": {},
   "outputs": [],
   "source": []
  }
 ],
 "metadata": {
  "kernelspec": {
   "display_name": "Python 3 (ipykernel)",
   "language": "python",
   "name": "python3"
  },
  "language_info": {
   "codemirror_mode": {
    "name": "ipython",
    "version": 3
   },
   "file_extension": ".py",
   "mimetype": "text/x-python",
   "name": "python",
   "nbconvert_exporter": "python",
   "pygments_lexer": "ipython3",
   "version": "3.11.5"
  }
 },
 "nbformat": 4,
 "nbformat_minor": 5
}
